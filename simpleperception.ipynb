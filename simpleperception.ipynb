{
  "nbformat": 4,
  "nbformat_minor": 0,
  "metadata": {
    "colab": {
      "name": "simpleperception.ipynb",
      "provenance": [],
      "authorship_tag": "ABX9TyO9H52zzlbWT2nUd6roEc4I",
      "include_colab_link": true
    },
    "kernelspec": {
      "name": "python3",
      "display_name": "Python 3"
    },
    "language_info": {
      "name": "python"
    }
  },
  "cells": [
    {
      "cell_type": "markdown",
      "metadata": {
        "id": "view-in-github",
        "colab_type": "text"
      },
      "source": [
        "<a href=\"https://colab.research.google.com/github/golesuman/66daysofdata/blob/main/simpleperception.ipynb\" target=\"_parent\"><img src=\"https://colab.research.google.com/assets/colab-badge.svg\" alt=\"Open In Colab\"/></a>"
      ]
    },
    {
      "cell_type": "code",
      "source": [
        "x_input=[0.1,0.2,0.5]\n",
        "w_weights=[0.4,0.3,0.6]\n",
        "threshold=0.5\n",
        "\n",
        "def step_function(weighted_sum):\n",
        "  if weighted_sum>threshold:\n",
        "    return 1\n",
        "  else:\n",
        "    return 0\n",
        "\n",
        "\n",
        "def percepton():\n",
        "  weighted_sum=0\n",
        "  for x,w in zip(x_input,w_weights):\n",
        "    weighted_sum+=x*w\n",
        "    print(weighted_sum)\n",
        "  return step_function(weighted_sum)\n",
        "output=percepton()\n",
        "print(f'Output:{str(output)}')"
      ],
      "metadata": {
        "id": "GJ95bezgnus1",
        "colab": {
          "base_uri": "https://localhost:8080/"
        },
        "outputId": "7ca00c84-8c9a-4f82-b7cc-7770b0b89fb6"
      },
      "execution_count": 4,
      "outputs": [
        {
          "output_type": "stream",
          "name": "stdout",
          "text": [
            "0.04000000000000001\n",
            "0.1\n",
            "0.4\n",
            "Output:0\n"
          ]
        }
      ]
    },
    {
      "cell_type": "code",
      "source": [
        ""
      ],
      "metadata": {
        "id": "Ue_v3m1Knvjk"
      },
      "execution_count": null,
      "outputs": []
    }
  ]
}