{
  "nbformat": 4,
  "nbformat_minor": 0,
  "metadata": {
    "colab": {
      "name": "YOLOv5 Tutorial",
      "provenance": [],
      "collapsed_sections": [],
      "include_colab_link": true
    },
    "kernelspec": {
      "name": "python3",
      "display_name": "Python 3"
    },
    "accelerator": "GPU",
    "widgets": {
      "application/vnd.jupyter.widget-state+json": {
        "eb95db7cae194218b3fcefb439b6352f": {
          "model_module": "@jupyter-widgets/controls",
          "model_name": "HBoxModel",
          "model_module_version": "1.5.0",
          "state": {
            "_view_name": "HBoxView",
            "_dom_classes": [],
            "_model_name": "HBoxModel",
            "_view_module": "@jupyter-widgets/controls",
            "_model_module_version": "1.5.0",
            "_view_count": null,
            "_view_module_version": "1.5.0",
            "box_style": "",
            "layout": "IPY_MODEL_769ecde6f2e64bacb596ce972f8d3d2d",
            "_model_module": "@jupyter-widgets/controls",
            "children": [
              "IPY_MODEL_384a001876054c93b0af45cd1e960bfe",
              "IPY_MODEL_dded0aeae74440f7ba2ffa0beb8dd612",
              "IPY_MODEL_5296d28be75740b2892ae421bbec3657"
            ]
          }
        },
        "769ecde6f2e64bacb596ce972f8d3d2d": {
          "model_module": "@jupyter-widgets/base",
          "model_name": "LayoutModel",
          "model_module_version": "1.2.0",
          "state": {
            "_view_name": "LayoutView",
            "grid_template_rows": null,
            "right": null,
            "justify_content": null,
            "_view_module": "@jupyter-widgets/base",
            "overflow": null,
            "_model_module_version": "1.2.0",
            "_view_count": null,
            "flex_flow": null,
            "width": null,
            "min_width": null,
            "border": null,
            "align_items": null,
            "bottom": null,
            "_model_module": "@jupyter-widgets/base",
            "top": null,
            "grid_column": null,
            "overflow_y": null,
            "overflow_x": null,
            "grid_auto_flow": null,
            "grid_area": null,
            "grid_template_columns": null,
            "flex": null,
            "_model_name": "LayoutModel",
            "justify_items": null,
            "grid_row": null,
            "max_height": null,
            "align_content": null,
            "visibility": null,
            "align_self": null,
            "height": null,
            "min_height": null,
            "padding": null,
            "grid_auto_rows": null,
            "grid_gap": null,
            "max_width": null,
            "order": null,
            "_view_module_version": "1.2.0",
            "grid_template_areas": null,
            "object_position": null,
            "object_fit": null,
            "grid_auto_columns": null,
            "margin": null,
            "display": null,
            "left": null
          }
        },
        "384a001876054c93b0af45cd1e960bfe": {
          "model_module": "@jupyter-widgets/controls",
          "model_name": "HTMLModel",
          "model_module_version": "1.5.0",
          "state": {
            "_view_name": "HTMLView",
            "style": "IPY_MODEL_9f09facb2a6c4a7096810d327c8b551c",
            "_dom_classes": [],
            "description": "",
            "_model_name": "HTMLModel",
            "placeholder": "​",
            "_view_module": "@jupyter-widgets/controls",
            "_model_module_version": "1.5.0",
            "value": "100%",
            "_view_count": null,
            "_view_module_version": "1.5.0",
            "description_tooltip": null,
            "_model_module": "@jupyter-widgets/controls",
            "layout": "IPY_MODEL_25621cff5d16448cb7260e839fd0f543"
          }
        },
        "dded0aeae74440f7ba2ffa0beb8dd612": {
          "model_module": "@jupyter-widgets/controls",
          "model_name": "FloatProgressModel",
          "model_module_version": "1.5.0",
          "state": {
            "_view_name": "ProgressView",
            "style": "IPY_MODEL_0ce7164fc0c74bb9a2b5c7037375a727",
            "_dom_classes": [],
            "description": "",
            "_model_name": "FloatProgressModel",
            "bar_style": "success",
            "max": 818322941,
            "_view_module": "@jupyter-widgets/controls",
            "_model_module_version": "1.5.0",
            "value": 818322941,
            "_view_count": null,
            "_view_module_version": "1.5.0",
            "orientation": "horizontal",
            "min": 0,
            "description_tooltip": null,
            "_model_module": "@jupyter-widgets/controls",
            "layout": "IPY_MODEL_c4c4593c10904cb5b8a5724d60c7e181"
          }
        },
        "5296d28be75740b2892ae421bbec3657": {
          "model_module": "@jupyter-widgets/controls",
          "model_name": "HTMLModel",
          "model_module_version": "1.5.0",
          "state": {
            "_view_name": "HTMLView",
            "style": "IPY_MODEL_473371611126476c88d5d42ec7031ed6",
            "_dom_classes": [],
            "description": "",
            "_model_name": "HTMLModel",
            "placeholder": "​",
            "_view_module": "@jupyter-widgets/controls",
            "_model_module_version": "1.5.0",
            "value": " 780M/780M [00:11&lt;00:00, 91.9MB/s]",
            "_view_count": null,
            "_view_module_version": "1.5.0",
            "description_tooltip": null,
            "_model_module": "@jupyter-widgets/controls",
            "layout": "IPY_MODEL_65efdfd0d26c46e79c8c5ff3b77126cc"
          }
        },
        "9f09facb2a6c4a7096810d327c8b551c": {
          "model_module": "@jupyter-widgets/controls",
          "model_name": "DescriptionStyleModel",
          "model_module_version": "1.5.0",
          "state": {
            "_view_name": "StyleView",
            "_model_name": "DescriptionStyleModel",
            "description_width": "",
            "_view_module": "@jupyter-widgets/base",
            "_model_module_version": "1.5.0",
            "_view_count": null,
            "_view_module_version": "1.2.0",
            "_model_module": "@jupyter-widgets/controls"
          }
        },
        "25621cff5d16448cb7260e839fd0f543": {
          "model_module": "@jupyter-widgets/base",
          "model_name": "LayoutModel",
          "model_module_version": "1.2.0",
          "state": {
            "_view_name": "LayoutView",
            "grid_template_rows": null,
            "right": null,
            "justify_content": null,
            "_view_module": "@jupyter-widgets/base",
            "overflow": null,
            "_model_module_version": "1.2.0",
            "_view_count": null,
            "flex_flow": null,
            "width": null,
            "min_width": null,
            "border": null,
            "align_items": null,
            "bottom": null,
            "_model_module": "@jupyter-widgets/base",
            "top": null,
            "grid_column": null,
            "overflow_y": null,
            "overflow_x": null,
            "grid_auto_flow": null,
            "grid_area": null,
            "grid_template_columns": null,
            "flex": null,
            "_model_name": "LayoutModel",
            "justify_items": null,
            "grid_row": null,
            "max_height": null,
            "align_content": null,
            "visibility": null,
            "align_self": null,
            "height": null,
            "min_height": null,
            "padding": null,
            "grid_auto_rows": null,
            "grid_gap": null,
            "max_width": null,
            "order": null,
            "_view_module_version": "1.2.0",
            "grid_template_areas": null,
            "object_position": null,
            "object_fit": null,
            "grid_auto_columns": null,
            "margin": null,
            "display": null,
            "left": null
          }
        },
        "0ce7164fc0c74bb9a2b5c7037375a727": {
          "model_module": "@jupyter-widgets/controls",
          "model_name": "ProgressStyleModel",
          "model_module_version": "1.5.0",
          "state": {
            "_view_name": "StyleView",
            "_model_name": "ProgressStyleModel",
            "description_width": "",
            "_view_module": "@jupyter-widgets/base",
            "_model_module_version": "1.5.0",
            "_view_count": null,
            "_view_module_version": "1.2.0",
            "bar_color": null,
            "_model_module": "@jupyter-widgets/controls"
          }
        },
        "c4c4593c10904cb5b8a5724d60c7e181": {
          "model_module": "@jupyter-widgets/base",
          "model_name": "LayoutModel",
          "model_module_version": "1.2.0",
          "state": {
            "_view_name": "LayoutView",
            "grid_template_rows": null,
            "right": null,
            "justify_content": null,
            "_view_module": "@jupyter-widgets/base",
            "overflow": null,
            "_model_module_version": "1.2.0",
            "_view_count": null,
            "flex_flow": null,
            "width": null,
            "min_width": null,
            "border": null,
            "align_items": null,
            "bottom": null,
            "_model_module": "@jupyter-widgets/base",
            "top": null,
            "grid_column": null,
            "overflow_y": null,
            "overflow_x": null,
            "grid_auto_flow": null,
            "grid_area": null,
            "grid_template_columns": null,
            "flex": null,
            "_model_name": "LayoutModel",
            "justify_items": null,
            "grid_row": null,
            "max_height": null,
            "align_content": null,
            "visibility": null,
            "align_self": null,
            "height": null,
            "min_height": null,
            "padding": null,
            "grid_auto_rows": null,
            "grid_gap": null,
            "max_width": null,
            "order": null,
            "_view_module_version": "1.2.0",
            "grid_template_areas": null,
            "object_position": null,
            "object_fit": null,
            "grid_auto_columns": null,
            "margin": null,
            "display": null,
            "left": null
          }
        },
        "473371611126476c88d5d42ec7031ed6": {
          "model_module": "@jupyter-widgets/controls",
          "model_name": "DescriptionStyleModel",
          "model_module_version": "1.5.0",
          "state": {
            "_view_name": "StyleView",
            "_model_name": "DescriptionStyleModel",
            "description_width": "",
            "_view_module": "@jupyter-widgets/base",
            "_model_module_version": "1.5.0",
            "_view_count": null,
            "_view_module_version": "1.2.0",
            "_model_module": "@jupyter-widgets/controls"
          }
        },
        "65efdfd0d26c46e79c8c5ff3b77126cc": {
          "model_module": "@jupyter-widgets/base",
          "model_name": "LayoutModel",
          "model_module_version": "1.2.0",
          "state": {
            "_view_name": "LayoutView",
            "grid_template_rows": null,
            "right": null,
            "justify_content": null,
            "_view_module": "@jupyter-widgets/base",
            "overflow": null,
            "_model_module_version": "1.2.0",
            "_view_count": null,
            "flex_flow": null,
            "width": null,
            "min_width": null,
            "border": null,
            "align_items": null,
            "bottom": null,
            "_model_module": "@jupyter-widgets/base",
            "top": null,
            "grid_column": null,
            "overflow_y": null,
            "overflow_x": null,
            "grid_auto_flow": null,
            "grid_area": null,
            "grid_template_columns": null,
            "flex": null,
            "_model_name": "LayoutModel",
            "justify_items": null,
            "grid_row": null,
            "max_height": null,
            "align_content": null,
            "visibility": null,
            "align_self": null,
            "height": null,
            "min_height": null,
            "padding": null,
            "grid_auto_rows": null,
            "grid_gap": null,
            "max_width": null,
            "order": null,
            "_view_module_version": "1.2.0",
            "grid_template_areas": null,
            "object_position": null,
            "object_fit": null,
            "grid_auto_columns": null,
            "margin": null,
            "display": null,
            "left": null
          }
        }
      }
    }
  },
  "cells": [
    {
      "cell_type": "markdown",
      "metadata": {
        "id": "view-in-github",
        "colab_type": "text"
      },
      "source": [
        "<a href=\"https://colab.research.google.com/github/golesuman/66daysofdata/blob/main/Day65/facemaskdetection.ipynb\" target=\"_parent\"><img src=\"https://colab.research.google.com/assets/colab-badge.svg\" alt=\"Open In Colab\"/></a>"
      ]
    },
    {
      "cell_type": "markdown",
      "metadata": {
        "id": "t6MPjfT5NrKQ"
      },
      "source": [
        "<a align=\"left\" href=\"https://ultralytics.com/yolov5\" target=\"_blank\">\n",
        "<img width=\"1024\", src=\"https://user-images.githubusercontent.com/26833433/125273437-35b3fc00-e30d-11eb-9079-46f313325424.png\"></a>\n",
        "\n",
        "This is the **official YOLOv5 🚀 notebook** by **Ultralytics**, and is freely available for redistribution under the [GPL-3.0 license](https://choosealicense.com/licenses/gpl-3.0/). \n",
        "For more information please visit https://github.com/ultralytics/yolov5 and https://ultralytics.com. Thank you!"
      ]
    },
    {
      "cell_type": "markdown",
      "metadata": {
        "id": "7mGmQbAO5pQb"
      },
      "source": [
        "# Setup\n",
        "\n",
        "Clone repo, install dependencies and check PyTorch and GPU."
      ]
    },
    {
      "cell_type": "code",
      "source": [
        "!unzip facemask.zip"
      ],
      "metadata": {
        "colab": {
          "base_uri": "https://localhost:8080/"
        },
        "id": "hxXncPg1QeAS",
        "outputId": "9db9538b-550a-4b7c-8653-f4546ed392c3"
      },
      "execution_count": 1,
      "outputs": [
        {
          "output_type": "stream",
          "name": "stdout",
          "text": [
            "Archive:  facemask.zip\n",
            " extracting: test/images/1288126-10255706714jpg_jpg.rf.ed230c79fdbb1fa0650ff4fd32f620ee.jpg  \n",
            " extracting: test/images/shutterstock_1627199179_jpg.rf.350e69105dd1458572a590c3e3ef2538.jpg  \n",
            " extracting: test/images/15391513324714o1n0r10n6_jpg.rf.eb6b6b796ad74b0c9d75011d1020f0af.jpg  \n",
            " extracting: train/images/1125506397_15801322206131n_jpg.rf.0a60284a71b2d0ed77c002e768b39b00.jpg  \n",
            " extracting: test/images/1579924271_jpg.rf.1fea0f43731fbea2876f63135256004f.jpg  \n",
            " extracting: train/images/1_R_kFK9pNLfKAuopY_lAaPQ_jpeg.rf.030922effaedbead963acea666441dbd.jpg  \n",
            " extracting: test/images/1224331650_g_400-w_g_jpg.rf.483a35a2395bf48e96783587a59fe876.jpg  \n",
            " extracting: train/images/11893820-3x2-xlarge_jpg.rf.1529b09bfee7d069f677ff513f6249eb.jpg  \n",
            " extracting: train/images/r1p00017o80q34s9781_jpg.rf.1ef0de5c875f7e73138d8c9f988eb12e.jpg  \n",
            " extracting: test/images/w1240-p16x9-0e48e0098f6e832f27d8b581b33bbc72b9967a63_jpg.rf.b94576bb6f17f4efb5f582ffd9cf9077.jpg  \n",
            " extracting: train/images/130624011830-malaysia-smog-students-horizontal-large-gallery_jpg.rf.1d1478ec7b2667aa240401f636d513c4.jpg  \n",
            " extracting: test/images/w1240-p16x9-2019-10-04t075956z_1862636027_rc15d4d49d00_rtrmadp_3_hongkong-protests_jpg.rf.a9a2c2a1cb13c980b339065d2324ea7d.jpg  \n",
            " extracting: test/images/126202-untitled-design-13_jpg.rf.baa3d2e55d469ae5d5d4cd81c4603e1d.jpg  \n",
            " extracting: train/images/pollution-mask-CE5HYF_jpg.rf.1d7683c780033e0e32a5ad9d0e1aef33.jpg  \n",
            " extracting: train/images/0_8w7mkX-PHcfMM5s6_jpeg.rf.039eb72a4757882968537a6ae94d198f.jpg  \n",
            " extracting: test/images/the-first-day-of-wuhan-s-closure-some-people-fled-some-panicked_jpg.rf.51ed69bf8d327d93b429a08581f6dea0.jpg  \n",
            " extracting: test/images/r1p00017o8171pnq407_jpg.rf.d21dd91220d3df7763f7d572f3d95863.jpg  \n",
            " extracting: train/images/1249493_jpg.rf.0bab72e6f8295a2ba03052383e7c3b7b.jpg  \n",
            " extracting: test/images/RTX7CCFN_jpg.rf.501a9e3af09662fc1fbd288a32904267.jpg  \n",
            " extracting: test/images/15391513329330sooq10859_jpg.rf.bf9e791012521a572a3a7f2979d0dffe.jpg  \n",
            " extracting: train/images/1_13_jpg.rf.042a2d0121bd5b62e8dd83506ea5ffc1.jpg  \n",
            " extracting: test/images/w1240-p16x9-fa978043deff83fed485af12d16e39c61398fc30_jpg.rf.e68ac161036e4bffd3538903b28c721e.jpg  \n",
            " extracting: test/images/phplpE73q_jpg.rf.0ab5de066db2a3791b039388014565fe.jpg  \n",
            " extracting: train/images/smartmi-3pcs-filter-mask-pm25-haze-dustproof-mask-with-vent_jpg.rf.23ce84d0cd7de25d814655d908bf475d.jpg  \n",
            " extracting: train/images/pjecDNMmCUQmbDoJx1fdqolnfHtpsfFK8jTA2Ng0wNg_jpeg.rf.001be2b5923d35fa3118de329f14f583.jpg  \n",
            " extracting: train/images/1024x576_939430607723_jpg.rf.37f5013ec76b10fb64a6d8623a22ab92.jpg  \n",
            " extracting: train/images/000b7b75-1600_jpg.rf.35b739ea6899972b07aab7225d341307.jpg  \n",
            " extracting: test/images/0_Concern-In-China-As-Mystery-Virus-Spreads_jpg.rf.5633f5fe7a9b926101b7fc16615dfb6a.jpg  \n",
            " extracting: train/images/RTX7CD4D-e1580252893876_jpg.rf.34b2faf56bf74f6c3edd88422a37355e.jpg  \n",
            " extracting: train/images/1125506397_15801322207071n_jpg.rf.28329b8b808690e5537d9bde5b8a0d91.jpg  \n",
            " extracting: train/images/101d6660a8974050b613dd2e6bd59390_jpg.rf.52e1b68968d7307fab23c6bf5fc3cbbe.jpg  \n",
            " extracting: train/images/0602623232127-web-tete_jpg.rf.52602cb4d68c74a35808c767926ab622.jpg  \n",
            " extracting: train/images/0200b38c89b16c37c5de8e247bb00c2f_jpg.rf.4868c78878c91c2c7cc7062e90de7658.jpg  \n",
            " extracting: train/images/UDD3JG3E4JFQ5KSFNGQQ5REINU_jpg.rf.29625775de24b7ffdcccaf143b546669.jpg  \n",
            " extracting: train/images/1140-travelers-at-hong-kong-airport_jpg.rf.4dac1dff15755783b3941a24fcdd12ae.jpg  \n",
            " extracting: train/images/1580128422_jpg.rf.4496b0fe4afc307aa32966c8180bab49.jpg  \n",
            " extracting: train/images/upload-productImg-1527496119162_320_234_jpeg.rf.2630f815b6cc48c80dd42bf539300d26.jpg  \n",
            " extracting: train/images/PHOTriZgIKIgsnNLdBJG75vj200203_1000x2000_jpg.rf.4dfc80ae4acc533c6120e47dd8e7fb1f.jpg  \n",
            " extracting: train/images/shutterstock_584407723_jpg.rf.5535c41d1928154d8b5449d970e8a93f.jpg  \n",
            " extracting: train/images/pic_list_out_2285_jpg.rf.397939882d421310a89ac13b244c8a6e.jpg  \n",
            " extracting: train/images/1024x737_09186876046_jpg.rf.4197293e6ba3db18b6fbb185616dab6c.jpg  \n",
            " extracting: train/images/r1000019q679o5611r7_jpg.rf.4c8be6ea5c4f336654cb6f5bdb7db393.jpg  \n",
            " extracting: train/images/003_1024_jpeg.rf.3d3235de8495eb432dc3c54d17287980.jpg  \n",
            " extracting: train/images/1580053154-5839_jpg.rf.54f3c805dfdfed25f320f6a5bba80000.jpg  \n",
            " extracting: train/images/1579683152-0e3ba5698b090c0fda95caa5d2aa7b31_jpg.rf.3c5a6909252cc8ad7538ddb3b6a8c10d.jpg  \n",
            " extracting: train/images/phppaNXxb_jpg.rf.5778b5bbecd03d86b9a529fa381adccf.jpg  \n",
            " extracting: train/images/rawImage_jpg.rf.5b637f36f129574b6e0931ecd3f63f7e.jpg  \n",
            " extracting: train/images/-1x-1_jpg.rf.69d9b61e3cdb8a9047dad25099fcc8ef.jpg  \n",
            " extracting: train/images/soo(1)_jpg.rf.5ccb9b3550a3813e3023a3bb32a53904.jpg  \n",
            " extracting: train/images/soooo_jpg.rf.6e7754eae524b488b9d6cbacaa578592.jpg  \n",
            " extracting: train/images/W37H3GWNO5EV5HTJQNP4KLIRGI_jpg.rf.71c3c2741aa5f60a7d0a569679b2796c.jpg  \n",
            " extracting: train/images/135e-huxwryw6451820_jpg.rf.7119d8f128c2493e3340654b03e2b6e3.jpg  \n",
            " extracting: train/images/purchase-reauisition-5de4d0f99c77d_jpg.rf.656f7e39f5600537f91019731c9b25fc.jpg  \n",
            " extracting: train/images/stsciRq_png.rf.66178fabcc0b39f7ec45ba1ff1b5d535.jpg  \n",
            " extracting: train/images/TB2R28UvUOWBKNjSZKzXXXfWFXa_!!1116877752_jpg.rf.68b5da162013bf7f4301937f553139a5.jpg  \n",
            " extracting: train/images/Smog-Mask-PM2-5-Carbon-Filter-Face-Masks-Fog-Dust-Air-Cleaner-anti-pollution-Face-Protector_jpg.rf.6cfed8b6d7c3b9b71b2d6cd8e83da420.jpg  \n",
            " extracting: train/images/US-expands-coronavirus-screenings-United-suspends-some-flights-to-China_jpg.rf.7684e0ecdea4004bc109f5482badee55.jpg  \n",
            " extracting: train/images/1580048340614_jpg.rf.83b5517bbfbf2e2ac0b103bec1bd4dfd.jpg  \n",
            " extracting: train/images/1303078448-China-Coronavirus-Death-Toll-Hits-304_jpg.rf.867ecfe8a19d95c4f6a3a59f0bcc963e.jpg  \n",
            " extracting: train/images/1155x768_20200129000089_jpg.rf.73137126ad09e8cf09315eb31ea51592.jpg  \n",
            " extracting: train/images/001_1024_jpeg.rf.82de51e9c6db87b2941a34e6c65de14a.jpg  \n",
            " extracting: train/images/1030611863_jpg.rf.7edae200febe5a5160fede9478f3e591.jpg  \n",
            " extracting: train/images/1029731146_jpg.rf.79ab2cda85860fd020cfdc660f6368ec.jpg  \n",
            " extracting: train/images/004_1024_jpeg.rf.8387cade019b2c139de783457af677ae.jpg  \n",
            " extracting: train/images/shutterstock_289132226_jpg.rf.749c60ddb7bf3d9db9313ff21cb80f77.jpg  \n",
            " extracting: train/images/1579928067_250120120154270000005e2bca03bf464_jpg.rf.8f9bd39325ed77b8f7d31f4847f1f2bb.jpg  \n",
            " extracting: train/images/unnamed_jpg.rf.8bacd81300f96cc2abf8845595a2e160.jpg  \n",
            " extracting: train/images/thumbnail-ba5c72edb320b49a69e86b05775c49b2-scaled-1_jpeg.rf.895025faf5bf05dfb07e227090cb5d56.jpg  \n",
            " extracting: train/images/IMG_5690 2_jpg.rf.7198a97a65ae7dde21284ca6e356f7a8.jpg  \n",
            " extracting: train/images/1000x-1_jpg.rf.8ec74a748fd78ac625bf40b9cc3f276d.jpg  \n",
            " extracting: train/images/1152x768_246964803156_jpg.rf.93e4584edd0a741914cf795c2087200d.jpg  \n",
            " extracting: train/images/thai_cov-transmission030220_jpg.rf.91be1af29fa03c14769c8547e6b38978.jpg  \n",
            " extracting: train/images/1482202839575_jpg.rf.96a5e5e802e33ad574636b271b779c99.jpg  \n",
            " extracting: train/images/so(19)_jpg.rf.97eeeb08001d4cbdb544ac3a57ff5ef3.jpg  \n",
            " extracting: train/images/TASS38012699_jpg.rf.92600e25dc48c12c43d41929c45756ac.jpg  \n",
            " extracting: train/images/r1000019q689461s9r0_jpg.rf.a9a68a09d726331332a9a5eb0087e5b9.jpg  \n",
            " extracting: train/images/w1240-p16x9-5f8aa310737f8e0e6c43d95a68a82b03b6f60106_jpg.rf.a456219c83b48269ce5adb48d513a350.jpg  \n",
            " extracting: train/images/sdsdsff_jpg.rf.a8a15416549f7048fee1764231a9d0eb.jpg  \n",
            " extracting: train/images/012420_coronoa_masks_web_jpg.rf.aa87c46891116535f04447105006c814.jpg  \n",
            " extracting: train/images/125895-untitled-design-30_jpg.rf.ac571fc87624d715f65c707a55fb6bc8.jpg  \n",
            " extracting: train/images/0002526673_jpg.rf.a13de6faa0e2e5250d913ccf27b4c769.jpg  \n",
            " extracting: train/images/ST_20190917_SPTHAZE_5120715_jpg.rf.a9db11227a9e6e324c5a57d0ad8716cd.jpg  \n",
            " extracting: train/images/sgssgg_jpeg.rf.a62f9109a5f44bf8f88b9fd632b8e4de.jpg  \n",
            " extracting: train/images/RZXE24HFK5GSVKVSN57VCVPQ4M_jpg.rf.9fa4f828cb9b4ee616446dff730d55f8.jpg  \n",
            " extracting: train/images/virus_protection123_jpg.rf.b863088fea960d1630687e0d59cbce9a.jpg  \n",
            " extracting: train/images/15-08608-001_jpg.rf.b6002e422a9fa0b261b1c038574326d8.jpg  \n",
            " extracting: train/images/virus_jpg.rf.b9f52d79c98588703b7d55cfc9cd7a78.jpg  \n",
            " extracting: train/images/rally-against-an-anti-mask-law-meant-to-deter-anti-government-protesters-in-hong-kong-china-shutterstock-editorial-10435716z_jpg.rf.c062c7b234046ead0701f794e6311faf.jpg  \n",
            " extracting: train/images/PRI_129079114_1580299603_195_jpg.rf.bdee5eb2f33604b0a266cb99611d37a4.jpg  \n",
            " extracting: train/images/012106_jpg_1140x855_jpg.rf.b2002b96c6972613f93d98f69f0efdee.jpg  \n",
            " extracting: train/images/0450908675_50159485_mutation-virus-chine-inquietude_jpg.rf.9c1d5309c1b4ecea3fda137b207462df.jpg  \n",
            " extracting: train/images/r1p00017o8357s6sno6_jpg.rf.adeceb3bde01bf771fb86d3494cdc1c6.jpg  \n",
            " extracting: train/images/-I1-MS09uaqsLdGTFkgnS0Rcg1mmPyAj95ySg_eckoM_jpeg.rf.b60002517c9371bba207314a49452cf1.jpg  \n",
            " extracting: train/images/so(24) (1)_jpg.rf.c3be9c3a5b0a4cfc31163890ef75878a.jpg  \n",
            " extracting: train/images/w1240-p16x9-6f1db5e0460631cfa98d2d6d8032942f81700bb0_jpg.rf.c35a2f1369d4d99b16a229d0f0d443e4.jpg  \n",
            " extracting: train/images/1422808187-3291816118_jpg.rf.c4f6e44a8611a820f164374b8cc11c17.jpg  \n",
            " extracting: train/images/0209-00176-076b1_jpg.rf.c95d18e12451276a0312e27c9389ef4c.jpg  \n",
            " extracting: train/images/skynews-coronavirus-london-fashion-week_4920359_jpg.rf.cc22ab2e0f2d8f3472a7ddcfa6177fb7.jpg  \n",
            " extracting: train/images/ST_20170401_EASAND_3046471_jpg.rf.ca0eebad80feebefc05d7c52c0f11d65.jpg  \n",
            " extracting: train/images/1477443223-1445746883_jpg.rf.c73a19f37296ace6c3cd12ba54eec28a.jpg  \n",
            " extracting: train/images/1-200102094256105_png.rf.d2ed0c139e4e35ee8889a3a8379348fb.jpg  \n",
            " extracting: train/images/PhotoGrid_1580452532909_jpg.rf.d262d228da16f4c2dd6e613288aee5df.jpg  \n",
            " extracting: train/images/0_10725_jpg.rf.cde494b05911f991c3cc31c8670044b9.jpg  \n",
            " extracting: train/images/RTX1GIDS_jpg.rf.dcc330d53db202ef81677d14e4e30cd9.jpg  \n",
            " extracting: train/images/1288788-une-employee-aide-des-voyageurs-en-provenance-de-chine-le-26-janvier-2020-a-l-aeroport-de-roissy_jpg.rf.d47cf1cb16e3f73965871b18e510cf8b.jpg  \n",
            " extracting: train/images/1125506397_15801322207531n_jpg.rf.e14312be41c570c14c752fd250256aa3.jpg  \n",
            " extracting: train/images/1553605632_9d5877d8_60_jpg.rf.dac19d9ceded61285f48c70d285f0f49.jpg  \n",
            " extracting: train/images/1580173904-0001oc33f_jpg.rf.e46d2ed9d2510b71264546bc047bf9df.jpg  \n",
            " extracting: train/images/1539151332674193npsrq70_jpg.rf.e5f5500c15efd9f28d6bb2536dbba4fe.jpg  \n",
            " extracting: train/images/r1p00017o82psp0o0or_jpg.rf.f0f90c07761eece753f02beac72d5efe.jpg  \n",
            " extracting: train/images/1042977068_jpg.rf.ee48a69fd6f710987596e8fdd2eea713.jpg  \n",
            " extracting: train/images/1133x768_20200130000023_jpg.rf.e8a099312aa174af48c5914c4986f91a.jpg  \n",
            " extracting: train/images/sars-gettyimages-157005245_jpg.rf.e6d5283c235edb22b1eb63fc0f8e47e9.jpg  \n",
            " extracting: train/images/000_1ov3n5_0_jpeg.rf.edad89426b118f4c76ba4ae3790b3f31.jpg  \n",
            " extracting: train/images/remote (1)_jpeg.rf.f2472419ac8ebfc38ba9bb5e215e11f8.jpg  \n",
            " extracting: valid/images/0009S6815V3PEU1N-C123-F4_jpg.rf.128ad940f96aa8fa5174093ddb7ae5ee.jpg  \n",
            " extracting: train/images/Untitled-design-13_png.rf.ff8d68dfee2ede269856144ec3380659.jpg  \n",
            " extracting: valid/images/0ad90195-cd77-489e-bf85-08c83b80d3e0_jpg.rf.006de569e2242cb425b5f931c5e0f8be.jpg  \n",
            " extracting: train/images/Surgical-Mask-Effectiveness_jpg.rf.f1df6e057fc624a11625a316cc488d98.jpg  \n",
            " extracting: train/images/sdfsdfsfff_jpg.rf.de8549155f84a7f30cd5f9f88f6c58b3.jpg  \n",
            " extracting: train/images/skypost16012020a01s_jpg.rf.f6eebdde4cc1270b8719743d530adae5.jpg  \n",
            " extracting: valid/images/r1400018548960op29s_jpg.rf.1aa9ecf11eb6e101f0bbdf0c3048702c.jpg  \n",
            " extracting: valid/images/1125506397_15801322206581n_jpg.rf.3c089d43976a3dd3b0dfab58bdcac999.jpg  \n",
            " extracting: valid/images/shutterstock_1145933543-e1579497052960_jpg.rf.484e9b9fdec9aa67a63d08df3958cba6.jpg  \n",
            " extracting: valid/images/w1240-p16x9-coronavirus_CHINA-HEALTH_jpg.rf.095ad216d07f4d521dbd956834f793ea.jpg  \n",
            " extracting: valid/images/002_1024_jpeg.rf.21167ff8a675d17c91a8c57a5269dad7.jpg  \n",
            " extracting: valid/images/r1000019q669394n9qp_jpg.rf.4ea90092a57dfae9753bfdad3193ea2c.jpg  \n",
            " extracting: valid/images/000_1OC3DT_jpg.rf.3d1fb8e38f21ec81247c6c3850038888.jpg  \n",
            " extracting: train/images/1580166133-5b61094cac11561b0cbe09826e32a924_jpg.rf.fd801022283d5bce8079887db2ef980c.jpg  \n",
            " extracting: valid/images/1197315184_jpg_0_jpg.rf.448838b1a29be91ef9c08cc895837686.jpg  \n",
            " extracting: valid/images/us-state-department-warns-against-visiting-china-citing-coronavirus_jpg.rf.51aea5bc06a6e1f9113bbed4a7068697.jpg  \n",
            " extracting: valid/images/w1240-p16x9-CORONAVIRUS-CHINA-HEALTH-APPLE STORE_jpg.rf.69b0624b52841ca749dc6a289fba53df.jpg  \n",
            " extracting: valid/images/sdgdsgsg_jpg.rf.2296809055f00546a3bb756a73bb4472.jpg  \n",
            " extracting: valid/images/phpM5suKS_jpg.rf.6bfbc753f035295f8b61751be4ab9945.jpg  \n",
            " extracting: valid/images/stock-photo-mother-and-her-daughter-walking-go-to-school-with-wearing-a-protection-mask-against-pm-air-1346870465_jpg.rf.1af78a7aa3ada1688f46a406f51ba584.jpg  \n",
            " extracting: valid/images/shutterstock_editorial_10536831j_2e16d0ba_fill-1200x650_jpg.rf.4b10ecf8292b69a042239f8d426feaab.jpg  \n",
            " extracting: valid/images/S1-EV360_FACEMA_M_20200130144349_jpg.rf.c6beae438ca764fe58afb2f3d747aca3.jpg  \n",
            " extracting: valid/images/10fea_8011463765e2aa28b386cf_jpg.rf.7981dc5de795ab4252631683e0de84ae.jpg  \n",
            " extracting: valid/images/0109-00176-096b1_jpg.rf.69ffdcd78617808a849bb59feea2afca.jpg  \n",
            " extracting: valid/images/08165739_jpg.rf.81a9ba05554adbce15ed6cd7dfac96cf.jpg  \n",
            " extracting: valid/images/1196686205_jpg_14_jpg.rf.95f742744c99ce310aea3fee820b6811.jpg  \n",
            " extracting: valid/images/15150794626913_jpg.rf.78b49f28af0f2654221ae46fb04eb549.jpg  \n",
            " extracting: valid/images/1197620896_jpg.rf.b987b8c72404cdfd4c5d123e713326eb.jpg  \n",
            " extracting: valid/images/025418_springwest005_jpg.rf.9342b3603f02ddb7d28ea4c91f711677.jpg  \n",
            " extracting: valid/images/REVZGCBIJNQPMIIXOKDCQA3GJI_jpg.rf.f948274557822ca0e7764d95cd137c13.jpg  \n",
            " extracting: valid/images/08_11_2019-airpollution_234_19737819_192539446_jpg.rf.fa2a2fbe265356ca47e94944207ecbb5.jpg  \n",
            " extracting: valid/images/15391513321824spp815on8_jpg.rf.cbea58f57f15ea6ee59970ad58b1cbf4.jpg  \n",
            " extracting: valid/images/1483800496-3386248642_jpg.rf.6a8d7d7f3c7ca1b7129c902610068440.jpg  \n",
            " extracting: valid/images/022814asiatodaymasks_960x540_jpg.rf.a334c489daa4a1db00e580a7a516ce66.jpg  \n",
            " extracting: test/labels/1288126-10255706714jpg_jpg.rf.ed230c79fdbb1fa0650ff4fd32f620ee.txt  \n",
            " extracting: test/labels/shutterstock_1627199179_jpg.rf.350e69105dd1458572a590c3e3ef2538.txt  \n",
            " extracting: test/labels/15391513324714o1n0r10n6_jpg.rf.eb6b6b796ad74b0c9d75011d1020f0af.txt  \n",
            " extracting: test/labels/1579924271_jpg.rf.1fea0f43731fbea2876f63135256004f.txt  \n",
            " extracting: test/labels/1224331650_g_400-w_g_jpg.rf.483a35a2395bf48e96783587a59fe876.txt  \n",
            " extracting: test/labels/w1240-p16x9-0e48e0098f6e832f27d8b581b33bbc72b9967a63_jpg.rf.b94576bb6f17f4efb5f582ffd9cf9077.txt  \n",
            " extracting: test/labels/w1240-p16x9-2019-10-04t075956z_1862636027_rc15d4d49d00_rtrmadp_3_hongkong-protests_jpg.rf.a9a2c2a1cb13c980b339065d2324ea7d.txt  \n",
            " extracting: test/labels/126202-untitled-design-13_jpg.rf.baa3d2e55d469ae5d5d4cd81c4603e1d.txt  \n",
            " extracting: test/labels/the-first-day-of-wuhan-s-closure-some-people-fled-some-panicked_jpg.rf.51ed69bf8d327d93b429a08581f6dea0.txt  \n",
            " extracting: test/labels/r1p00017o8171pnq407_jpg.rf.d21dd91220d3df7763f7d572f3d95863.txt  \n",
            " extracting: test/labels/RTX7CCFN_jpg.rf.501a9e3af09662fc1fbd288a32904267.txt  \n",
            " extracting: test/labels/15391513329330sooq10859_jpg.rf.bf9e791012521a572a3a7f2979d0dffe.txt  \n",
            " extracting: test/labels/w1240-p16x9-fa978043deff83fed485af12d16e39c61398fc30_jpg.rf.e68ac161036e4bffd3538903b28c721e.txt  \n",
            " extracting: test/labels/phplpE73q_jpg.rf.0ab5de066db2a3791b039388014565fe.txt  \n",
            " extracting: test/labels/0_Concern-In-China-As-Mystery-Virus-Spreads_jpg.rf.5633f5fe7a9b926101b7fc16615dfb6a.txt  \n",
            " extracting: data.yaml               \n",
            " extracting: train/labels/1125506397_15801322206131n_jpg.rf.0a60284a71b2d0ed77c002e768b39b00.txt  \n",
            " extracting: train/labels/1_R_kFK9pNLfKAuopY_lAaPQ_jpeg.rf.030922effaedbead963acea666441dbd.txt  \n",
            " extracting: train/labels/11893820-3x2-xlarge_jpg.rf.1529b09bfee7d069f677ff513f6249eb.txt  \n",
            " extracting: train/labels/r1p00017o80q34s9781_jpg.rf.1ef0de5c875f7e73138d8c9f988eb12e.txt  \n",
            " extracting: train/labels/130624011830-malaysia-smog-students-horizontal-large-gallery_jpg.rf.1d1478ec7b2667aa240401f636d513c4.txt  \n",
            " extracting: train/labels/pollution-mask-CE5HYF_jpg.rf.1d7683c780033e0e32a5ad9d0e1aef33.txt  \n",
            " extracting: train/labels/0_8w7mkX-PHcfMM5s6_jpeg.rf.039eb72a4757882968537a6ae94d198f.txt  \n",
            " extracting: train/labels/1249493_jpg.rf.0bab72e6f8295a2ba03052383e7c3b7b.txt  \n",
            " extracting: train/labels/1_13_jpg.rf.042a2d0121bd5b62e8dd83506ea5ffc1.txt  \n",
            " extracting: train/labels/smartmi-3pcs-filter-mask-pm25-haze-dustproof-mask-with-vent_jpg.rf.23ce84d0cd7de25d814655d908bf475d.txt  \n",
            " extracting: train/labels/pjecDNMmCUQmbDoJx1fdqolnfHtpsfFK8jTA2Ng0wNg_jpeg.rf.001be2b5923d35fa3118de329f14f583.txt  \n",
            " extracting: train/labels/1024x576_939430607723_jpg.rf.37f5013ec76b10fb64a6d8623a22ab92.txt  \n",
            " extracting: train/labels/000b7b75-1600_jpg.rf.35b739ea6899972b07aab7225d341307.txt  \n",
            " extracting: train/labels/RTX7CD4D-e1580252893876_jpg.rf.34b2faf56bf74f6c3edd88422a37355e.txt  \n",
            " extracting: train/labels/1125506397_15801322207071n_jpg.rf.28329b8b808690e5537d9bde5b8a0d91.txt  \n",
            " extracting: train/labels/101d6660a8974050b613dd2e6bd59390_jpg.rf.52e1b68968d7307fab23c6bf5fc3cbbe.txt  \n",
            " extracting: train/labels/0602623232127-web-tete_jpg.rf.52602cb4d68c74a35808c767926ab622.txt  \n",
            " extracting: train/labels/0200b38c89b16c37c5de8e247bb00c2f_jpg.rf.4868c78878c91c2c7cc7062e90de7658.txt  \n",
            " extracting: train/labels/UDD3JG3E4JFQ5KSFNGQQ5REINU_jpg.rf.29625775de24b7ffdcccaf143b546669.txt  \n",
            " extracting: train/labels/1140-travelers-at-hong-kong-airport_jpg.rf.4dac1dff15755783b3941a24fcdd12ae.txt  \n",
            " extracting: train/labels/1580128422_jpg.rf.4496b0fe4afc307aa32966c8180bab49.txt  \n",
            " extracting: train/labels/upload-productImg-1527496119162_320_234_jpeg.rf.2630f815b6cc48c80dd42bf539300d26.txt  \n",
            " extracting: train/labels/PHOTriZgIKIgsnNLdBJG75vj200203_1000x2000_jpg.rf.4dfc80ae4acc533c6120e47dd8e7fb1f.txt  \n",
            " extracting: train/labels/shutterstock_584407723_jpg.rf.5535c41d1928154d8b5449d970e8a93f.txt  \n",
            " extracting: train/labels/pic_list_out_2285_jpg.rf.397939882d421310a89ac13b244c8a6e.txt  \n",
            " extracting: train/labels/1024x737_09186876046_jpg.rf.4197293e6ba3db18b6fbb185616dab6c.txt  \n",
            " extracting: train/labels/r1000019q679o5611r7_jpg.rf.4c8be6ea5c4f336654cb6f5bdb7db393.txt  \n",
            " extracting: train/labels/003_1024_jpeg.rf.3d3235de8495eb432dc3c54d17287980.txt  \n",
            " extracting: train/labels/1580053154-5839_jpg.rf.54f3c805dfdfed25f320f6a5bba80000.txt  \n",
            " extracting: train/labels/1579683152-0e3ba5698b090c0fda95caa5d2aa7b31_jpg.rf.3c5a6909252cc8ad7538ddb3b6a8c10d.txt  \n",
            " extracting: train/labels/phppaNXxb_jpg.rf.5778b5bbecd03d86b9a529fa381adccf.txt  \n",
            " extracting: train/labels/rawImage_jpg.rf.5b637f36f129574b6e0931ecd3f63f7e.txt  \n",
            " extracting: train/labels/-1x-1_jpg.rf.69d9b61e3cdb8a9047dad25099fcc8ef.txt  \n",
            " extracting: train/labels/soo(1)_jpg.rf.5ccb9b3550a3813e3023a3bb32a53904.txt  \n",
            " extracting: train/labels/soooo_jpg.rf.6e7754eae524b488b9d6cbacaa578592.txt  \n",
            " extracting: train/labels/W37H3GWNO5EV5HTJQNP4KLIRGI_jpg.rf.71c3c2741aa5f60a7d0a569679b2796c.txt  \n",
            " extracting: train/labels/135e-huxwryw6451820_jpg.rf.7119d8f128c2493e3340654b03e2b6e3.txt  \n",
            " extracting: train/labels/purchase-reauisition-5de4d0f99c77d_jpg.rf.656f7e39f5600537f91019731c9b25fc.txt  \n",
            " extracting: train/labels/stsciRq_png.rf.66178fabcc0b39f7ec45ba1ff1b5d535.txt  \n",
            " extracting: train/labels/TB2R28UvUOWBKNjSZKzXXXfWFXa_!!1116877752_jpg.rf.68b5da162013bf7f4301937f553139a5.txt  \n",
            " extracting: train/labels/Smog-Mask-PM2-5-Carbon-Filter-Face-Masks-Fog-Dust-Air-Cleaner-anti-pollution-Face-Protector_jpg.rf.6cfed8b6d7c3b9b71b2d6cd8e83da420.txt  \n",
            " extracting: train/labels/US-expands-coronavirus-screenings-United-suspends-some-flights-to-China_jpg.rf.7684e0ecdea4004bc109f5482badee55.txt  \n",
            " extracting: train/labels/1580048340614_jpg.rf.83b5517bbfbf2e2ac0b103bec1bd4dfd.txt  \n",
            " extracting: train/labels/1303078448-China-Coronavirus-Death-Toll-Hits-304_jpg.rf.867ecfe8a19d95c4f6a3a59f0bcc963e.txt  \n",
            " extracting: train/labels/1155x768_20200129000089_jpg.rf.73137126ad09e8cf09315eb31ea51592.txt  \n",
            " extracting: train/labels/001_1024_jpeg.rf.82de51e9c6db87b2941a34e6c65de14a.txt  \n",
            " extracting: train/labels/1030611863_jpg.rf.7edae200febe5a5160fede9478f3e591.txt  \n",
            " extracting: train/labels/1029731146_jpg.rf.79ab2cda85860fd020cfdc660f6368ec.txt  \n",
            " extracting: train/labels/004_1024_jpeg.rf.8387cade019b2c139de783457af677ae.txt  \n",
            " extracting: train/labels/shutterstock_289132226_jpg.rf.749c60ddb7bf3d9db9313ff21cb80f77.txt  \n",
            " extracting: train/labels/1579928067_250120120154270000005e2bca03bf464_jpg.rf.8f9bd39325ed77b8f7d31f4847f1f2bb.txt  \n",
            " extracting: train/labels/unnamed_jpg.rf.8bacd81300f96cc2abf8845595a2e160.txt  \n",
            " extracting: train/labels/thumbnail-ba5c72edb320b49a69e86b05775c49b2-scaled-1_jpeg.rf.895025faf5bf05dfb07e227090cb5d56.txt  \n",
            " extracting: train/labels/IMG_5690 2_jpg.rf.7198a97a65ae7dde21284ca6e356f7a8.txt  \n",
            " extracting: train/labels/1000x-1_jpg.rf.8ec74a748fd78ac625bf40b9cc3f276d.txt  \n",
            " extracting: train/labels/1152x768_246964803156_jpg.rf.93e4584edd0a741914cf795c2087200d.txt  \n",
            " extracting: train/labels/thai_cov-transmission030220_jpg.rf.91be1af29fa03c14769c8547e6b38978.txt  \n",
            " extracting: train/labels/1482202839575_jpg.rf.96a5e5e802e33ad574636b271b779c99.txt  \n",
            " extracting: train/labels/so(19)_jpg.rf.97eeeb08001d4cbdb544ac3a57ff5ef3.txt  \n",
            " extracting: train/labels/TASS38012699_jpg.rf.92600e25dc48c12c43d41929c45756ac.txt  \n",
            " extracting: train/labels/r1000019q689461s9r0_jpg.rf.a9a68a09d726331332a9a5eb0087e5b9.txt  \n",
            " extracting: train/labels/w1240-p16x9-5f8aa310737f8e0e6c43d95a68a82b03b6f60106_jpg.rf.a456219c83b48269ce5adb48d513a350.txt  \n",
            " extracting: train/labels/sdsdsff_jpg.rf.a8a15416549f7048fee1764231a9d0eb.txt  \n",
            " extracting: train/labels/012420_coronoa_masks_web_jpg.rf.aa87c46891116535f04447105006c814.txt  \n",
            " extracting: train/labels/125895-untitled-design-30_jpg.rf.ac571fc87624d715f65c707a55fb6bc8.txt  \n",
            " extracting: train/labels/0002526673_jpg.rf.a13de6faa0e2e5250d913ccf27b4c769.txt  \n",
            " extracting: train/labels/ST_20190917_SPTHAZE_5120715_jpg.rf.a9db11227a9e6e324c5a57d0ad8716cd.txt  \n",
            " extracting: train/labels/sgssgg_jpeg.rf.a62f9109a5f44bf8f88b9fd632b8e4de.txt  \n",
            " extracting: train/labels/RZXE24HFK5GSVKVSN57VCVPQ4M_jpg.rf.9fa4f828cb9b4ee616446dff730d55f8.txt  \n",
            " extracting: train/labels/virus_protection123_jpg.rf.b863088fea960d1630687e0d59cbce9a.txt  \n",
            " extracting: train/labels/15-08608-001_jpg.rf.b6002e422a9fa0b261b1c038574326d8.txt  \n",
            " extracting: train/labels/virus_jpg.rf.b9f52d79c98588703b7d55cfc9cd7a78.txt  \n",
            " extracting: train/labels/rally-against-an-anti-mask-law-meant-to-deter-anti-government-protesters-in-hong-kong-china-shutterstock-editorial-10435716z_jpg.rf.c062c7b234046ead0701f794e6311faf.txt  \n",
            " extracting: train/labels/PRI_129079114_1580299603_195_jpg.rf.bdee5eb2f33604b0a266cb99611d37a4.txt  \n",
            " extracting: train/labels/012106_jpg_1140x855_jpg.rf.b2002b96c6972613f93d98f69f0efdee.txt  \n",
            " extracting: train/labels/0450908675_50159485_mutation-virus-chine-inquietude_jpg.rf.9c1d5309c1b4ecea3fda137b207462df.txt  \n",
            " extracting: train/labels/r1p00017o8357s6sno6_jpg.rf.adeceb3bde01bf771fb86d3494cdc1c6.txt  \n",
            " extracting: train/labels/-I1-MS09uaqsLdGTFkgnS0Rcg1mmPyAj95ySg_eckoM_jpeg.rf.b60002517c9371bba207314a49452cf1.txt  \n",
            " extracting: train/labels/so(24) (1)_jpg.rf.c3be9c3a5b0a4cfc31163890ef75878a.txt  \n",
            " extracting: train/labels/w1240-p16x9-6f1db5e0460631cfa98d2d6d8032942f81700bb0_jpg.rf.c35a2f1369d4d99b16a229d0f0d443e4.txt  \n",
            " extracting: train/labels/1422808187-3291816118_jpg.rf.c4f6e44a8611a820f164374b8cc11c17.txt  \n",
            " extracting: train/labels/0209-00176-076b1_jpg.rf.c95d18e12451276a0312e27c9389ef4c.txt  \n",
            " extracting: train/labels/skynews-coronavirus-london-fashion-week_4920359_jpg.rf.cc22ab2e0f2d8f3472a7ddcfa6177fb7.txt  \n",
            " extracting: train/labels/ST_20170401_EASAND_3046471_jpg.rf.ca0eebad80feebefc05d7c52c0f11d65.txt  \n",
            " extracting: train/labels/1477443223-1445746883_jpg.rf.c73a19f37296ace6c3cd12ba54eec28a.txt  \n",
            " extracting: train/labels/1-200102094256105_png.rf.d2ed0c139e4e35ee8889a3a8379348fb.txt  \n",
            " extracting: train/labels/PhotoGrid_1580452532909_jpg.rf.d262d228da16f4c2dd6e613288aee5df.txt  \n",
            " extracting: train/labels/0_10725_jpg.rf.cde494b05911f991c3cc31c8670044b9.txt  \n",
            " extracting: train/labels/RTX1GIDS_jpg.rf.dcc330d53db202ef81677d14e4e30cd9.txt  \n",
            " extracting: train/labels/1288788-une-employee-aide-des-voyageurs-en-provenance-de-chine-le-26-janvier-2020-a-l-aeroport-de-roissy_jpg.rf.d47cf1cb16e3f73965871b18e510cf8b.txt  \n",
            " extracting: train/labels/1125506397_15801322207531n_jpg.rf.e14312be41c570c14c752fd250256aa3.txt  \n",
            " extracting: train/labels/1553605632_9d5877d8_60_jpg.rf.dac19d9ceded61285f48c70d285f0f49.txt  \n",
            " extracting: train/labels/1580173904-0001oc33f_jpg.rf.e46d2ed9d2510b71264546bc047bf9df.txt  \n",
            " extracting: train/labels/1539151332674193npsrq70_jpg.rf.e5f5500c15efd9f28d6bb2536dbba4fe.txt  \n",
            " extracting: train/labels/r1p00017o82psp0o0or_jpg.rf.f0f90c07761eece753f02beac72d5efe.txt  \n",
            " extracting: train/labels/1042977068_jpg.rf.ee48a69fd6f710987596e8fdd2eea713.txt  \n",
            " extracting: train/labels/1133x768_20200130000023_jpg.rf.e8a099312aa174af48c5914c4986f91a.txt  \n",
            " extracting: train/labels/sars-gettyimages-157005245_jpg.rf.e6d5283c235edb22b1eb63fc0f8e47e9.txt  \n",
            " extracting: train/labels/000_1ov3n5_0_jpeg.rf.edad89426b118f4c76ba4ae3790b3f31.txt  \n",
            " extracting: train/labels/remote (1)_jpeg.rf.f2472419ac8ebfc38ba9bb5e215e11f8.txt  \n",
            " extracting: train/labels/Untitled-design-13_png.rf.ff8d68dfee2ede269856144ec3380659.txt  \n",
            " extracting: train/labels/Surgical-Mask-Effectiveness_jpg.rf.f1df6e057fc624a11625a316cc488d98.txt  \n",
            " extracting: train/labels/sdfsdfsfff_jpg.rf.de8549155f84a7f30cd5f9f88f6c58b3.txt  \n",
            " extracting: train/labels/skypost16012020a01s_jpg.rf.f6eebdde4cc1270b8719743d530adae5.txt  \n",
            " extracting: train/labels/1580166133-5b61094cac11561b0cbe09826e32a924_jpg.rf.fd801022283d5bce8079887db2ef980c.txt  \n",
            " extracting: valid/labels/0009S6815V3PEU1N-C123-F4_jpg.rf.128ad940f96aa8fa5174093ddb7ae5ee.txt  \n",
            " extracting: valid/labels/0ad90195-cd77-489e-bf85-08c83b80d3e0_jpg.rf.006de569e2242cb425b5f931c5e0f8be.txt  \n",
            " extracting: valid/labels/r1400018548960op29s_jpg.rf.1aa9ecf11eb6e101f0bbdf0c3048702c.txt  \n",
            " extracting: valid/labels/1125506397_15801322206581n_jpg.rf.3c089d43976a3dd3b0dfab58bdcac999.txt  \n",
            " extracting: valid/labels/shutterstock_1145933543-e1579497052960_jpg.rf.484e9b9fdec9aa67a63d08df3958cba6.txt  \n",
            " extracting: valid/labels/w1240-p16x9-coronavirus_CHINA-HEALTH_jpg.rf.095ad216d07f4d521dbd956834f793ea.txt  \n",
            " extracting: valid/labels/002_1024_jpeg.rf.21167ff8a675d17c91a8c57a5269dad7.txt  \n",
            " extracting: valid/labels/r1000019q669394n9qp_jpg.rf.4ea90092a57dfae9753bfdad3193ea2c.txt  \n",
            " extracting: valid/labels/000_1OC3DT_jpg.rf.3d1fb8e38f21ec81247c6c3850038888.txt  \n",
            " extracting: valid/labels/1197315184_jpg_0_jpg.rf.448838b1a29be91ef9c08cc895837686.txt  \n",
            " extracting: valid/labels/us-state-department-warns-against-visiting-china-citing-coronavirus_jpg.rf.51aea5bc06a6e1f9113bbed4a7068697.txt  \n",
            " extracting: valid/labels/w1240-p16x9-CORONAVIRUS-CHINA-HEALTH-APPLE STORE_jpg.rf.69b0624b52841ca749dc6a289fba53df.txt  \n",
            " extracting: valid/labels/sdgdsgsg_jpg.rf.2296809055f00546a3bb756a73bb4472.txt  \n",
            " extracting: valid/labels/phpM5suKS_jpg.rf.6bfbc753f035295f8b61751be4ab9945.txt  \n",
            " extracting: valid/labels/stock-photo-mother-and-her-daughter-walking-go-to-school-with-wearing-a-protection-mask-against-pm-air-1346870465_jpg.rf.1af78a7aa3ada1688f46a406f51ba584.txt  \n",
            " extracting: valid/labels/shutterstock_editorial_10536831j_2e16d0ba_fill-1200x650_jpg.rf.4b10ecf8292b69a042239f8d426feaab.txt  \n",
            " extracting: valid/labels/S1-EV360_FACEMA_M_20200130144349_jpg.rf.c6beae438ca764fe58afb2f3d747aca3.txt  \n",
            " extracting: valid/labels/10fea_8011463765e2aa28b386cf_jpg.rf.7981dc5de795ab4252631683e0de84ae.txt  \n",
            " extracting: valid/labels/0109-00176-096b1_jpg.rf.69ffdcd78617808a849bb59feea2afca.txt  \n",
            " extracting: valid/labels/08165739_jpg.rf.81a9ba05554adbce15ed6cd7dfac96cf.txt  \n",
            " extracting: valid/labels/1196686205_jpg_14_jpg.rf.95f742744c99ce310aea3fee820b6811.txt  \n",
            " extracting: valid/labels/15150794626913_jpg.rf.78b49f28af0f2654221ae46fb04eb549.txt  \n",
            " extracting: valid/labels/1197620896_jpg.rf.b987b8c72404cdfd4c5d123e713326eb.txt  \n",
            " extracting: valid/labels/025418_springwest005_jpg.rf.9342b3603f02ddb7d28ea4c91f711677.txt  \n",
            " extracting: valid/labels/REVZGCBIJNQPMIIXOKDCQA3GJI_jpg.rf.f948274557822ca0e7764d95cd137c13.txt  \n",
            " extracting: valid/labels/08_11_2019-airpollution_234_19737819_192539446_jpg.rf.fa2a2fbe265356ca47e94944207ecbb5.txt  \n",
            " extracting: valid/labels/15391513321824spp815on8_jpg.rf.cbea58f57f15ea6ee59970ad58b1cbf4.txt  \n",
            " extracting: valid/labels/1483800496-3386248642_jpg.rf.6a8d7d7f3c7ca1b7129c902610068440.txt  \n",
            " extracting: valid/labels/022814asiatodaymasks_960x540_jpg.rf.a334c489daa4a1db00e580a7a516ce66.txt  \n",
            " extracting: README.roboflow.txt     \n",
            " extracting: README.dataset.txt      \n"
          ]
        }
      ]
    },
    {
      "cell_type": "code",
      "metadata": {
        "id": "wbvMlHd_QwMG",
        "colab": {
          "base_uri": "https://localhost:8080/"
        },
        "outputId": "950880cb-3e87-4d03-d1e1-a9a66d52a257"
      },
      "source": [
        "!git clone https://github.com/ultralytics/yolov5  # clone\n",
        "%cd yolov5\n",
        "%pip install -qr requirements.txt  # install\n",
        "\n",
        "import torch\n",
        "from yolov5 import utils\n",
        "display = utils.notebook_init()  # checks"
      ],
      "execution_count": 2,
      "outputs": [
        {
          "output_type": "stream",
          "name": "stderr",
          "text": [
            "YOLOv5 🚀 v6.1-22-g6dd82c0 torch 1.10.0+cu111 CUDA:0 (Tesla K80, 11441MiB)\n"
          ]
        },
        {
          "output_type": "stream",
          "name": "stdout",
          "text": [
            "Setup complete ✅ (2 CPUs, 12.7 GB RAM, 42.3/78.2 GB disk)\n"
          ]
        }
      ]
    },
    {
      "cell_type": "markdown",
      "metadata": {
        "id": "4JnkELT0cIJg"
      },
      "source": [
        "# 1. Inference\n",
        "\n",
        "`detect.py` runs YOLOv5 inference on a variety of sources, downloading models automatically from the [latest YOLOv5 release](https://github.com/ultralytics/yolov5/releases), and saving results to `runs/detect`. Example inference sources are:\n",
        "\n",
        "```shell\n",
        "python detect.py --source 0  # webcam\n",
        "                          img.jpg  # image \n",
        "                          vid.mp4  # video\n",
        "                          path/  # directory\n",
        "                          path/*.jpg  # glob\n",
        "                          'https://youtu.be/Zgi9g1ksQHc'  # YouTube\n",
        "                          'rtsp://example.com/media.mp4'  # RTSP, RTMP, HTTP stream\n",
        "```"
      ]
    },
    {
      "cell_type": "code",
      "metadata": {
        "id": "zR9ZbuQCH7FX",
        "colab": {
          "base_uri": "https://localhost:8080/",
          "height": 501
        },
        "outputId": "1a755e5f-927b-4f05-ee20-61d0c95a59b2"
      },
      "source": [
        "!python detect.py --weights /content/yolov5/runs/train/exp/weights/best.pt --img 640 --conf 0.25 --source /content/test/images/126202-untitled-design-13_jpg.rf.baa3d2e55d469ae5d5d4cd81c4603e1d.jpg\n",
        "display.Image(filename='/content/yolov5/runs/detect/exp3/126202-untitled-design-13_jpg.rf.baa3d2e55d469ae5d5d4cd81c4603e1d.jpg', width=600)"
      ],
      "execution_count": 8,
      "outputs": [
        {
          "output_type": "stream",
          "name": "stdout",
          "text": [
            "\u001b[34m\u001b[1mdetect: \u001b[0mweights=['/content/yolov5/runs/train/exp/weights/best.pt'], source=/content/test/images/126202-untitled-design-13_jpg.rf.baa3d2e55d469ae5d5d4cd81c4603e1d.jpg, data=data/coco128.yaml, imgsz=[640, 640], conf_thres=0.25, iou_thres=0.45, max_det=1000, device=, view_img=False, save_txt=False, save_conf=False, save_crop=False, nosave=False, classes=None, agnostic_nms=False, augment=False, visualize=False, update=False, project=runs/detect, name=exp, exist_ok=False, line_thickness=3, hide_labels=False, hide_conf=False, half=False, dnn=False\n",
            "YOLOv5 🚀 v6.1-22-g6dd82c0 torch 1.10.0+cu111 CUDA:0 (Tesla K80, 11441MiB)\n",
            "\n",
            "Fusing layers... \n",
            "Model Summary: 213 layers, 7015519 parameters, 0 gradients, 15.8 GFLOPs\n",
            "image 1/1 /content/test/images/126202-untitled-design-13_jpg.rf.baa3d2e55d469ae5d5d4cd81c4603e1d.jpg: 384x640 5 masks, Done. (0.027s)\n",
            "Speed: 0.5ms pre-process, 27.1ms inference, 2.2ms NMS per image at shape (1, 3, 640, 640)\n",
            "Results saved to \u001b[1mruns/detect/exp4\u001b[0m\n"
          ]
        },
        {
          "output_type": "execute_result",
          "data": {
            "image/jpeg": "[encoded data removed]",
            "text/plain": [
              "<IPython.core.display.Image object>"
            ]
          },
          "metadata": {
            "image/jpeg": {
              "width": 600
            }
          },
          "execution_count": 8
        }
      ]
    },
    {
      "cell_type": "markdown",
      "metadata": {
        "id": "0eq1SMWl6Sfn"
      },
      "source": [
        "# 2. Validate\n",
        "Validate a model's accuracy on [COCO](https://cocodataset.org/#home) val or test-dev datasets. Models are downloaded automatically from the [latest YOLOv5 release](https://github.com/ultralytics/yolov5/releases). To show results by class use the `--verbose` flag. Note that `pycocotools` metrics may be ~1% better than the equivalent repo metrics, as is visible below, due to slight differences in mAP computation."
      ]
    },
    {
      "cell_type": "markdown",
      "metadata": {
        "id": "eyTZYGgRjnMc"
      },
      "source": [
        "## COCO val\n",
        "Download [COCO val 2017](https://github.com/ultralytics/yolov5/blob/74b34872fdf41941cddcf243951cdb090fbac17b/data/coco.yaml#L14) dataset (1GB - 5000 images), and test model accuracy."
      ]
    },
    {
      "cell_type": "code",
      "metadata": {
        "id": "WQPtK1QYVaD_",
        "colab": {
          "base_uri": "https://localhost:8080/",
          "height": 48,
          "referenced_widgets": [
            "eb95db7cae194218b3fcefb439b6352f",
            "769ecde6f2e64bacb596ce972f8d3d2d",
            "384a001876054c93b0af45cd1e960bfe",
            "dded0aeae74440f7ba2ffa0beb8dd612",
            "5296d28be75740b2892ae421bbec3657",
            "9f09facb2a6c4a7096810d327c8b551c",
            "25621cff5d16448cb7260e839fd0f543",
            "0ce7164fc0c74bb9a2b5c7037375a727",
            "c4c4593c10904cb5b8a5724d60c7e181",
            "473371611126476c88d5d42ec7031ed6",
            "65efdfd0d26c46e79c8c5ff3b77126cc"
          ]
        },
        "outputId": "bcf9a448-1f9b-4a41-ad49-12f181faf05a"
      },
      "source": [
        "# Download COCO val\n",
        "torch.hub.download_url_to_file('https://ultralytics.com/assets/coco2017val.zip', 'tmp.zip')\n",
        "!unzip -q tmp.zip -d ../datasets && rm tmp.zip"
      ],
      "execution_count": null,
      "outputs": [
        {
          "output_type": "display_data",
          "data": {
            "application/vnd.jupyter.widget-view+json": {
              "model_id": "eb95db7cae194218b3fcefb439b6352f",
              "version_minor": 0,
              "version_major": 2
            },
            "text/plain": [
              "  0%|          | 0.00/780M [00:00<?, ?B/s]"
            ]
          },
          "metadata": {}
        }
      ]
    },
    {
      "cell_type": "code",
      "metadata": {
        "id": "X58w8JLpMnjH",
        "colab": {
          "base_uri": "https://localhost:8080/"
        },
        "outputId": "74f1dfa9-6b6d-4b36-f67e-bbae243869f9"
      },
      "source": [
        "# Run YOLOv5x on COCO val\n",
        "!python val.py --weights yolov5x.pt --data coco.yaml --img 640 --iou 0.65 --half"
      ],
      "execution_count": null,
      "outputs": [
        {
          "output_type": "stream",
          "name": "stdout",
          "text": [
            "\u001b[34m\u001b[1mval: \u001b[0mdata=/content/yolov5/data/coco.yaml, weights=['yolov5x.pt'], batch_size=32, imgsz=640, conf_thres=0.001, iou_thres=0.65, task=val, device=, single_cls=False, augment=False, verbose=False, save_txt=False, save_hybrid=False, save_conf=False, save_json=True, project=runs/val, name=exp, exist_ok=False, half=True\n",
            "YOLOv5 🚀 v6.0-48-g84a8099 torch 1.10.0+cu102 CUDA:0 (Tesla V100-SXM2-16GB, 16160MiB)\n",
            "\n",
            "Downloading https://github.com/ultralytics/yolov5/releases/download/v6.0/yolov5x.pt to yolov5x.pt...\n",
            "100% 166M/166M [00:03<00:00, 54.1MB/s]\n",
            "\n",
            "Fusing layers... \n",
            "Model Summary: 444 layers, 86705005 parameters, 0 gradients\n",
            "\u001b[34m\u001b[1mval: \u001b[0mScanning '../datasets/coco/val2017' images and labels...4952 found, 48 missing, 0 empty, 0 corrupted: 100% 5000/5000 [00:01<00:00, 2636.64it/s]\n",
            "\u001b[34m\u001b[1mval: \u001b[0mNew cache created: ../datasets/coco/val2017.cache\n",
            "               Class     Images     Labels          P          R     mAP@.5 mAP@.5:.95: 100% 157/157 [01:12<00:00,  2.17it/s]\n",
            "                 all       5000      36335      0.729       0.63      0.683      0.496\n",
            "Speed: 0.1ms pre-process, 4.9ms inference, 1.9ms NMS per image at shape (32, 3, 640, 640)\n",
            "\n",
            "Evaluating pycocotools mAP... saving runs/val/exp/yolov5x_predictions.json...\n",
            "loading annotations into memory...\n",
            "Done (t=0.46s)\n",
            "creating index...\n",
            "index created!\n",
            "Loading and preparing results...\n",
            "DONE (t=5.15s)\n",
            "creating index...\n",
            "index created!\n",
            "Running per image evaluation...\n",
            "Evaluate annotation type *bbox*\n",
            "DONE (t=90.39s).\n",
            "Accumulating evaluation results...\n",
            "DONE (t=14.54s).\n",
            " Average Precision  (AP) @[ IoU=0.50:0.95 | area=   all | maxDets=100 ] = 0.507\n",
            " Average Precision  (AP) @[ IoU=0.50      | area=   all | maxDets=100 ] = 0.689\n",
            " Average Precision  (AP) @[ IoU=0.75      | area=   all | maxDets=100 ] = 0.552\n",
            " Average Precision  (AP) @[ IoU=0.50:0.95 | area= small | maxDets=100 ] = 0.345\n",
            " Average Precision  (AP) @[ IoU=0.50:0.95 | area=medium | maxDets=100 ] = 0.559\n",
            " Average Precision  (AP) @[ IoU=0.50:0.95 | area= large | maxDets=100 ] = 0.652\n",
            " Average Recall     (AR) @[ IoU=0.50:0.95 | area=   all | maxDets=  1 ] = 0.381\n",
            " Average Recall     (AR) @[ IoU=0.50:0.95 | area=   all | maxDets= 10 ] = 0.630\n",
            " Average Recall     (AR) @[ IoU=0.50:0.95 | area=   all | maxDets=100 ] = 0.682\n",
            " Average Recall     (AR) @[ IoU=0.50:0.95 | area= small | maxDets=100 ] = 0.526\n",
            " Average Recall     (AR) @[ IoU=0.50:0.95 | area=medium | maxDets=100 ] = 0.732\n",
            " Average Recall     (AR) @[ IoU=0.50:0.95 | area= large | maxDets=100 ] = 0.829\n",
            "Results saved to \u001b[1mruns/val/exp\u001b[0m\n"
          ]
        }
      ]
    },
    {
      "cell_type": "markdown",
      "metadata": {
        "id": "rc_KbFk0juX2"
      },
      "source": [
        "## COCO test\n",
        "Download [COCO test2017](https://github.com/ultralytics/yolov5/blob/74b34872fdf41941cddcf243951cdb090fbac17b/data/coco.yaml#L15) dataset (7GB - 40,000 images), to test model accuracy on test-dev set (**20,000 images, no labels**). Results are saved to a `*.json` file which should be **zipped** and submitted to the evaluation server at https://competitions.codalab.org/competitions/20794."
      ]
    },
    {
      "cell_type": "code",
      "metadata": {
        "id": "V0AJnSeCIHyJ"
      },
      "source": [
        "# Download COCO test-dev2017\n",
        "torch.hub.download_url_to_file('https://ultralytics.com/assets/coco2017labels.zip', 'tmp.zip')\n",
        "!unzip -q tmp.zip -d ../datasets && rm tmp.zip\n",
        "!f=\"test2017.zip\" && curl http://images.cocodataset.org/zips/$f -o $f && unzip -q $f -d ../datasets/coco/images"
      ],
      "execution_count": null,
      "outputs": []
    },
    {
      "cell_type": "code",
      "metadata": {
        "id": "29GJXAP_lPrt"
      },
      "source": [
        "# Run YOLOv5x on COCO test\n",
        "!python val.py --weights yolov5x.pt --data coco.yaml --img 640 --iou 0.65 --half --task test"
      ],
      "execution_count": null,
      "outputs": []
    },
    {
      "cell_type": "markdown",
      "metadata": {
        "id": "ZY2VXXXu74w5"
      },
      "source": [
        "# 3. Train\n",
        "\n",
        "<p align=\"\"><a href=\"https://roboflow.com/?ref=ultralytics\"><img width=\"1000\" src=\"https://uploads-ssl.webflow.com/5f6bc60e665f54545a1e52a5/615627e5824c9c6195abfda9_computer-vision-cycle.png\"/></a></p>\n",
        "Close the active learning loop by sampling images from your inference conditions with the `roboflow` pip package\n",
        "<br><br>\n",
        "\n",
        "Train a YOLOv5s model on the [COCO128](https://www.kaggle.com/ultralytics/coco128) dataset with `--data coco128.yaml`, starting from pretrained `--weights yolov5s.pt`, or from randomly initialized `--weights '' --cfg yolov5s.yaml`.\n",
        "\n",
        "- **Pretrained [Models](https://github.com/ultralytics/yolov5/tree/master/models)** are downloaded\n",
        "automatically from the [latest YOLOv5 release](https://github.com/ultralytics/yolov5/releases)\n",
        "- **[Datasets](https://github.com/ultralytics/yolov5/tree/master/data)** available for autodownload include: [COCO](https://github.com/ultralytics/yolov5/blob/master/data/coco.yaml), [COCO128](https://github.com/ultralytics/yolov5/blob/master/data/coco128.yaml), [VOC](https://github.com/ultralytics/yolov5/blob/master/data/VOC.yaml), [Argoverse](https://github.com/ultralytics/yolov5/blob/master/data/Argoverse.yaml), [VisDrone](https://github.com/ultralytics/yolov5/blob/master/data/VisDrone.yaml), [GlobalWheat](https://github.com/ultralytics/yolov5/blob/master/data/GlobalWheat2020.yaml), [xView](https://github.com/ultralytics/yolov5/blob/master/data/xView.yaml), [Objects365](https://github.com/ultralytics/yolov5/blob/master/data/Objects365.yaml), [SKU-110K](https://github.com/ultralytics/yolov5/blob/master/data/SKU-110K.yaml).\n",
        "- **Training Results** are saved to `runs/train/` with incrementing run directories, i.e. `runs/train/exp2`, `runs/train/exp3` etc.\n",
        "<br><br>\n",
        "\n",
        "## Train on Custom Data with Roboflow 🌟 NEW\n",
        "\n",
        "[Roboflow](https://roboflow.com/?ref=ultralytics) enables you to easily **organize, label, and prepare** a high quality dataset with your own custom data. Roboflow also makes it easy to establish an active learning pipeline, collaborate with your team on dataset improvement, and integrate directly into your model building workflow with the `roboflow` pip package.\n",
        "\n",
        "- Custom Training Example: [https://blog.roboflow.com/how-to-train-yolov5-on-a-custom-dataset/](https://blog.roboflow.com/how-to-train-yolov5-on-a-custom-dataset/?ref=ultralytics)\n",
        "- Custom Training Notebook: [![Open In Colab](https://colab.research.google.com/assets/colab-badge.svg)](https://colab.research.google.com/github/roboflow-ai/yolov5-custom-training-tutorial/blob/main/yolov5-custom-training.ipynb)\n",
        "<br>\n",
        "\n",
        "<p align=\"\"><a href=\"https://roboflow.com/?ref=ultralytics\"><img width=\"480\" src=\"https://uploads-ssl.webflow.com/5f6bc60e665f54545a1e52a5/6152a275ad4b4ac20cd2e21a_roboflow-annotate.gif\"/></a></p>Label images lightning fast (including with model-assisted labeling)"
      ]
    },
    {
      "cell_type": "code",
      "metadata": {
        "id": "bOy5KI2ncnWd"
      },
      "source": [
        "# Tensorboard  (optional)\n",
        "%load_ext tensorboard\n",
        "%tensorboard --logdir runs/train"
      ],
      "execution_count": null,
      "outputs": []
    },
    {
      "cell_type": "code",
      "metadata": {
        "id": "2fLAV42oNb7M"
      },
      "source": [
        "# Weights & Biases  (optional)\n",
        "%pip install -q wandb\n",
        "import wandb\n",
        "wandb.login()"
      ],
      "execution_count": null,
      "outputs": []
    },
    {
      "cell_type": "code",
      "metadata": {
        "id": "1NcFxRcFdJ_O",
        "colab": {
          "base_uri": "https://localhost:8080/"
        },
        "outputId": "3a4f4a34-2a3d-4d16-baae-3ff15cfdc0df"
      },
      "source": [
        "# Train YOLOv5s on COCO128 for 3 epochs\n",
        "!python train.py --img 640 --batch 16 --epochs 30 --data /content/data.yaml --weights yolov5s.pt --cache"
      ],
      "execution_count": 4,
      "outputs": [
        {
          "output_type": "stream",
          "name": "stdout",
          "text": [
            "\u001b[34m\u001b[1mtrain: \u001b[0mweights=yolov5s.pt, cfg=, data=/content/data.yaml, hyp=data/hyps/hyp.scratch-low.yaml, epochs=30, batch_size=16, imgsz=640, rect=False, resume=False, nosave=False, noval=False, noautoanchor=False, evolve=None, bucket=, cache=ram, image_weights=False, device=, multi_scale=False, single_cls=False, optimizer=SGD, sync_bn=False, workers=8, project=runs/train, name=exp, exist_ok=False, quad=False, cos_lr=False, label_smoothing=0.0, patience=100, freeze=[0], save_period=-1, local_rank=-1, entity=None, upload_dataset=False, bbox_interval=-1, artifact_alias=latest\n",
            "\u001b[34m\u001b[1mgithub: \u001b[0mup to date with https://github.com/ultralytics/yolov5 ✅\n",
            "YOLOv5 🚀 v6.1-22-g6dd82c0 torch 1.10.0+cu111 CUDA:0 (Tesla K80, 11441MiB)\n",
            "\n",
            "\u001b[34m\u001b[1mhyperparameters: \u001b[0mlr0=0.01, lrf=0.01, momentum=0.937, weight_decay=0.0005, warmup_epochs=3.0, warmup_momentum=0.8, warmup_bias_lr=0.1, box=0.05, cls=0.5, cls_pw=1.0, obj=1.0, obj_pw=1.0, iou_t=0.2, anchor_t=4.0, fl_gamma=0.0, hsv_h=0.015, hsv_s=0.7, hsv_v=0.4, degrees=0.0, translate=0.1, scale=0.5, shear=0.0, perspective=0.0, flipud=0.0, fliplr=0.5, mosaic=1.0, mixup=0.0, copy_paste=0.0\n",
            "\u001b[34m\u001b[1mWeights & Biases: \u001b[0mrun 'pip install wandb' to automatically track and visualize YOLOv5 🚀 runs (RECOMMENDED)\n",
            "\u001b[34m\u001b[1mTensorBoard: \u001b[0mStart with 'tensorboard --logdir runs/train', view at http://localhost:6006/\n",
            "Downloading https://github.com/ultralytics/yolov5/releases/download/v6.1/yolov5s.pt to yolov5s.pt...\n",
            "100% 14.1M/14.1M [00:00<00:00, 115MB/s] \n",
            "\n",
            "Overriding model.yaml nc=80 with nc=2\n",
            "\n",
            "                 from  n    params  module                                  arguments                     \n",
            "  0                -1  1      3520  models.common.Conv                      [3, 32, 6, 2, 2]              \n",
            "  1                -1  1     18560  models.common.Conv                      [32, 64, 3, 2]                \n",
            "  2                -1  1     18816  models.common.C3                        [64, 64, 1]                   \n",
            "  3                -1  1     73984  models.common.Conv                      [64, 128, 3, 2]               \n",
            "  4                -1  2    115712  models.common.C3                        [128, 128, 2]                 \n",
            "  5                -1  1    295424  models.common.Conv                      [128, 256, 3, 2]              \n",
            "  6                -1  3    625152  models.common.C3                        [256, 256, 3]                 \n",
            "  7                -1  1   1180672  models.common.Conv                      [256, 512, 3, 2]              \n",
            "  8                -1  1   1182720  models.common.C3                        [512, 512, 1]                 \n",
            "  9                -1  1    656896  models.common.SPPF                      [512, 512, 5]                 \n",
            " 10                -1  1    131584  models.common.Conv                      [512, 256, 1, 1]              \n",
            " 11                -1  1         0  torch.nn.modules.upsampling.Upsample    [None, 2, 'nearest']          \n",
            " 12           [-1, 6]  1         0  models.common.Concat                    [1]                           \n",
            " 13                -1  1    361984  models.common.C3                        [512, 256, 1, False]          \n",
            " 14                -1  1     33024  models.common.Conv                      [256, 128, 1, 1]              \n",
            " 15                -1  1         0  torch.nn.modules.upsampling.Upsample    [None, 2, 'nearest']          \n",
            " 16           [-1, 4]  1         0  models.common.Concat                    [1]                           \n",
            " 17                -1  1     90880  models.common.C3                        [256, 128, 1, False]          \n",
            " 18                -1  1    147712  models.common.Conv                      [128, 128, 3, 2]              \n",
            " 19          [-1, 14]  1         0  models.common.Concat                    [1]                           \n",
            " 20                -1  1    296448  models.common.C3                        [256, 256, 1, False]          \n",
            " 21                -1  1    590336  models.common.Conv                      [256, 256, 3, 2]              \n",
            " 22          [-1, 10]  1         0  models.common.Concat                    [1]                           \n",
            " 23                -1  1   1182720  models.common.C3                        [512, 512, 1, False]          \n",
            " 24      [17, 20, 23]  1     18879  models.yolo.Detect                      [2, [[10, 13, 16, 30, 33, 23], [30, 61, 62, 45, 59, 119], [116, 90, 156, 198, 373, 326]], [128, 256, 512]]\n",
            "Model Summary: 270 layers, 7025023 parameters, 7025023 gradients, 15.9 GFLOPs\n",
            "\n",
            "Transferred 343/349 items from yolov5s.pt\n",
            "Scaled weight_decay = 0.0005\n",
            "\u001b[34m\u001b[1moptimizer:\u001b[0m SGD with parameter groups 57 weight (no decay), 60 weight, 60 bias\n",
            "\u001b[34m\u001b[1malbumentations: \u001b[0mversion 1.0.3 required by YOLOv5, but version 0.1.12 is currently installed\n",
            "\u001b[34m\u001b[1mtrain: \u001b[0mScanning '/content/yolov5/../train/labels' images and labels...105 found, 0 missing, 0 empty, 0 corrupt: 100% 105/105 [00:00<00:00, 1187.00it/s]\n",
            "\u001b[34m\u001b[1mtrain: \u001b[0mNew cache created: /content/yolov5/../train/labels.cache\n",
            "\u001b[34m\u001b[1mtrain: \u001b[0mCaching images (0.1GB ram): 100% 105/105 [00:01<00:00, 57.70it/s]\n",
            "\u001b[34m\u001b[1mval: \u001b[0mScanning '/content/yolov5/../valid/labels' images and labels...29 found, 0 missing, 0 empty, 0 corrupt: 100% 29/29 [00:00<00:00, 264.73it/s]\n",
            "\u001b[34m\u001b[1mval: \u001b[0mNew cache created: /content/yolov5/../valid/labels.cache\n",
            "\u001b[34m\u001b[1mval: \u001b[0mCaching images (0.0GB ram): 100% 29/29 [00:01<00:00, 28.48it/s]\n",
            "Plotting labels to runs/train/exp/labels.jpg... \n",
            "\n",
            "\u001b[34m\u001b[1mAutoAnchor: \u001b[0m5.89 anchors/target, 0.999 Best Possible Recall (BPR). Current anchors are a good fit to dataset ✅\n",
            "Image sizes 640 train, 640 val\n",
            "Using 2 dataloader workers\n",
            "Logging results to \u001b[1mruns/train/exp\u001b[0m\n",
            "Starting training for 30 epochs...\n",
            "\n",
            "     Epoch   gpu_mem       box       obj       cls    labels  img_size\n",
            "      0/29     3.23G     0.121   0.07045   0.02943        98       640: 100% 7/7 [00:09<00:00,  1.42s/it]\n",
            "               Class     Images     Labels          P          R     mAP@.5 mAP@.5:.95: 100% 1/1 [00:01<00:00,  1.43s/it]\n",
            "                 all         29        162    0.00698     0.0106    0.00195   0.000371\n",
            "\n",
            "     Epoch   gpu_mem       box       obj       cls    labels  img_size\n",
            "      1/29     3.65G     0.115   0.08026   0.02832       114       640: 100% 7/7 [00:07<00:00,  1.06s/it]\n",
            "               Class     Images     Labels          P          R     mAP@.5 mAP@.5:.95: 100% 1/1 [00:01<00:00,  1.24s/it]\n",
            "                 all         29        162     0.0116     0.0211    0.00371   0.000831\n",
            "\n",
            "     Epoch   gpu_mem       box       obj       cls    labels  img_size\n",
            "      2/29     3.65G    0.1036   0.08495   0.02712        52       640: 100% 7/7 [00:07<00:00,  1.06s/it]\n",
            "               Class     Images     Labels          P          R     mAP@.5 mAP@.5:.95: 100% 1/1 [00:01<00:00,  1.17s/it]\n",
            "                 all         29        162     0.0207     0.0634    0.00921    0.00208\n",
            "\n",
            "     Epoch   gpu_mem       box       obj       cls    labels  img_size\n",
            "      3/29     3.65G   0.09776    0.1066   0.02463       166       640: 100% 7/7 [00:07<00:00,  1.06s/it]\n",
            "               Class     Images     Labels          P          R     mAP@.5 mAP@.5:.95: 100% 1/1 [00:01<00:00,  1.16s/it]\n",
            "                 all         29        162     0.0733      0.113     0.0424    0.00844\n",
            "\n",
            "     Epoch   gpu_mem       box       obj       cls    labels  img_size\n",
            "      4/29     3.65G   0.08593    0.0843   0.02102        62       640: 100% 7/7 [00:07<00:00,  1.07s/it]\n",
            "               Class     Images     Labels          P          R     mAP@.5 mAP@.5:.95: 100% 1/1 [00:01<00:00,  1.09s/it]\n",
            "                 all         29        162     0.0683      0.203     0.0545     0.0117\n",
            "\n",
            "     Epoch   gpu_mem       box       obj       cls    labels  img_size\n",
            "      5/29     3.65G   0.08315   0.08289   0.02227        98       640: 100% 7/7 [00:07<00:00,  1.07s/it]\n",
            "               Class     Images     Labels          P          R     mAP@.5 mAP@.5:.95: 100% 1/1 [00:01<00:00,  1.00s/it]\n",
            "                 all         29        162      0.587       0.12     0.0575     0.0132\n",
            "\n",
            "     Epoch   gpu_mem       box       obj       cls    labels  img_size\n",
            "      6/29     3.65G   0.08022    0.0662   0.01891        47       640: 100% 7/7 [00:07<00:00,  1.08s/it]\n",
            "               Class     Images     Labels          P          R     mAP@.5 mAP@.5:.95: 100% 1/1 [00:00<00:00,  1.13it/s]\n",
            "                 all         29        162      0.595      0.176     0.0829      0.014\n",
            "\n",
            "     Epoch   gpu_mem       box       obj       cls    labels  img_size\n",
            "      7/29     3.65G   0.08626    0.0628   0.01784       120       640: 100% 7/7 [00:07<00:00,  1.07s/it]\n",
            "               Class     Images     Labels          P          R     mAP@.5 mAP@.5:.95: 100% 1/1 [00:00<00:00,  1.22it/s]\n",
            "                 all         29        162       0.58      0.162     0.0792     0.0165\n",
            "\n",
            "     Epoch   gpu_mem       box       obj       cls    labels  img_size\n",
            "      8/29     3.65G   0.09068   0.05812    0.0174        83       640: 100% 7/7 [00:07<00:00,  1.08s/it]\n",
            "               Class     Images     Labels          P          R     mAP@.5 mAP@.5:.95: 100% 1/1 [00:00<00:00,  1.28it/s]\n",
            "                 all         29        162      0.173      0.402     0.0791     0.0202\n",
            "\n",
            "     Epoch   gpu_mem       box       obj       cls    labels  img_size\n",
            "      9/29     3.65G   0.09199   0.06105   0.01604        88       640: 100% 7/7 [00:07<00:00,  1.08s/it]\n",
            "               Class     Images     Labels          P          R     mAP@.5 mAP@.5:.95: 100% 1/1 [00:00<00:00,  1.34it/s]\n",
            "                 all         29        162      0.687      0.303      0.201     0.0558\n",
            "\n",
            "     Epoch   gpu_mem       box       obj       cls    labels  img_size\n",
            "     10/29     3.65G   0.08332   0.06353   0.01647       158       640: 100% 7/7 [00:07<00:00,  1.09s/it]\n",
            "               Class     Images     Labels          P          R     mAP@.5 mAP@.5:.95: 100% 1/1 [00:00<00:00,  1.36it/s]\n",
            "                 all         29        162      0.721      0.113      0.137     0.0296\n",
            "\n",
            "     Epoch   gpu_mem       box       obj       cls    labels  img_size\n",
            "     11/29     3.65G   0.08679   0.06325    0.0165        94       640: 100% 7/7 [00:07<00:00,  1.10s/it]\n",
            "               Class     Images     Labels          P          R     mAP@.5 mAP@.5:.95: 100% 1/1 [00:00<00:00,  1.40it/s]\n",
            "                 all         29        162      0.679      0.211      0.222     0.0696\n",
            "\n",
            "     Epoch   gpu_mem       box       obj       cls    labels  img_size\n",
            "     12/29     3.65G   0.08194   0.05843   0.01916        81       640: 100% 7/7 [00:07<00:00,  1.09s/it]\n",
            "               Class     Images     Labels          P          R     mAP@.5 mAP@.5:.95: 100% 1/1 [00:00<00:00,  1.45it/s]\n",
            "                 all         29        162      0.174      0.608      0.192     0.0563\n",
            "\n",
            "     Epoch   gpu_mem       box       obj       cls    labels  img_size\n",
            "     13/29     3.65G   0.08634   0.05615   0.01785       186       640: 100% 7/7 [00:07<00:00,  1.09s/it]\n",
            "               Class     Images     Labels          P          R     mAP@.5 mAP@.5:.95: 100% 1/1 [00:00<00:00,  1.45it/s]\n",
            "                 all         29        162      0.235      0.562      0.226     0.0742\n",
            "\n",
            "     Epoch   gpu_mem       box       obj       cls    labels  img_size\n",
            "     14/29     3.65G   0.08239   0.05535   0.01694        65       640: 100% 7/7 [00:07<00:00,  1.09s/it]\n",
            "               Class     Images     Labels          P          R     mAP@.5 mAP@.5:.95: 100% 1/1 [00:00<00:00,  1.48it/s]\n",
            "                 all         29        162      0.456      0.523      0.338      0.114\n",
            "\n",
            "     Epoch   gpu_mem       box       obj       cls    labels  img_size\n",
            "     15/29     3.65G   0.07842   0.05028   0.01625        78       640: 100% 7/7 [00:07<00:00,  1.09s/it]\n",
            "               Class     Images     Labels          P          R     mAP@.5 mAP@.5:.95: 100% 1/1 [00:00<00:00,  1.49it/s]\n",
            "                 all         29        162      0.437      0.503      0.199     0.0569\n",
            "\n",
            "     Epoch   gpu_mem       box       obj       cls    labels  img_size\n",
            "     16/29     3.65G   0.08075   0.05356   0.01574        84       640: 100% 7/7 [00:07<00:00,  1.08s/it]\n",
            "               Class     Images     Labels          P          R     mAP@.5 mAP@.5:.95: 100% 1/1 [00:00<00:00,  1.47it/s]\n",
            "                 all         29        162      0.461      0.455      0.233     0.0841\n",
            "\n",
            "     Epoch   gpu_mem       box       obj       cls    labels  img_size\n",
            "     17/29     3.65G   0.08154   0.05339    0.0176        66       640: 100% 7/7 [00:07<00:00,  1.09s/it]\n",
            "               Class     Images     Labels          P          R     mAP@.5 mAP@.5:.95: 100% 1/1 [00:00<00:00,  1.44it/s]\n",
            "                 all         29        162      0.244      0.604      0.349       0.12\n",
            "\n",
            "     Epoch   gpu_mem       box       obj       cls    labels  img_size\n",
            "     18/29     3.65G   0.07185   0.05247   0.01629       115       640: 100% 7/7 [00:07<00:00,  1.09s/it]\n",
            "               Class     Images     Labels          P          R     mAP@.5 mAP@.5:.95: 100% 1/1 [00:00<00:00,  1.47it/s]\n",
            "                 all         29        162      0.304       0.53      0.287     0.0925\n",
            "\n",
            "     Epoch   gpu_mem       box       obj       cls    labels  img_size\n",
            "     19/29     3.65G    0.0746   0.04881   0.01428        92       640: 100% 7/7 [00:07<00:00,  1.10s/it]\n",
            "               Class     Images     Labels          P          R     mAP@.5 mAP@.5:.95: 100% 1/1 [00:00<00:00,  1.47it/s]\n",
            "                 all         29        162      0.278      0.594       0.34     0.0976\n",
            "\n",
            "     Epoch   gpu_mem       box       obj       cls    labels  img_size\n",
            "     20/29     3.65G   0.07399   0.05472    0.0169       163       640: 100% 7/7 [00:07<00:00,  1.09s/it]\n",
            "               Class     Images     Labels          P          R     mAP@.5 mAP@.5:.95: 100% 1/1 [00:00<00:00,  1.51it/s]\n",
            "                 all         29        162      0.774      0.317      0.372      0.145\n",
            "\n",
            "     Epoch   gpu_mem       box       obj       cls    labels  img_size\n",
            "     21/29     3.65G   0.06531   0.05089   0.01778        90       640: 100% 7/7 [00:07<00:00,  1.09s/it]\n",
            "               Class     Images     Labels          P          R     mAP@.5 mAP@.5:.95: 100% 1/1 [00:00<00:00,  1.49it/s]\n",
            "                 all         29        162      0.411      0.568      0.399      0.158\n",
            "\n",
            "     Epoch   gpu_mem       box       obj       cls    labels  img_size\n",
            "     22/29     3.65G   0.06069    0.0463     0.016        72       640: 100% 7/7 [00:07<00:00,  1.09s/it]\n",
            "               Class     Images     Labels          P          R     mAP@.5 mAP@.5:.95: 100% 1/1 [00:00<00:00,  1.52it/s]\n",
            "                 all         29        162      0.287      0.572      0.403      0.184\n",
            "\n",
            "     Epoch   gpu_mem       box       obj       cls    labels  img_size\n",
            "     23/29     3.65G   0.05631   0.05533   0.01669        74       640: 100% 7/7 [00:07<00:00,  1.09s/it]\n",
            "               Class     Images     Labels          P          R     mAP@.5 mAP@.5:.95: 100% 1/1 [00:00<00:00,  1.49it/s]\n",
            "                 all         29        162      0.342      0.627      0.484      0.228\n",
            "\n",
            "     Epoch   gpu_mem       box       obj       cls    labels  img_size\n",
            "     24/29     3.65G   0.05507   0.05567   0.01464       172       640: 100% 7/7 [00:07<00:00,  1.09s/it]\n",
            "               Class     Images     Labels          P          R     mAP@.5 mAP@.5:.95: 100% 1/1 [00:00<00:00,  1.52it/s]\n",
            "                 all         29        162      0.352      0.629      0.473      0.228\n",
            "\n",
            "     Epoch   gpu_mem       box       obj       cls    labels  img_size\n",
            "     25/29     3.65G   0.05644   0.05199   0.01404       201       640: 100% 7/7 [00:07<00:00,  1.09s/it]\n",
            "               Class     Images     Labels          P          R     mAP@.5 mAP@.5:.95: 100% 1/1 [00:00<00:00,  1.53it/s]\n",
            "                 all         29        162       0.33      0.608       0.46      0.187\n",
            "\n",
            "     Epoch   gpu_mem       box       obj       cls    labels  img_size\n",
            "     26/29     3.65G   0.05387   0.05015   0.01664       120       640: 100% 7/7 [00:07<00:00,  1.09s/it]\n",
            "               Class     Images     Labels          P          R     mAP@.5 mAP@.5:.95: 100% 1/1 [00:00<00:00,  1.52it/s]\n",
            "                 all         29        162      0.325      0.644      0.484      0.247\n",
            "\n",
            "     Epoch   gpu_mem       box       obj       cls    labels  img_size\n",
            "     27/29     3.65G      0.05   0.04517   0.01366        86       640: 100% 7/7 [00:07<00:00,  1.09s/it]\n",
            "               Class     Images     Labels          P          R     mAP@.5 mAP@.5:.95: 100% 1/1 [00:00<00:00,  1.55it/s]\n",
            "                 all         29        162      0.345      0.697      0.493      0.267\n",
            "\n",
            "     Epoch   gpu_mem       box       obj       cls    labels  img_size\n",
            "     28/29     3.65G   0.04705   0.04628   0.01557       104       640: 100% 7/7 [00:07<00:00,  1.09s/it]\n",
            "               Class     Images     Labels          P          R     mAP@.5 mAP@.5:.95: 100% 1/1 [00:00<00:00,  1.51it/s]\n",
            "                 all         29        162      0.348      0.701      0.504      0.293\n",
            "\n",
            "     Epoch   gpu_mem       box       obj       cls    labels  img_size\n",
            "     29/29     3.65G   0.04744   0.04845   0.01679       108       640: 100% 7/7 [00:07<00:00,  1.09s/it]\n",
            "               Class     Images     Labels          P          R     mAP@.5 mAP@.5:.95: 100% 1/1 [00:00<00:00,  1.52it/s]\n",
            "                 all         29        162      0.369      0.698       0.52      0.315\n",
            "\n",
            "30 epochs completed in 0.076 hours.\n",
            "Optimizer stripped from runs/train/exp/weights/last.pt, 14.5MB\n",
            "Optimizer stripped from runs/train/exp/weights/best.pt, 14.5MB\n",
            "\n",
            "Validating runs/train/exp/weights/best.pt...\n",
            "Fusing layers... \n",
            "Model Summary: 213 layers, 7015519 parameters, 0 gradients, 15.8 GFLOPs\n",
            "               Class     Images     Labels          P          R     mAP@.5 mAP@.5:.95: 100% 1/1 [00:01<00:00,  1.11s/it]\n",
            "                 all         29        162      0.368      0.697      0.522      0.315\n",
            "                mask         29        142      0.446      0.901      0.825      0.509\n",
            "             no-mask         29         20      0.291      0.492      0.219      0.121\n",
            "Results saved to \u001b[1mruns/train/exp\u001b[0m\n"
          ]
        }
      ]
    },
    {
      "cell_type": "markdown",
      "metadata": {
        "id": "15glLzbQx5u0"
      },
      "source": [
        "# 4. Visualize"
      ]
    },
    {
      "cell_type": "markdown",
      "metadata": {
        "id": "DLI1JmHU7B0l"
      },
      "source": [
        "## Weights & Biases Logging 🌟 NEW\n",
        "\n",
        "[Weights & Biases](https://wandb.ai/site?utm_campaign=repo_yolo_notebook) (W&B) is now integrated with YOLOv5 for real-time visualization and cloud logging of training runs. This allows for better run comparison and introspection, as well improved visibility and collaboration for teams. To enable W&B `pip install wandb`, and then train normally (you will be guided through setup on first use). \n",
        "\n",
        "During training you will see live updates at [https://wandb.ai/home](https://wandb.ai/home?utm_campaign=repo_yolo_notebook), and you can create and share detailed [Reports](https://wandb.ai/glenn-jocher/yolov5_tutorial/reports/YOLOv5-COCO128-Tutorial-Results--VmlldzozMDI5OTY) of your results. For more information see the [YOLOv5 Weights & Biases Tutorial](https://github.com/ultralytics/yolov5/issues/1289). \n",
        "\n",
        "<p align=\"left\"><img width=\"900\" alt=\"Weights & Biases dashboard\" src=\"https://user-images.githubusercontent.com/26833433/135390767-c28b050f-8455-4004-adb0-3b730386e2b2.png\"></p>"
      ]
    },
    {
      "cell_type": "markdown",
      "metadata": {
        "id": "-WPvRbS5Swl6"
      },
      "source": [
        "## Local Logging\n",
        "\n",
        "All results are logged by default to `runs/train`, with a new experiment directory created for each new training as `runs/train/exp2`, `runs/train/exp3`, etc. View train and val jpgs to see mosaics, labels, predictions and augmentation effects. Note an Ultralytics **Mosaic Dataloader** is used for training (shown below), which combines 4 images into 1 mosaic during training.\n",
        "\n",
        "> <img src=\"https://user-images.githubusercontent.com/26833433/131255960-b536647f-7c61-4f60-bbc5-cb2544d71b2a.jpg\" width=\"700\">  \n",
        "`train_batch0.jpg` shows train batch 0 mosaics and labels\n",
        "\n",
        "> <img src=\"https://user-images.githubusercontent.com/26833433/131256748-603cafc7-55d1-4e58-ab26-83657761aed9.jpg\" width=\"700\">  \n",
        "`test_batch0_labels.jpg` shows val batch 0 labels\n",
        "\n",
        "> <img src=\"https://user-images.githubusercontent.com/26833433/131256752-3f25d7a5-7b0f-4bb3-ab78-46343c3800fe.jpg\" width=\"700\">  \n",
        "`test_batch0_pred.jpg` shows val batch 0 _predictions_\n",
        "\n",
        "Training results are automatically logged to [Tensorboard](https://www.tensorflow.org/tensorboard) and [CSV](https://github.com/ultralytics/yolov5/pull/4148) as `results.csv`, which is plotted as `results.png` (below) after training completes. You can also plot any `results.csv` file manually:\n",
        "\n",
        "```python\n",
        "from utils.plots import plot_results \n",
        "plot_results('path/to/results.csv')  # plot 'results.csv' as 'results.png'\n",
        "```\n",
        "\n",
        "<img align=\"left\" width=\"800\" alt=\"COCO128 Training Results\" src=\"https://user-images.githubusercontent.com/26833433/126906780-8c5e2990-6116-4de6-b78a-367244a33ccf.png\">"
      ]
    },
    {
      "cell_type": "markdown",
      "metadata": {
        "id": "Zelyeqbyt3GD"
      },
      "source": [
        "# Environments\n",
        "\n",
        "YOLOv5 may be run in any of the following up-to-date verified environments (with all dependencies including [CUDA](https://developer.nvidia.com/cuda)/[CUDNN](https://developer.nvidia.com/cudnn), [Python](https://www.python.org/) and [PyTorch](https://pytorch.org/) preinstalled):\n",
        "\n",
        "- **Google Colab and Kaggle** notebooks with free GPU: <a href=\"https://colab.research.google.com/github/ultralytics/yolov5/blob/master/tutorial.ipynb\"><img src=\"https://colab.research.google.com/assets/colab-badge.svg\" alt=\"Open In Colab\"></a> <a href=\"https://www.kaggle.com/ultralytics/yolov5\"><img src=\"https://kaggle.com/static/images/open-in-kaggle.svg\" alt=\"Open In Kaggle\"></a>\n",
        "- **Google Cloud** Deep Learning VM. See [GCP Quickstart Guide](https://github.com/ultralytics/yolov5/wiki/GCP-Quickstart)\n",
        "- **Amazon** Deep Learning AMI. See [AWS Quickstart Guide](https://github.com/ultralytics/yolov5/wiki/AWS-Quickstart)\n",
        "- **Docker Image**. See [Docker Quickstart Guide](https://github.com/ultralytics/yolov5/wiki/Docker-Quickstart) <a href=\"https://hub.docker.com/r/ultralytics/yolov5\"><img src=\"https://img.shields.io/docker/pulls/ultralytics/yolov5?logo=docker\" alt=\"Docker Pulls\"></a>\n"
      ]
    },
    {
      "cell_type": "markdown",
      "metadata": {
        "id": "6Qu7Iesl0p54"
      },
      "source": [
        "# Status\n",
        "\n",
        "![CI CPU testing](https://github.com/ultralytics/yolov5/workflows/CI%20CPU%20testing/badge.svg)\n",
        "\n",
        "If this badge is green, all [YOLOv5 GitHub Actions](https://github.com/ultralytics/yolov5/actions) Continuous Integration (CI) tests are currently passing. CI tests verify correct operation of YOLOv5 training ([train.py](https://github.com/ultralytics/yolov5/blob/master/train.py)), testing ([val.py](https://github.com/ultralytics/yolov5/blob/master/val.py)), inference ([detect.py](https://github.com/ultralytics/yolov5/blob/master/detect.py)) and export ([export.py](https://github.com/ultralytics/yolov5/blob/master/export.py)) on MacOS, Windows, and Ubuntu every 24 hours and on every commit.\n"
      ]
    },
    {
      "cell_type": "markdown",
      "metadata": {
        "id": "IEijrePND_2I"
      },
      "source": [
        "# Appendix\n",
        "\n",
        "Optional extras below. Unit tests validate repo functionality and should be run on any PRs submitted.\n"
      ]
    },
    {
      "cell_type": "code",
      "metadata": {
        "id": "mcKoSIK2WSzj"
      },
      "source": [
        "# Reproduce\n",
        "for x in 'yolov5n', 'yolov5s', 'yolov5m', 'yolov5l', 'yolov5x':\n",
        "  !python val.py --weights {x}.pt --data coco.yaml --img 640 --task speed  # speed\n",
        "  !python val.py --weights {x}.pt --data coco.yaml --img 640 --conf 0.001 --iou 0.65  # mAP"
      ],
      "execution_count": null,
      "outputs": []
    },
    {
      "cell_type": "code",
      "metadata": {
        "id": "GMusP4OAxFu6"
      },
      "source": [
        "# PyTorch Hub\n",
        "import torch\n",
        "\n",
        "# Model\n",
        "model = torch.hub.load('ultralytics/yolov5', 'yolov5s')\n",
        "\n",
        "# Images\n",
        "dir = 'https://ultralytics.com/images/'\n",
        "imgs = [dir + f for f in ('zidane.jpg', 'bus.jpg')]  # batch of images\n",
        "\n",
        "# Inference\n",
        "results = model(imgs)\n",
        "results.print()  # or .show(), .save()"
      ],
      "execution_count": null,
      "outputs": []
    },
    {
      "cell_type": "code",
      "metadata": {
        "id": "FGH0ZjkGjejy"
      },
      "source": [
        "# CI Checks\n",
        "%%shell\n",
        "export PYTHONPATH=\"$PWD\"  # to run *.py. files in subdirectories\n",
        "rm -rf runs  # remove runs/\n",
        "for m in yolov5n; do  # models\n",
        "  python train.py --img 64 --batch 32 --weights $m.pt --epochs 1 --device 0  # train pretrained\n",
        "  python train.py --img 64 --batch 32 --weights '' --cfg $m.yaml --epochs 1 --device 0  # train scratch\n",
        "  for d in 0 cpu; do  # devices\n",
        "    python val.py --weights $m.pt --device $d # val official\n",
        "    python val.py --weights runs/train/exp/weights/best.pt --device $d # val custom\n",
        "    python detect.py --weights $m.pt --device $d  # detect official\n",
        "    python detect.py --weights runs/train/exp/weights/best.pt --device $d  # detect custom\n",
        "  done\n",
        "  python hubconf.py  # hub\n",
        "  python models/yolo.py --cfg $m.yaml  # build PyTorch model\n",
        "  python models/tf.py --weights $m.pt  # build TensorFlow model\n",
        "  python export.py --img 64 --batch 1 --weights $m.pt --include torchscript onnx  # export\n",
        "done"
      ],
      "execution_count": null,
      "outputs": []
    },
    {
      "cell_type": "code",
      "metadata": {
        "id": "gogI-kwi3Tye"
      },
      "source": [
        "# Profile\n",
        "from utils.torch_utils import profile\n",
        "\n",
        "m1 = lambda x: x * torch.sigmoid(x)\n",
        "m2 = torch.nn.SiLU()\n",
        "results = profile(input=torch.randn(16, 3, 640, 640), ops=[m1, m2], n=100)"
      ],
      "execution_count": null,
      "outputs": []
    },
    {
      "cell_type": "code",
      "metadata": {
        "id": "RVRSOhEvUdb5"
      },
      "source": [
        "# Evolve\n",
        "!python train.py --img 640 --batch 64 --epochs 100 --data coco128.yaml --weights yolov5s.pt --cache --noautoanchor --evolve\n",
        "!d=runs/train/evolve && cp evolve.* $d && zip -r evolve.zip $d && gsutil mv evolve.zip gs://bucket  # upload results (optional)"
      ],
      "execution_count": null,
      "outputs": []
    },
    {
      "cell_type": "code",
      "metadata": {
        "id": "BSgFCAcMbk1R"
      },
      "source": [
        "# VOC\n",
        "for b, m in zip([64, 64, 32, 16], ['yolov5s', 'yolov5m', 'yolov5l', 'yolov5x']):  # zip(batch_size, model)\n",
        "  !python train.py --batch {b} --weights {m}.pt --data VOC.yaml --epochs 50 --cache --img 512 --nosave --hyp hyp.VOC.yaml --project VOC --name {m}"
      ],
      "execution_count": null,
      "outputs": []
    },
    {
      "cell_type": "code",
      "metadata": {
        "id": "VTRwsvA9u7ln"
      },
      "source": [
        "# TensorRT \n",
        "# https://docs.nvidia.com/deeplearning/tensorrt/install-guide/index.html#installing-pip\n",
        "!pip install -U nvidia-tensorrt --index-url https://pypi.ngc.nvidia.com  # install\n",
        "!python export.py --weights yolov5s.pt --include engine --imgsz 640 640 --device 0  # export\n",
        "!python detect.py --weights yolov5s.engine --imgsz 640 640 --device 0  # inference"
      ],
      "execution_count": null,
      "outputs": []
    }
  ]
}