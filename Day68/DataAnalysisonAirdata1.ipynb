{
  "nbformat": 4,
  "nbformat_minor": 0,
  "metadata": {
    "colab": {
      "name": "DataAnalysisonAirdata1.ipynb",
      "provenance": [],
      "collapsed_sections": [],
      "authorship_tag": "ABX9TyPUVH6YvkgGSU8nr0LIu9It",
      "include_colab_link": true
    },
    "kernelspec": {
      "name": "python3",
      "display_name": "Python 3"
    },
    "language_info": {
      "name": "python"
    }
  },
  "cells": [
    {
      "cell_type": "markdown",
      "metadata": {
        "id": "view-in-github",
        "colab_type": "text"
      },
      "source": [
        "<a href=\"https://colab.research.google.com/github/golesuman/66daysofdata/blob/main/Day68/DataAnalysisonAirdata1.ipynb\" target=\"_parent\"><img src=\"https://colab.research.google.com/assets/colab-badge.svg\" alt=\"Open In Colab\"/></a>"
      ]
    },
    {
      "cell_type": "code",
      "execution_count": 1,
      "metadata": {
        "colab": {
          "base_uri": "https://localhost:8080/"
        },
        "id": "QlTeudxwaqAB",
        "outputId": "021e377b-d64d-4744-dbf7-0f62b218bcb7"
      },
      "outputs": [
        {
          "output_type": "stream",
          "name": "stdout",
          "text": [
            "--2022-03-27 08:08:00--  https://archive.ics.uci.edu/ml/machine-learning-databases/00360/AirQualityUCI.zip\n",
            "Resolving archive.ics.uci.edu (archive.ics.uci.edu)... 128.195.10.252\n",
            "Connecting to archive.ics.uci.edu (archive.ics.uci.edu)|128.195.10.252|:443... connected.\n",
            "HTTP request sent, awaiting response... 200 OK\n",
            "Length: 1543989 (1.5M) [application/x-httpd-php]\n",
            "Saving to: ‘AirQualityUCI.zip’\n",
            "\n",
            "AirQualityUCI.zip   100%[===================>]   1.47M  3.28MB/s    in 0.4s    \n",
            "\n",
            "2022-03-27 08:08:01 (3.28 MB/s) - ‘AirQualityUCI.zip’ saved [1543989/1543989]\n",
            "\n"
          ]
        }
      ],
      "source": [
        "!wget 'https://archive.ics.uci.edu/ml/machine-learning-databases/00360/AirQualityUCI.zip'"
      ]
    },
    {
      "cell_type": "code",
      "source": [
        "!unzip AirQualityUCI.zip"
      ],
      "metadata": {
        "colab": {
          "base_uri": "https://localhost:8080/"
        },
        "id": "3Y-kV3LsasrT",
        "outputId": "497ab21d-1280-4d3e-cc61-a733c325259f"
      },
      "execution_count": 2,
      "outputs": [
        {
          "output_type": "stream",
          "name": "stdout",
          "text": [
            "Archive:  AirQualityUCI.zip\n",
            "  inflating: AirQualityUCI.csv       \n",
            "  inflating: AirQualityUCI.xlsx      \n"
          ]
        }
      ]
    },
    {
      "cell_type": "code",
      "source": [
        "import pandas as pd\n",
        "import numpy as np\n",
        "import seaborn as sns\n",
        "import matplotlib.pyplot as plt\n",
        "%matplotlib inline"
      ],
      "metadata": {
        "id": "1nI4xaqga85H"
      },
      "execution_count": 4,
      "outputs": []
    },
    {
      "cell_type": "code",
      "source": [
        "df=pd.read_excel('AirQualityUCI.xlsx')\n",
        "df.sample(10)"
      ],
      "metadata": {
        "colab": {
          "base_uri": "https://localhost:8080/",
          "height": 600
        },
        "id": "n86ijI8Hazwf",
        "outputId": "6c474ed0-bf87-4c67-e954-b493a6bcbc02"
      },
      "execution_count": 31,
      "outputs": [
        {
          "output_type": "execute_result",
          "data": {
            "text/plain": [
              "           Date      Time  CO(GT)  PT08.S1(CO)  NMHC(GT)    C6H6(GT)  \\\n",
              "604  2004-04-04  22:00:00  -200.0      1195.75      -200    6.906801   \n",
              "6097 2004-11-19  19:00:00     8.3      1622.50      -200   29.814141   \n",
              "6721 2004-12-15  19:00:00     3.6      -200.00      -200 -200.000000   \n",
              "3133 2004-07-19  07:00:00     2.3      1278.75      -200   16.578088   \n",
              "6192 2004-11-23  18:00:00    10.2      1982.25      -200   49.492093   \n",
              "6271 2004-11-27  01:00:00     4.2      1530.50      -200   17.959730   \n",
              "6962 2004-12-25  20:00:00     6.2      1739.00      -200   21.331123   \n",
              "8745 2005-03-10  03:00:00     1.1      1014.00      -200    4.368716   \n",
              "6713 2004-12-15  11:00:00     3.5      -200.00      -200 -200.000000   \n",
              "728  2004-04-10  02:00:00     1.7      1074.25       102    6.440555   \n",
              "\n",
              "      PT08.S2(NMHC)  NOx(GT)  PT08.S3(NOx)  NO2(GT)  PT08.S4(NO2)  \\\n",
              "604          852.75   -200.0        909.00   -200.0        1556.0   \n",
              "6097        1546.50    832.0        414.00    188.0        2039.5   \n",
              "6721        -200.00    484.0       -200.00    137.0        -200.0   \n",
              "3133        1197.25    250.0        598.50    112.0        1905.5   \n",
              "6192        1958.75   1369.0        322.00    227.0        2535.5   \n",
              "6271        1238.25    685.0        619.00    140.0        1582.5   \n",
              "6962        1333.00    821.0        460.25    174.0        1689.0   \n",
              "8745         730.75   -200.0        784.25   -200.0        1062.0   \n",
              "6713        -200.00    809.0       -200.00    176.0        -200.0   \n",
              "728          832.00    101.0        951.25     75.0        1506.5   \n",
              "\n",
              "      PT08.S5(O3)        T          RH          AH  \n",
              "604        768.75   15.775   58.800000    1.046387  \n",
              "6097      1882.75   16.225   62.575000    1.145490  \n",
              "6721      -200.00 -200.000 -200.000000 -200.000000  \n",
              "3133      1517.75   22.875   42.975000    1.182643  \n",
              "6192      2385.50   13.150   72.600000    1.093646  \n",
              "6271      1774.00   12.700   77.474998    1.133864  \n",
              "6962      1832.00   11.275   78.325001    1.045504  \n",
              "8745      1038.00    4.575   78.175001    0.668411  \n",
              "6713      -200.00 -200.000 -200.000000 -200.000000  \n",
              "728        979.75   11.400   69.775000    0.938961  "
            ],
            "text/html": [
              "\n",
              "  <div id=\"df-775b489f-7896-4c85-a2f2-d07b7110ce9b\">\n",
              "    <div class=\"colab-df-container\">\n",
              "      <div>\n",
              "<style scoped>\n",
              "    .dataframe tbody tr th:only-of-type {\n",
              "        vertical-align: middle;\n",
              "    }\n",
              "\n",
              "    .dataframe tbody tr th {\n",
              "        vertical-align: top;\n",
              "    }\n",
              "\n",
              "    .dataframe thead th {\n",
              "        text-align: right;\n",
              "    }\n",
              "</style>\n",
              "<table border=\"1\" class=\"dataframe\">\n",
              "  <thead>\n",
              "    <tr style=\"text-align: right;\">\n",
              "      <th></th>\n",
              "      <th>Date</th>\n",
              "      <th>Time</th>\n",
              "      <th>CO(GT)</th>\n",
              "      <th>PT08.S1(CO)</th>\n",
              "      <th>NMHC(GT)</th>\n",
              "      <th>C6H6(GT)</th>\n",
              "      <th>PT08.S2(NMHC)</th>\n",
              "      <th>NOx(GT)</th>\n",
              "      <th>PT08.S3(NOx)</th>\n",
              "      <th>NO2(GT)</th>\n",
              "      <th>PT08.S4(NO2)</th>\n",
              "      <th>PT08.S5(O3)</th>\n",
              "      <th>T</th>\n",
              "      <th>RH</th>\n",
              "      <th>AH</th>\n",
              "    </tr>\n",
              "  </thead>\n",
              "  <tbody>\n",
              "    <tr>\n",
              "      <th>604</th>\n",
              "      <td>2004-04-04</td>\n",
              "      <td>22:00:00</td>\n",
              "      <td>-200.0</td>\n",
              "      <td>1195.75</td>\n",
              "      <td>-200</td>\n",
              "      <td>6.906801</td>\n",
              "      <td>852.75</td>\n",
              "      <td>-200.0</td>\n",
              "      <td>909.00</td>\n",
              "      <td>-200.0</td>\n",
              "      <td>1556.0</td>\n",
              "      <td>768.75</td>\n",
              "      <td>15.775</td>\n",
              "      <td>58.800000</td>\n",
              "      <td>1.046387</td>\n",
              "    </tr>\n",
              "    <tr>\n",
              "      <th>6097</th>\n",
              "      <td>2004-11-19</td>\n",
              "      <td>19:00:00</td>\n",
              "      <td>8.3</td>\n",
              "      <td>1622.50</td>\n",
              "      <td>-200</td>\n",
              "      <td>29.814141</td>\n",
              "      <td>1546.50</td>\n",
              "      <td>832.0</td>\n",
              "      <td>414.00</td>\n",
              "      <td>188.0</td>\n",
              "      <td>2039.5</td>\n",
              "      <td>1882.75</td>\n",
              "      <td>16.225</td>\n",
              "      <td>62.575000</td>\n",
              "      <td>1.145490</td>\n",
              "    </tr>\n",
              "    <tr>\n",
              "      <th>6721</th>\n",
              "      <td>2004-12-15</td>\n",
              "      <td>19:00:00</td>\n",
              "      <td>3.6</td>\n",
              "      <td>-200.00</td>\n",
              "      <td>-200</td>\n",
              "      <td>-200.000000</td>\n",
              "      <td>-200.00</td>\n",
              "      <td>484.0</td>\n",
              "      <td>-200.00</td>\n",
              "      <td>137.0</td>\n",
              "      <td>-200.0</td>\n",
              "      <td>-200.00</td>\n",
              "      <td>-200.000</td>\n",
              "      <td>-200.000000</td>\n",
              "      <td>-200.000000</td>\n",
              "    </tr>\n",
              "    <tr>\n",
              "      <th>3133</th>\n",
              "      <td>2004-07-19</td>\n",
              "      <td>07:00:00</td>\n",
              "      <td>2.3</td>\n",
              "      <td>1278.75</td>\n",
              "      <td>-200</td>\n",
              "      <td>16.578088</td>\n",
              "      <td>1197.25</td>\n",
              "      <td>250.0</td>\n",
              "      <td>598.50</td>\n",
              "      <td>112.0</td>\n",
              "      <td>1905.5</td>\n",
              "      <td>1517.75</td>\n",
              "      <td>22.875</td>\n",
              "      <td>42.975000</td>\n",
              "      <td>1.182643</td>\n",
              "    </tr>\n",
              "    <tr>\n",
              "      <th>6192</th>\n",
              "      <td>2004-11-23</td>\n",
              "      <td>18:00:00</td>\n",
              "      <td>10.2</td>\n",
              "      <td>1982.25</td>\n",
              "      <td>-200</td>\n",
              "      <td>49.492093</td>\n",
              "      <td>1958.75</td>\n",
              "      <td>1369.0</td>\n",
              "      <td>322.00</td>\n",
              "      <td>227.0</td>\n",
              "      <td>2535.5</td>\n",
              "      <td>2385.50</td>\n",
              "      <td>13.150</td>\n",
              "      <td>72.600000</td>\n",
              "      <td>1.093646</td>\n",
              "    </tr>\n",
              "    <tr>\n",
              "      <th>6271</th>\n",
              "      <td>2004-11-27</td>\n",
              "      <td>01:00:00</td>\n",
              "      <td>4.2</td>\n",
              "      <td>1530.50</td>\n",
              "      <td>-200</td>\n",
              "      <td>17.959730</td>\n",
              "      <td>1238.25</td>\n",
              "      <td>685.0</td>\n",
              "      <td>619.00</td>\n",
              "      <td>140.0</td>\n",
              "      <td>1582.5</td>\n",
              "      <td>1774.00</td>\n",
              "      <td>12.700</td>\n",
              "      <td>77.474998</td>\n",
              "      <td>1.133864</td>\n",
              "    </tr>\n",
              "    <tr>\n",
              "      <th>6962</th>\n",
              "      <td>2004-12-25</td>\n",
              "      <td>20:00:00</td>\n",
              "      <td>6.2</td>\n",
              "      <td>1739.00</td>\n",
              "      <td>-200</td>\n",
              "      <td>21.331123</td>\n",
              "      <td>1333.00</td>\n",
              "      <td>821.0</td>\n",
              "      <td>460.25</td>\n",
              "      <td>174.0</td>\n",
              "      <td>1689.0</td>\n",
              "      <td>1832.00</td>\n",
              "      <td>11.275</td>\n",
              "      <td>78.325001</td>\n",
              "      <td>1.045504</td>\n",
              "    </tr>\n",
              "    <tr>\n",
              "      <th>8745</th>\n",
              "      <td>2005-03-10</td>\n",
              "      <td>03:00:00</td>\n",
              "      <td>1.1</td>\n",
              "      <td>1014.00</td>\n",
              "      <td>-200</td>\n",
              "      <td>4.368716</td>\n",
              "      <td>730.75</td>\n",
              "      <td>-200.0</td>\n",
              "      <td>784.25</td>\n",
              "      <td>-200.0</td>\n",
              "      <td>1062.0</td>\n",
              "      <td>1038.00</td>\n",
              "      <td>4.575</td>\n",
              "      <td>78.175001</td>\n",
              "      <td>0.668411</td>\n",
              "    </tr>\n",
              "    <tr>\n",
              "      <th>6713</th>\n",
              "      <td>2004-12-15</td>\n",
              "      <td>11:00:00</td>\n",
              "      <td>3.5</td>\n",
              "      <td>-200.00</td>\n",
              "      <td>-200</td>\n",
              "      <td>-200.000000</td>\n",
              "      <td>-200.00</td>\n",
              "      <td>809.0</td>\n",
              "      <td>-200.00</td>\n",
              "      <td>176.0</td>\n",
              "      <td>-200.0</td>\n",
              "      <td>-200.00</td>\n",
              "      <td>-200.000</td>\n",
              "      <td>-200.000000</td>\n",
              "      <td>-200.000000</td>\n",
              "    </tr>\n",
              "    <tr>\n",
              "      <th>728</th>\n",
              "      <td>2004-04-10</td>\n",
              "      <td>02:00:00</td>\n",
              "      <td>1.7</td>\n",
              "      <td>1074.25</td>\n",
              "      <td>102</td>\n",
              "      <td>6.440555</td>\n",
              "      <td>832.00</td>\n",
              "      <td>101.0</td>\n",
              "      <td>951.25</td>\n",
              "      <td>75.0</td>\n",
              "      <td>1506.5</td>\n",
              "      <td>979.75</td>\n",
              "      <td>11.400</td>\n",
              "      <td>69.775000</td>\n",
              "      <td>0.938961</td>\n",
              "    </tr>\n",
              "  </tbody>\n",
              "</table>\n",
              "</div>\n",
              "      <button class=\"colab-df-convert\" onclick=\"convertToInteractive('df-775b489f-7896-4c85-a2f2-d07b7110ce9b')\"\n",
              "              title=\"Convert this dataframe to an interactive table.\"\n",
              "              style=\"display:none;\">\n",
              "        \n",
              "  <svg xmlns=\"http://www.w3.org/2000/svg\" height=\"24px\"viewBox=\"0 0 24 24\"\n",
              "       width=\"24px\">\n",
              "    <path d=\"M0 0h24v24H0V0z\" fill=\"none\"/>\n",
              "    <path d=\"M18.56 5.44l.94 2.06.94-2.06 2.06-.94-2.06-.94-.94-2.06-.94 2.06-2.06.94zm-11 1L8.5 8.5l.94-2.06 2.06-.94-2.06-.94L8.5 2.5l-.94 2.06-2.06.94zm10 10l.94 2.06.94-2.06 2.06-.94-2.06-.94-.94-2.06-.94 2.06-2.06.94z\"/><path d=\"M17.41 7.96l-1.37-1.37c-.4-.4-.92-.59-1.43-.59-.52 0-1.04.2-1.43.59L10.3 9.45l-7.72 7.72c-.78.78-.78 2.05 0 2.83L4 21.41c.39.39.9.59 1.41.59.51 0 1.02-.2 1.41-.59l7.78-7.78 2.81-2.81c.8-.78.8-2.07 0-2.86zM5.41 20L4 18.59l7.72-7.72 1.47 1.35L5.41 20z\"/>\n",
              "  </svg>\n",
              "      </button>\n",
              "      \n",
              "  <style>\n",
              "    .colab-df-container {\n",
              "      display:flex;\n",
              "      flex-wrap:wrap;\n",
              "      gap: 12px;\n",
              "    }\n",
              "\n",
              "    .colab-df-convert {\n",
              "      background-color: #E8F0FE;\n",
              "      border: none;\n",
              "      border-radius: 50%;\n",
              "      cursor: pointer;\n",
              "      display: none;\n",
              "      fill: #1967D2;\n",
              "      height: 32px;\n",
              "      padding: 0 0 0 0;\n",
              "      width: 32px;\n",
              "    }\n",
              "\n",
              "    .colab-df-convert:hover {\n",
              "      background-color: #E2EBFA;\n",
              "      box-shadow: 0px 1px 2px rgba(60, 64, 67, 0.3), 0px 1px 3px 1px rgba(60, 64, 67, 0.15);\n",
              "      fill: #174EA6;\n",
              "    }\n",
              "\n",
              "    [theme=dark] .colab-df-convert {\n",
              "      background-color: #3B4455;\n",
              "      fill: #D2E3FC;\n",
              "    }\n",
              "\n",
              "    [theme=dark] .colab-df-convert:hover {\n",
              "      background-color: #434B5C;\n",
              "      box-shadow: 0px 1px 3px 1px rgba(0, 0, 0, 0.15);\n",
              "      filter: drop-shadow(0px 1px 2px rgba(0, 0, 0, 0.3));\n",
              "      fill: #FFFFFF;\n",
              "    }\n",
              "  </style>\n",
              "\n",
              "      <script>\n",
              "        const buttonEl =\n",
              "          document.querySelector('#df-775b489f-7896-4c85-a2f2-d07b7110ce9b button.colab-df-convert');\n",
              "        buttonEl.style.display =\n",
              "          google.colab.kernel.accessAllowed ? 'block' : 'none';\n",
              "\n",
              "        async function convertToInteractive(key) {\n",
              "          const element = document.querySelector('#df-775b489f-7896-4c85-a2f2-d07b7110ce9b');\n",
              "          const dataTable =\n",
              "            await google.colab.kernel.invokeFunction('convertToInteractive',\n",
              "                                                     [key], {});\n",
              "          if (!dataTable) return;\n",
              "\n",
              "          const docLinkHtml = 'Like what you see? Visit the ' +\n",
              "            '<a target=\"_blank\" href=https://colab.research.google.com/notebooks/data_table.ipynb>data table notebook</a>'\n",
              "            + ' to learn more about interactive tables.';\n",
              "          element.innerHTML = '';\n",
              "          dataTable['output_type'] = 'display_data';\n",
              "          await google.colab.output.renderOutput(dataTable, element);\n",
              "          const docLink = document.createElement('div');\n",
              "          docLink.innerHTML = docLinkHtml;\n",
              "          element.appendChild(docLink);\n",
              "        }\n",
              "      </script>\n",
              "    </div>\n",
              "  </div>\n",
              "  "
            ]
          },
          "metadata": {},
          "execution_count": 31
        }
      ]
    },
    {
      "cell_type": "code",
      "source": [
        ""
      ],
      "metadata": {
        "id": "i_yO-Utfhs_F"
      },
      "execution_count": null,
      "outputs": []
    },
    {
      "cell_type": "code",
      "source": [
        "df.shape"
      ],
      "metadata": {
        "colab": {
          "base_uri": "https://localhost:8080/"
        },
        "id": "PwjkgZWwdB85",
        "outputId": "91aa4115-5894-409c-8c7a-46a2a2d5605b"
      },
      "execution_count": 32,
      "outputs": [
        {
          "output_type": "execute_result",
          "data": {
            "text/plain": [
              "(9357, 15)"
            ]
          },
          "metadata": {},
          "execution_count": 32
        }
      ]
    },
    {
      "cell_type": "code",
      "source": [
        "features=[feature for feature in df.columns]\n",
        "# printing the no of null values in dataframe\n",
        "for category in features:\n",
        "  print(f'The total no of null values in {category} is {df[category].isna().sum()}')"
      ],
      "metadata": {
        "colab": {
          "base_uri": "https://localhost:8080/"
        },
        "id": "JQklBs22dQWJ",
        "outputId": "9b0bbcbd-fdaf-4c7b-e10d-c483b8ee0d05"
      },
      "execution_count": 33,
      "outputs": [
        {
          "output_type": "stream",
          "name": "stdout",
          "text": [
            "The total no of null values in Date is 0\n",
            "The total no of null values in Time is 0\n",
            "The total no of null values in CO(GT) is 0\n",
            "The total no of null values in PT08.S1(CO) is 0\n",
            "The total no of null values in NMHC(GT) is 0\n",
            "The total no of null values in C6H6(GT) is 0\n",
            "The total no of null values in PT08.S2(NMHC) is 0\n",
            "The total no of null values in NOx(GT) is 0\n",
            "The total no of null values in PT08.S3(NOx) is 0\n",
            "The total no of null values in NO2(GT) is 0\n",
            "The total no of null values in PT08.S4(NO2) is 0\n",
            "The total no of null values in PT08.S5(O3) is 0\n",
            "The total no of null values in T is 0\n",
            "The total no of null values in RH is 0\n",
            "The total no of null values in AH is 0\n"
          ]
        }
      ]
    },
    {
      "cell_type": "code",
      "source": [
        "df.info()"
      ],
      "metadata": {
        "colab": {
          "base_uri": "https://localhost:8080/"
        },
        "id": "VS_MLwOzdqCX",
        "outputId": "24ed7f36-a4e2-49b6-8171-da2c351fb1b6"
      },
      "execution_count": 34,
      "outputs": [
        {
          "output_type": "stream",
          "name": "stdout",
          "text": [
            "<class 'pandas.core.frame.DataFrame'>\n",
            "RangeIndex: 9357 entries, 0 to 9356\n",
            "Data columns (total 15 columns):\n",
            " #   Column         Non-Null Count  Dtype         \n",
            "---  ------         --------------  -----         \n",
            " 0   Date           9357 non-null   datetime64[ns]\n",
            " 1   Time           9357 non-null   object        \n",
            " 2   CO(GT)         9357 non-null   float64       \n",
            " 3   PT08.S1(CO)    9357 non-null   float64       \n",
            " 4   NMHC(GT)       9357 non-null   int64         \n",
            " 5   C6H6(GT)       9357 non-null   float64       \n",
            " 6   PT08.S2(NMHC)  9357 non-null   float64       \n",
            " 7   NOx(GT)        9357 non-null   float64       \n",
            " 8   PT08.S3(NOx)   9357 non-null   float64       \n",
            " 9   NO2(GT)        9357 non-null   float64       \n",
            " 10  PT08.S4(NO2)   9357 non-null   float64       \n",
            " 11  PT08.S5(O3)    9357 non-null   float64       \n",
            " 12  T              9357 non-null   float64       \n",
            " 13  RH             9357 non-null   float64       \n",
            " 14  AH             9357 non-null   float64       \n",
            "dtypes: datetime64[ns](1), float64(12), int64(1), object(1)\n",
            "memory usage: 1.1+ MB\n"
          ]
        }
      ]
    },
    {
      "cell_type": "markdown",
      "source": [
        "## Finding numerical values"
      ],
      "metadata": {
        "id": "7bNim-8yd3tM"
      }
    },
    {
      "cell_type": "code",
      "source": [
        "len(df.columns)"
      ],
      "metadata": {
        "colab": {
          "base_uri": "https://localhost:8080/"
        },
        "id": "m_XQYHEfhkfT",
        "outputId": "beff8c7a-2e27-4790-e90c-f15785c5cfbd"
      },
      "execution_count": 41,
      "outputs": [
        {
          "output_type": "execute_result",
          "data": {
            "text/plain": [
              "15"
            ]
          },
          "metadata": {},
          "execution_count": 41
        }
      ]
    },
    {
      "cell_type": "code",
      "source": [
        "numerical_features=[feature for feature in df.columns if df[feature].values.dtype!='O']\n",
        "numerical_features"
      ],
      "metadata": {
        "colab": {
          "base_uri": "https://localhost:8080/"
        },
        "id": "WKTjpgBhd2qg",
        "outputId": "34de88e5-2bf5-4f7a-c6c4-6b9c0d8a6112"
      },
      "execution_count": 40,
      "outputs": [
        {
          "output_type": "execute_result",
          "data": {
            "text/plain": [
              "['Date',\n",
              " 'CO(GT)',\n",
              " 'PT08.S1(CO)',\n",
              " 'NMHC(GT)',\n",
              " 'C6H6(GT)',\n",
              " 'PT08.S2(NMHC)',\n",
              " 'NOx(GT)',\n",
              " 'PT08.S3(NOx)',\n",
              " 'NO2(GT)',\n",
              " 'PT08.S4(NO2)',\n",
              " 'PT08.S5(O3)',\n",
              " 'T',\n",
              " 'RH',\n",
              " 'AH']"
            ]
          },
          "metadata": {},
          "execution_count": 40
        }
      ]
    },
    {
      "cell_type": "code",
      "source": [
        "len(numerical_features)"
      ],
      "metadata": {
        "colab": {
          "base_uri": "https://localhost:8080/"
        },
        "id": "iWztX_23eh-S",
        "outputId": "6777bf8b-da5a-436e-f655-12a24e096e3f"
      },
      "execution_count": 43,
      "outputs": [
        {
          "output_type": "execute_result",
          "data": {
            "text/plain": [
              "14"
            ]
          },
          "metadata": {},
          "execution_count": 43
        }
      ]
    },
    {
      "cell_type": "code",
      "source": [
        "times='22:00:00'\n",
        "print(times.split(\":\")[0])"
      ],
      "metadata": {
        "colab": {
          "base_uri": "https://localhost:8080/"
        },
        "id": "_-Z96tX0iAKO",
        "outputId": "fc39295a-3b8b-4831-d05b-2d9410d20926"
      },
      "execution_count": 48,
      "outputs": [
        {
          "output_type": "stream",
          "name": "stdout",
          "text": [
            "22\n"
          ]
        }
      ]
    },
    {
      "cell_type": "code",
      "source": [
        "df.Time.head()"
      ],
      "metadata": {
        "colab": {
          "base_uri": "https://localhost:8080/"
        },
        "id": "_GKSh-aIjH1P",
        "outputId": "79f761b0-d379-4c76-931d-88944a855cb3"
      },
      "execution_count": 54,
      "outputs": [
        {
          "output_type": "execute_result",
          "data": {
            "text/plain": [
              "0    18:00:00\n",
              "1    19:00:00\n",
              "2    20:00:00\n",
              "3    21:00:00\n",
              "4    22:00:00\n",
              "Name: Time, dtype: object"
            ]
          },
          "metadata": {},
          "execution_count": 54
        }
      ]
    },
    {
      "cell_type": "code",
      "source": [
        "df.describe()"
      ],
      "metadata": {
        "colab": {
          "base_uri": "https://localhost:8080/",
          "height": 364
        },
        "id": "FoeYj3fajHqX",
        "outputId": "2e5ac753-4931-4f35-bb8d-9f4ab6421376"
      },
      "execution_count": 64,
      "outputs": [
        {
          "output_type": "execute_result",
          "data": {
            "text/plain": [
              "            CO(GT)  PT08.S1(CO)     NMHC(GT)     C6H6(GT)  PT08.S2(NMHC)  \\\n",
              "count  9357.000000  9357.000000  9357.000000  9357.000000    9357.000000   \n",
              "mean    -34.207524  1048.869652  -159.090093     1.865576     894.475963   \n",
              "std      77.657170   329.817015   139.789093    41.380154     342.315902   \n",
              "min    -200.000000  -200.000000  -200.000000  -200.000000    -200.000000   \n",
              "25%       0.600000   921.000000  -200.000000     4.004958     711.000000   \n",
              "50%       1.500000  1052.500000  -200.000000     7.886653     894.500000   \n",
              "75%       2.600000  1221.250000  -200.000000    13.636091    1104.750000   \n",
              "max      11.900000  2039.750000  1189.000000    63.741476    2214.000000   \n",
              "\n",
              "           NOx(GT)  PT08.S3(NOx)      NO2(GT)  PT08.S4(NO2)  PT08.S5(O3)  \\\n",
              "count  9357.000000   9357.000000  9357.000000   9357.000000  9357.000000   \n",
              "mean    168.604200    794.872333    58.135898   1391.363266   974.951534   \n",
              "std     257.424561    321.977031   126.931428    467.192382   456.922728   \n",
              "min    -200.000000   -200.000000  -200.000000   -200.000000  -200.000000   \n",
              "25%      50.000000    637.000000    53.000000   1184.750000   699.750000   \n",
              "50%     141.000000    794.250000    96.000000   1445.500000   942.000000   \n",
              "75%     284.200000    960.250000   133.000000   1662.000000  1255.250000   \n",
              "max    1479.000000   2682.750000   339.700000   2775.000000  2522.750000   \n",
              "\n",
              "                 T           RH           AH  \n",
              "count  9357.000000  9357.000000  9357.000000  \n",
              "mean      9.776600    39.483611    -6.837604  \n",
              "std      43.203438    51.215645    38.976670  \n",
              "min    -200.000000  -200.000000  -200.000000  \n",
              "25%      10.950000    34.050000     0.692275  \n",
              "50%      17.200000    48.550000     0.976823  \n",
              "75%      24.075000    61.875000     1.296223  \n",
              "max      44.600000    88.725000     2.231036  "
            ],
            "text/html": [
              "\n",
              "  <div id=\"df-b904b438-a0a0-4b8a-8150-4a46be318963\">\n",
              "    <div class=\"colab-df-container\">\n",
              "      <div>\n",
              "<style scoped>\n",
              "    .dataframe tbody tr th:only-of-type {\n",
              "        vertical-align: middle;\n",
              "    }\n",
              "\n",
              "    .dataframe tbody tr th {\n",
              "        vertical-align: top;\n",
              "    }\n",
              "\n",
              "    .dataframe thead th {\n",
              "        text-align: right;\n",
              "    }\n",
              "</style>\n",
              "<table border=\"1\" class=\"dataframe\">\n",
              "  <thead>\n",
              "    <tr style=\"text-align: right;\">\n",
              "      <th></th>\n",
              "      <th>CO(GT)</th>\n",
              "      <th>PT08.S1(CO)</th>\n",
              "      <th>NMHC(GT)</th>\n",
              "      <th>C6H6(GT)</th>\n",
              "      <th>PT08.S2(NMHC)</th>\n",
              "      <th>NOx(GT)</th>\n",
              "      <th>PT08.S3(NOx)</th>\n",
              "      <th>NO2(GT)</th>\n",
              "      <th>PT08.S4(NO2)</th>\n",
              "      <th>PT08.S5(O3)</th>\n",
              "      <th>T</th>\n",
              "      <th>RH</th>\n",
              "      <th>AH</th>\n",
              "    </tr>\n",
              "  </thead>\n",
              "  <tbody>\n",
              "    <tr>\n",
              "      <th>count</th>\n",
              "      <td>9357.000000</td>\n",
              "      <td>9357.000000</td>\n",
              "      <td>9357.000000</td>\n",
              "      <td>9357.000000</td>\n",
              "      <td>9357.000000</td>\n",
              "      <td>9357.000000</td>\n",
              "      <td>9357.000000</td>\n",
              "      <td>9357.000000</td>\n",
              "      <td>9357.000000</td>\n",
              "      <td>9357.000000</td>\n",
              "      <td>9357.000000</td>\n",
              "      <td>9357.000000</td>\n",
              "      <td>9357.000000</td>\n",
              "    </tr>\n",
              "    <tr>\n",
              "      <th>mean</th>\n",
              "      <td>-34.207524</td>\n",
              "      <td>1048.869652</td>\n",
              "      <td>-159.090093</td>\n",
              "      <td>1.865576</td>\n",
              "      <td>894.475963</td>\n",
              "      <td>168.604200</td>\n",
              "      <td>794.872333</td>\n",
              "      <td>58.135898</td>\n",
              "      <td>1391.363266</td>\n",
              "      <td>974.951534</td>\n",
              "      <td>9.776600</td>\n",
              "      <td>39.483611</td>\n",
              "      <td>-6.837604</td>\n",
              "    </tr>\n",
              "    <tr>\n",
              "      <th>std</th>\n",
              "      <td>77.657170</td>\n",
              "      <td>329.817015</td>\n",
              "      <td>139.789093</td>\n",
              "      <td>41.380154</td>\n",
              "      <td>342.315902</td>\n",
              "      <td>257.424561</td>\n",
              "      <td>321.977031</td>\n",
              "      <td>126.931428</td>\n",
              "      <td>467.192382</td>\n",
              "      <td>456.922728</td>\n",
              "      <td>43.203438</td>\n",
              "      <td>51.215645</td>\n",
              "      <td>38.976670</td>\n",
              "    </tr>\n",
              "    <tr>\n",
              "      <th>min</th>\n",
              "      <td>-200.000000</td>\n",
              "      <td>-200.000000</td>\n",
              "      <td>-200.000000</td>\n",
              "      <td>-200.000000</td>\n",
              "      <td>-200.000000</td>\n",
              "      <td>-200.000000</td>\n",
              "      <td>-200.000000</td>\n",
              "      <td>-200.000000</td>\n",
              "      <td>-200.000000</td>\n",
              "      <td>-200.000000</td>\n",
              "      <td>-200.000000</td>\n",
              "      <td>-200.000000</td>\n",
              "      <td>-200.000000</td>\n",
              "    </tr>\n",
              "    <tr>\n",
              "      <th>25%</th>\n",
              "      <td>0.600000</td>\n",
              "      <td>921.000000</td>\n",
              "      <td>-200.000000</td>\n",
              "      <td>4.004958</td>\n",
              "      <td>711.000000</td>\n",
              "      <td>50.000000</td>\n",
              "      <td>637.000000</td>\n",
              "      <td>53.000000</td>\n",
              "      <td>1184.750000</td>\n",
              "      <td>699.750000</td>\n",
              "      <td>10.950000</td>\n",
              "      <td>34.050000</td>\n",
              "      <td>0.692275</td>\n",
              "    </tr>\n",
              "    <tr>\n",
              "      <th>50%</th>\n",
              "      <td>1.500000</td>\n",
              "      <td>1052.500000</td>\n",
              "      <td>-200.000000</td>\n",
              "      <td>7.886653</td>\n",
              "      <td>894.500000</td>\n",
              "      <td>141.000000</td>\n",
              "      <td>794.250000</td>\n",
              "      <td>96.000000</td>\n",
              "      <td>1445.500000</td>\n",
              "      <td>942.000000</td>\n",
              "      <td>17.200000</td>\n",
              "      <td>48.550000</td>\n",
              "      <td>0.976823</td>\n",
              "    </tr>\n",
              "    <tr>\n",
              "      <th>75%</th>\n",
              "      <td>2.600000</td>\n",
              "      <td>1221.250000</td>\n",
              "      <td>-200.000000</td>\n",
              "      <td>13.636091</td>\n",
              "      <td>1104.750000</td>\n",
              "      <td>284.200000</td>\n",
              "      <td>960.250000</td>\n",
              "      <td>133.000000</td>\n",
              "      <td>1662.000000</td>\n",
              "      <td>1255.250000</td>\n",
              "      <td>24.075000</td>\n",
              "      <td>61.875000</td>\n",
              "      <td>1.296223</td>\n",
              "    </tr>\n",
              "    <tr>\n",
              "      <th>max</th>\n",
              "      <td>11.900000</td>\n",
              "      <td>2039.750000</td>\n",
              "      <td>1189.000000</td>\n",
              "      <td>63.741476</td>\n",
              "      <td>2214.000000</td>\n",
              "      <td>1479.000000</td>\n",
              "      <td>2682.750000</td>\n",
              "      <td>339.700000</td>\n",
              "      <td>2775.000000</td>\n",
              "      <td>2522.750000</td>\n",
              "      <td>44.600000</td>\n",
              "      <td>88.725000</td>\n",
              "      <td>2.231036</td>\n",
              "    </tr>\n",
              "  </tbody>\n",
              "</table>\n",
              "</div>\n",
              "      <button class=\"colab-df-convert\" onclick=\"convertToInteractive('df-b904b438-a0a0-4b8a-8150-4a46be318963')\"\n",
              "              title=\"Convert this dataframe to an interactive table.\"\n",
              "              style=\"display:none;\">\n",
              "        \n",
              "  <svg xmlns=\"http://www.w3.org/2000/svg\" height=\"24px\"viewBox=\"0 0 24 24\"\n",
              "       width=\"24px\">\n",
              "    <path d=\"M0 0h24v24H0V0z\" fill=\"none\"/>\n",
              "    <path d=\"M18.56 5.44l.94 2.06.94-2.06 2.06-.94-2.06-.94-.94-2.06-.94 2.06-2.06.94zm-11 1L8.5 8.5l.94-2.06 2.06-.94-2.06-.94L8.5 2.5l-.94 2.06-2.06.94zm10 10l.94 2.06.94-2.06 2.06-.94-2.06-.94-.94-2.06-.94 2.06-2.06.94z\"/><path d=\"M17.41 7.96l-1.37-1.37c-.4-.4-.92-.59-1.43-.59-.52 0-1.04.2-1.43.59L10.3 9.45l-7.72 7.72c-.78.78-.78 2.05 0 2.83L4 21.41c.39.39.9.59 1.41.59.51 0 1.02-.2 1.41-.59l7.78-7.78 2.81-2.81c.8-.78.8-2.07 0-2.86zM5.41 20L4 18.59l7.72-7.72 1.47 1.35L5.41 20z\"/>\n",
              "  </svg>\n",
              "      </button>\n",
              "      \n",
              "  <style>\n",
              "    .colab-df-container {\n",
              "      display:flex;\n",
              "      flex-wrap:wrap;\n",
              "      gap: 12px;\n",
              "    }\n",
              "\n",
              "    .colab-df-convert {\n",
              "      background-color: #E8F0FE;\n",
              "      border: none;\n",
              "      border-radius: 50%;\n",
              "      cursor: pointer;\n",
              "      display: none;\n",
              "      fill: #1967D2;\n",
              "      height: 32px;\n",
              "      padding: 0 0 0 0;\n",
              "      width: 32px;\n",
              "    }\n",
              "\n",
              "    .colab-df-convert:hover {\n",
              "      background-color: #E2EBFA;\n",
              "      box-shadow: 0px 1px 2px rgba(60, 64, 67, 0.3), 0px 1px 3px 1px rgba(60, 64, 67, 0.15);\n",
              "      fill: #174EA6;\n",
              "    }\n",
              "\n",
              "    [theme=dark] .colab-df-convert {\n",
              "      background-color: #3B4455;\n",
              "      fill: #D2E3FC;\n",
              "    }\n",
              "\n",
              "    [theme=dark] .colab-df-convert:hover {\n",
              "      background-color: #434B5C;\n",
              "      box-shadow: 0px 1px 3px 1px rgba(0, 0, 0, 0.15);\n",
              "      filter: drop-shadow(0px 1px 2px rgba(0, 0, 0, 0.3));\n",
              "      fill: #FFFFFF;\n",
              "    }\n",
              "  </style>\n",
              "\n",
              "      <script>\n",
              "        const buttonEl =\n",
              "          document.querySelector('#df-b904b438-a0a0-4b8a-8150-4a46be318963 button.colab-df-convert');\n",
              "        buttonEl.style.display =\n",
              "          google.colab.kernel.accessAllowed ? 'block' : 'none';\n",
              "\n",
              "        async function convertToInteractive(key) {\n",
              "          const element = document.querySelector('#df-b904b438-a0a0-4b8a-8150-4a46be318963');\n",
              "          const dataTable =\n",
              "            await google.colab.kernel.invokeFunction('convertToInteractive',\n",
              "                                                     [key], {});\n",
              "          if (!dataTable) return;\n",
              "\n",
              "          const docLinkHtml = 'Like what you see? Visit the ' +\n",
              "            '<a target=\"_blank\" href=https://colab.research.google.com/notebooks/data_table.ipynb>data table notebook</a>'\n",
              "            + ' to learn more about interactive tables.';\n",
              "          element.innerHTML = '';\n",
              "          dataTable['output_type'] = 'display_data';\n",
              "          await google.colab.output.renderOutput(dataTable, element);\n",
              "          const docLink = document.createElement('div');\n",
              "          docLink.innerHTML = docLinkHtml;\n",
              "          element.appendChild(docLink);\n",
              "        }\n",
              "      </script>\n",
              "    </div>\n",
              "  </div>\n",
              "  "
            ]
          },
          "metadata": {},
          "execution_count": 64
        }
      ]
    },
    {
      "cell_type": "code",
      "source": [
        "def delete_item():\n",
        "  for feature in df.columns:\n",
        "    if feature=='Date' and feature=='Time':\n",
        "      df.drop(df[df[feature<0]].index,inplace=True)\n",
        "\n",
        "delete_item()"
      ],
      "metadata": {
        "id": "BumkrdOAnCUF"
      },
      "execution_count": 84,
      "outputs": []
    },
    {
      "cell_type": "code",
      "source": [
        "df.describe()"
      ],
      "metadata": {
        "colab": {
          "base_uri": "https://localhost:8080/",
          "height": 364
        },
        "id": "1PdvTaQSoR1N",
        "outputId": "b755c5b6-9e00-481c-9d32-28e8e0ce9c8a"
      },
      "execution_count": 85,
      "outputs": [
        {
          "output_type": "execute_result",
          "data": {
            "text/plain": [
              "           CO(GT)  PT08.S1(CO)     NMHC(GT)    C6H6(GT)  PT08.S2(NMHC)  \\\n",
              "count  827.000000   827.000000   827.000000  827.000000     827.000000   \n",
              "mean     2.353567  1207.741838   231.025393   10.772367     965.983777   \n",
              "std      1.409496   241.826753   208.461912    7.417127     266.413137   \n",
              "min      0.300000   752.500000     7.000000    0.542781     447.500000   \n",
              "25%      1.300000  1016.875000    77.000000    4.804320     753.500000   \n",
              "50%      2.000000  1172.000000   157.000000    9.125831     944.250000   \n",
              "75%      3.100000  1380.250000   318.500000   14.803204    1142.375000   \n",
              "max      8.100000  2039.750000  1189.000000   39.202340    1754.250000   \n",
              "\n",
              "          NOx(GT)  PT08.S3(NOx)     NO2(GT)  PT08.S4(NO2)  PT08.S5(O3)  \\\n",
              "count  827.000000    827.000000  827.000000    827.000000   827.000000   \n",
              "mean   143.501814    963.178053  100.259976   1600.506550  1045.691052   \n",
              "std     81.829717    265.906153   31.493823    302.290036   400.130277   \n",
              "min     12.000000    461.250000   19.000000    955.000000   263.000000   \n",
              "25%     81.000000    768.875000   78.500000   1369.125000   759.500000   \n",
              "50%    128.000000    920.000000   99.000000   1556.250000  1009.000000   \n",
              "75%    187.000000   1131.000000  122.000000   1783.375000  1319.750000   \n",
              "max    478.000000   1934.500000  196.000000   2679.000000  2358.500000   \n",
              "\n",
              "                T          RH          AH  \n",
              "count  827.000000  827.000000  827.000000  \n",
              "mean    15.599859   49.049557    0.831851  \n",
              "std      4.825555   15.266995    0.178506  \n",
              "min      6.275000   14.900000    0.402317  \n",
              "25%     11.875000   36.700000    0.718949  \n",
              "50%     15.025000   49.550000    0.817693  \n",
              "75%     18.350000   60.525001    0.927524  \n",
              "max     30.000000   83.224998    1.485238  "
            ],
            "text/html": [
              "\n",
              "  <div id=\"df-15b1e6a9-9eb5-443f-8536-0b3c4272a0ba\">\n",
              "    <div class=\"colab-df-container\">\n",
              "      <div>\n",
              "<style scoped>\n",
              "    .dataframe tbody tr th:only-of-type {\n",
              "        vertical-align: middle;\n",
              "    }\n",
              "\n",
              "    .dataframe tbody tr th {\n",
              "        vertical-align: top;\n",
              "    }\n",
              "\n",
              "    .dataframe thead th {\n",
              "        text-align: right;\n",
              "    }\n",
              "</style>\n",
              "<table border=\"1\" class=\"dataframe\">\n",
              "  <thead>\n",
              "    <tr style=\"text-align: right;\">\n",
              "      <th></th>\n",
              "      <th>CO(GT)</th>\n",
              "      <th>PT08.S1(CO)</th>\n",
              "      <th>NMHC(GT)</th>\n",
              "      <th>C6H6(GT)</th>\n",
              "      <th>PT08.S2(NMHC)</th>\n",
              "      <th>NOx(GT)</th>\n",
              "      <th>PT08.S3(NOx)</th>\n",
              "      <th>NO2(GT)</th>\n",
              "      <th>PT08.S4(NO2)</th>\n",
              "      <th>PT08.S5(O3)</th>\n",
              "      <th>T</th>\n",
              "      <th>RH</th>\n",
              "      <th>AH</th>\n",
              "    </tr>\n",
              "  </thead>\n",
              "  <tbody>\n",
              "    <tr>\n",
              "      <th>count</th>\n",
              "      <td>827.000000</td>\n",
              "      <td>827.000000</td>\n",
              "      <td>827.000000</td>\n",
              "      <td>827.000000</td>\n",
              "      <td>827.000000</td>\n",
              "      <td>827.000000</td>\n",
              "      <td>827.000000</td>\n",
              "      <td>827.000000</td>\n",
              "      <td>827.000000</td>\n",
              "      <td>827.000000</td>\n",
              "      <td>827.000000</td>\n",
              "      <td>827.000000</td>\n",
              "      <td>827.000000</td>\n",
              "    </tr>\n",
              "    <tr>\n",
              "      <th>mean</th>\n",
              "      <td>2.353567</td>\n",
              "      <td>1207.741838</td>\n",
              "      <td>231.025393</td>\n",
              "      <td>10.772367</td>\n",
              "      <td>965.983777</td>\n",
              "      <td>143.501814</td>\n",
              "      <td>963.178053</td>\n",
              "      <td>100.259976</td>\n",
              "      <td>1600.506550</td>\n",
              "      <td>1045.691052</td>\n",
              "      <td>15.599859</td>\n",
              "      <td>49.049557</td>\n",
              "      <td>0.831851</td>\n",
              "    </tr>\n",
              "    <tr>\n",
              "      <th>std</th>\n",
              "      <td>1.409496</td>\n",
              "      <td>241.826753</td>\n",
              "      <td>208.461912</td>\n",
              "      <td>7.417127</td>\n",
              "      <td>266.413137</td>\n",
              "      <td>81.829717</td>\n",
              "      <td>265.906153</td>\n",
              "      <td>31.493823</td>\n",
              "      <td>302.290036</td>\n",
              "      <td>400.130277</td>\n",
              "      <td>4.825555</td>\n",
              "      <td>15.266995</td>\n",
              "      <td>0.178506</td>\n",
              "    </tr>\n",
              "    <tr>\n",
              "      <th>min</th>\n",
              "      <td>0.300000</td>\n",
              "      <td>752.500000</td>\n",
              "      <td>7.000000</td>\n",
              "      <td>0.542781</td>\n",
              "      <td>447.500000</td>\n",
              "      <td>12.000000</td>\n",
              "      <td>461.250000</td>\n",
              "      <td>19.000000</td>\n",
              "      <td>955.000000</td>\n",
              "      <td>263.000000</td>\n",
              "      <td>6.275000</td>\n",
              "      <td>14.900000</td>\n",
              "      <td>0.402317</td>\n",
              "    </tr>\n",
              "    <tr>\n",
              "      <th>25%</th>\n",
              "      <td>1.300000</td>\n",
              "      <td>1016.875000</td>\n",
              "      <td>77.000000</td>\n",
              "      <td>4.804320</td>\n",
              "      <td>753.500000</td>\n",
              "      <td>81.000000</td>\n",
              "      <td>768.875000</td>\n",
              "      <td>78.500000</td>\n",
              "      <td>1369.125000</td>\n",
              "      <td>759.500000</td>\n",
              "      <td>11.875000</td>\n",
              "      <td>36.700000</td>\n",
              "      <td>0.718949</td>\n",
              "    </tr>\n",
              "    <tr>\n",
              "      <th>50%</th>\n",
              "      <td>2.000000</td>\n",
              "      <td>1172.000000</td>\n",
              "      <td>157.000000</td>\n",
              "      <td>9.125831</td>\n",
              "      <td>944.250000</td>\n",
              "      <td>128.000000</td>\n",
              "      <td>920.000000</td>\n",
              "      <td>99.000000</td>\n",
              "      <td>1556.250000</td>\n",
              "      <td>1009.000000</td>\n",
              "      <td>15.025000</td>\n",
              "      <td>49.550000</td>\n",
              "      <td>0.817693</td>\n",
              "    </tr>\n",
              "    <tr>\n",
              "      <th>75%</th>\n",
              "      <td>3.100000</td>\n",
              "      <td>1380.250000</td>\n",
              "      <td>318.500000</td>\n",
              "      <td>14.803204</td>\n",
              "      <td>1142.375000</td>\n",
              "      <td>187.000000</td>\n",
              "      <td>1131.000000</td>\n",
              "      <td>122.000000</td>\n",
              "      <td>1783.375000</td>\n",
              "      <td>1319.750000</td>\n",
              "      <td>18.350000</td>\n",
              "      <td>60.525001</td>\n",
              "      <td>0.927524</td>\n",
              "    </tr>\n",
              "    <tr>\n",
              "      <th>max</th>\n",
              "      <td>8.100000</td>\n",
              "      <td>2039.750000</td>\n",
              "      <td>1189.000000</td>\n",
              "      <td>39.202340</td>\n",
              "      <td>1754.250000</td>\n",
              "      <td>478.000000</td>\n",
              "      <td>1934.500000</td>\n",
              "      <td>196.000000</td>\n",
              "      <td>2679.000000</td>\n",
              "      <td>2358.500000</td>\n",
              "      <td>30.000000</td>\n",
              "      <td>83.224998</td>\n",
              "      <td>1.485238</td>\n",
              "    </tr>\n",
              "  </tbody>\n",
              "</table>\n",
              "</div>\n",
              "      <button class=\"colab-df-convert\" onclick=\"convertToInteractive('df-15b1e6a9-9eb5-443f-8536-0b3c4272a0ba')\"\n",
              "              title=\"Convert this dataframe to an interactive table.\"\n",
              "              style=\"display:none;\">\n",
              "        \n",
              "  <svg xmlns=\"http://www.w3.org/2000/svg\" height=\"24px\"viewBox=\"0 0 24 24\"\n",
              "       width=\"24px\">\n",
              "    <path d=\"M0 0h24v24H0V0z\" fill=\"none\"/>\n",
              "    <path d=\"M18.56 5.44l.94 2.06.94-2.06 2.06-.94-2.06-.94-.94-2.06-.94 2.06-2.06.94zm-11 1L8.5 8.5l.94-2.06 2.06-.94-2.06-.94L8.5 2.5l-.94 2.06-2.06.94zm10 10l.94 2.06.94-2.06 2.06-.94-2.06-.94-.94-2.06-.94 2.06-2.06.94z\"/><path d=\"M17.41 7.96l-1.37-1.37c-.4-.4-.92-.59-1.43-.59-.52 0-1.04.2-1.43.59L10.3 9.45l-7.72 7.72c-.78.78-.78 2.05 0 2.83L4 21.41c.39.39.9.59 1.41.59.51 0 1.02-.2 1.41-.59l7.78-7.78 2.81-2.81c.8-.78.8-2.07 0-2.86zM5.41 20L4 18.59l7.72-7.72 1.47 1.35L5.41 20z\"/>\n",
              "  </svg>\n",
              "      </button>\n",
              "      \n",
              "  <style>\n",
              "    .colab-df-container {\n",
              "      display:flex;\n",
              "      flex-wrap:wrap;\n",
              "      gap: 12px;\n",
              "    }\n",
              "\n",
              "    .colab-df-convert {\n",
              "      background-color: #E8F0FE;\n",
              "      border: none;\n",
              "      border-radius: 50%;\n",
              "      cursor: pointer;\n",
              "      display: none;\n",
              "      fill: #1967D2;\n",
              "      height: 32px;\n",
              "      padding: 0 0 0 0;\n",
              "      width: 32px;\n",
              "    }\n",
              "\n",
              "    .colab-df-convert:hover {\n",
              "      background-color: #E2EBFA;\n",
              "      box-shadow: 0px 1px 2px rgba(60, 64, 67, 0.3), 0px 1px 3px 1px rgba(60, 64, 67, 0.15);\n",
              "      fill: #174EA6;\n",
              "    }\n",
              "\n",
              "    [theme=dark] .colab-df-convert {\n",
              "      background-color: #3B4455;\n",
              "      fill: #D2E3FC;\n",
              "    }\n",
              "\n",
              "    [theme=dark] .colab-df-convert:hover {\n",
              "      background-color: #434B5C;\n",
              "      box-shadow: 0px 1px 3px 1px rgba(0, 0, 0, 0.15);\n",
              "      filter: drop-shadow(0px 1px 2px rgba(0, 0, 0, 0.3));\n",
              "      fill: #FFFFFF;\n",
              "    }\n",
              "  </style>\n",
              "\n",
              "      <script>\n",
              "        const buttonEl =\n",
              "          document.querySelector('#df-15b1e6a9-9eb5-443f-8536-0b3c4272a0ba button.colab-df-convert');\n",
              "        buttonEl.style.display =\n",
              "          google.colab.kernel.accessAllowed ? 'block' : 'none';\n",
              "\n",
              "        async function convertToInteractive(key) {\n",
              "          const element = document.querySelector('#df-15b1e6a9-9eb5-443f-8536-0b3c4272a0ba');\n",
              "          const dataTable =\n",
              "            await google.colab.kernel.invokeFunction('convertToInteractive',\n",
              "                                                     [key], {});\n",
              "          if (!dataTable) return;\n",
              "\n",
              "          const docLinkHtml = 'Like what you see? Visit the ' +\n",
              "            '<a target=\"_blank\" href=https://colab.research.google.com/notebooks/data_table.ipynb>data table notebook</a>'\n",
              "            + ' to learn more about interactive tables.';\n",
              "          element.innerHTML = '';\n",
              "          dataTable['output_type'] = 'display_data';\n",
              "          await google.colab.output.renderOutput(dataTable, element);\n",
              "          const docLink = document.createElement('div');\n",
              "          docLink.innerHTML = docLinkHtml;\n",
              "          element.appendChild(docLink);\n",
              "        }\n",
              "      </script>\n",
              "    </div>\n",
              "  </div>\n",
              "  "
            ]
          },
          "metadata": {},
          "execution_count": 85
        }
      ]
    },
    {
      "cell_type": "code",
      "source": [
        "df['NMHC(GT)'].unique()"
      ],
      "metadata": {
        "colab": {
          "base_uri": "https://localhost:8080/"
        },
        "id": "B92YFZo3oTt9",
        "outputId": "78b9482b-8c92-43e8-a5e6-04da2831b15c"
      },
      "execution_count": 88,
      "outputs": [
        {
          "output_type": "execute_result",
          "data": {
            "text/plain": [
              "array([ 150,  112,   88,   80,   51,   38,   31,   24,    8,   16,   29,\n",
              "         64,   87,   77,   43,   61,   63,  164,   79,   95,  307,  461,\n",
              "        401,  197,   26,   55,   53,   40,    7,   17,   33,  202,  208,\n",
              "        166,  114,  140,  169,  185,  165,  133,  233,  242,  488,  333,\n",
              "        215,  367,  122,   67,   30,   27,   47,  132,  239,  160,  283,\n",
              "        210,  154,  108,  111,   97,  191,  258,  284,  269,  180,  116,\n",
              "         93,  131,   92,   32,   36,   57,  129,  148,  145,   84,   99,\n",
              "        156,  262,  341,  214,  100,   66,   73,   39,  107,  336,  618,\n",
              "        438,  334,  221,  207,  141,  471,  685,  538,  319,  224,  155,\n",
              "         49,   50,  218,  285,  437,  327,  366,  318,  228,  201,  199,\n",
              "        237,  261,  230,  349,  183,   85,   34,   11,   18,  260,  534,\n",
              "        368,  200,  188,  152,  103,  193,  134,  386,  577,  523,  472,\n",
              "        206,  216,  159,   70,   44,   20,   78,  506,  451,  426,  672,\n",
              "        624,  325,  143,   89,   48,   19,   60,  248,  535,  340,  267,\n",
              "        268,  136,  118,  276,  151,  236,  220,   81,   74,   35,  245,\n",
              "        553,  450,  144,  320,  263,  556,  458,   52,   21,   46,  271,\n",
              "        434,  300,  211,  168,  374,  797,  698,  234,  104,  375,  592,\n",
              "        357,  296,  181,  247,   65,   25,   42,  128,  184,  176,  232,\n",
              "        305,  219,  306,  270,  231,  125,  161,  101,   96,   54,   72,\n",
              "         91,  127,  115,   75,   23,  279,  743,  147,  146,  139,  299,\n",
              "        163,   58,   86,  294,  664,  695,  735,  649,  586,  546,  178,\n",
              "        130,  272,  301,   68,  342,  644,  117,  332,  295,  278,  322,\n",
              "        226,  109,  105,  106,   71,   45,  505, 1042,  737,  124,  137,\n",
              "        179,  388,  589,  840,  655,  254,  120,  157,  486,  798,  524,\n",
              "        468,  454,  391,  337,  297,  588,  721,  710,  787,  415,   98,\n",
              "        422,  424,  339,  445,  256,  678,  436,  177,   62,  599, 1084,\n",
              "        776,  470,  304,  405,  456,  503,  459,  227,   94,   59,  277,\n",
              "        196,  110,  251,  435,  345,  343,   83,  802,  585,  324,  308,\n",
              "        238,  353,  209,  808,  974,  544,  138,  102,   69,  167,  172,\n",
              "        235,  126,    9,   14,   56,  657,  135,  149,  425,  669,  680,\n",
              "        446,  205,  194,  478,  836,  312,  195,  536,  481,  460,  597,\n",
              "        465,  542,  383,  778,  926, 1189,  824,  660,  203,  222,  212,\n",
              "        609,  449,  575,  783,  706,  171,  162,  452,  880,  759,  394,\n",
              "        639,  541,  483,  682,  832,  872,  899,  692,  204,  240,  173,\n",
              "        119,  321,  358,  350,  192,  467,  485,   41,  303,  347,  252,\n",
              "         76,   82,  584,  633,  255,  411,  259,  274,  377,  457,  555,\n",
              "        754,  658,  372,  293,  511,  559,  509,  790,  816,  804,  635,\n",
              "       1129,  475,  190,  516,  346,  565,  651,  830,  174,  170,  344,\n",
              "        265,  365,  642,  501,  275])"
            ]
          },
          "metadata": {},
          "execution_count": 88
        }
      ]
    },
    {
      "cell_type": "code",
      "source": [
        "sns.set_theme()\n",
        "for category in df.columns:\n",
        "  if category!='Date' and category!='Time':\n",
        "    sns.histplot(x=category,data=df,bins=50,kde=True)\n",
        "    plt.show()"
      ],
      "metadata": {
        "colab": {
          "base_uri": "https://localhost:8080/",
          "height": 1000
        },
        "id": "oOPzv38_pxmz",
        "outputId": "fb5e36e0-6e8a-41b2-8863-5f48e9701a3f"
      },
      "execution_count": 93,
      "outputs": [
        {
          "output_type": "display_data",
          "data": {
            "text/plain": [
              "<Figure size 432x288 with 1 Axes>"
            ],
            "image/png": "[encoded data removed]"
          },
          "metadata": {}
        },
        {
          "output_type": "display_data",
          "data": {
            "text/plain": [
              "<Figure size 432x288 with 1 Axes>"
            ],
            "image/png": "[encoded data removed]"
          },
          "metadata": {}
        },
        {
          "output_type": "display_data",
          "data": {
            "text/plain": [
              "<Figure size 432x288 with 1 Axes>"
            ],
            "image/png": "[encoded data removed]"
          },
          "metadata": {}
        },
        {
          "output_type": "display_data",
          "data": {
            "text/plain": [
              "<Figure size 432x288 with 1 Axes>"
            ],
            "image/png": "[encoded data removed]"
          },
          "metadata": {}
        },
        {
          "output_type": "display_data",
          "data": {
            "text/plain": [
              "<Figure size 432x288 with 1 Axes>"
            ],
            "image/png": "[encoded data removed]"
          },
          "metadata": {}
        },
        {
          "output_type": "display_data",
          "data": {
            "text/plain": [
              "<Figure size 432x288 with 1 Axes>"
            ],
            "image/png": "[encoded data removed]"
          },
          "metadata": {}
        },
        {
          "output_type": "display_data",
          "data": {
            "text/plain": [
              "<Figure size 432x288 with 1 Axes>"
            ],
            "image/png": "[encoded data removed]"
          },
          "metadata": {}
        },
        {
          "output_type": "display_data",
          "data": {
            "text/plain": [
              "<Figure size 432x288 with 1 Axes>"
            ],
            "image/png": "[encoded data removed]"
          },
          "metadata": {}
        },
        {
          "output_type": "display_data",
          "data": {
            "text/plain": [
              "<Figure size 432x288 with 1 Axes>"
            ],
            "image/png": "[encoded data removed]"
          },
          "metadata": {}
        },
        {
          "output_type": "display_data",
          "data": {
            "text/plain": [
              "<Figure size 432x288 with 1 Axes>"
            ],
            "image/png": "[encoded data removed]"
          },
          "metadata": {}
        },
        {
          "output_type": "display_data",
          "data": {
            "text/plain": [
              "<Figure size 432x288 with 1 Axes>"
            ],
            "image/png": "[encoded data removed]"
          },
          "metadata": {}
        },
        {
          "output_type": "display_data",
          "data": {
            "text/plain": [
              "<Figure size 432x288 with 1 Axes>"
            ],
            "image/png": "[encoded data removed]"
          },
          "metadata": {}
        },
        {
          "output_type": "display_data",
          "data": {
            "text/plain": [
              "<Figure size 432x288 with 1 Axes>"
            ],
            "image/png": "[encoded data removed]"
          },
          "metadata": {}
        }
      ]
    },
    {
      "cell_type": "code",
      "source": [
        ""
      ],
      "metadata": {
        "id": "U1huU88XtN3p"
      },
      "execution_count": null,
      "outputs": []
    }
  ]
}