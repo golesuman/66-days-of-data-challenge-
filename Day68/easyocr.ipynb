{
  "nbformat": 4,
  "nbformat_minor": 0,
  "metadata": {
    "colab": {
      "name": "easyocr.ipynb",
      "provenance": [],
      "collapsed_sections": [],
      "authorship_tag": "ABX9TyMdL7JDQQcVuObSfjBhHltQ",
      "include_colab_link": true
    },
    "kernelspec": {
      "name": "python3",
      "display_name": "Python 3"
    },
    "language_info": {
      "name": "python"
    },
    "accelerator": "GPU"
  },
  "cells": [
    {
      "cell_type": "markdown",
      "metadata": {
        "id": "view-in-github",
        "colab_type": "text"
      },
      "source": [
        "<a href=\"https://colab.research.google.com/github/golesuman/66daysofdata/blob/main/Day68/easyocr.ipynb\" target=\"_parent\"><img src=\"https://colab.research.google.com/assets/colab-badge.svg\" alt=\"Open In Colab\"/></a>"
      ]
    },
    {
      "cell_type": "code",
      "execution_count": 1,
      "metadata": {
        "colab": {
          "base_uri": "https://localhost:8080/"
        },
        "id": "nBkZTo7V1kjf",
        "outputId": "c83f87a8-dcac-47be-e4dc-3171b25eba58"
      },
      "outputs": [
        {
          "output_type": "stream",
          "name": "stdout",
          "text": [
            "Requirement already satisfied: torch in /usr/local/lib/python3.7/dist-packages (1.10.0+cu111)\n",
            "Requirement already satisfied: torchvision in /usr/local/lib/python3.7/dist-packages (0.11.1+cu111)\n",
            "Requirement already satisfied: torchaudio in /usr/local/lib/python3.7/dist-packages (0.10.0+cu111)\n",
            "Requirement already satisfied: typing-extensions in /usr/local/lib/python3.7/dist-packages (from torch) (3.10.0.2)\n",
            "Requirement already satisfied: numpy in /usr/local/lib/python3.7/dist-packages (from torchvision) (1.21.5)\n",
            "Requirement already satisfied: pillow!=8.3.0,>=5.3.0 in /usr/local/lib/python3.7/dist-packages (from torchvision) (7.1.2)\n",
            "Collecting easyocr\n",
            "  Downloading easyocr-1.4.1-py3-none-any.whl (63.6 MB)\n",
            "\u001b[K     |████████████████████████████████| 63.6 MB 61 kB/s \n",
            "\u001b[?25hRequirement already satisfied: scipy in /usr/local/lib/python3.7/dist-packages (from easyocr) (1.4.1)\n",
            "Requirement already satisfied: scikit-image in /usr/local/lib/python3.7/dist-packages (from easyocr) (0.18.3)\n",
            "Collecting opencv-python-headless\n",
            "  Downloading opencv_python_headless-4.5.5.64-cp36-abi3-manylinux_2_17_x86_64.manylinux2014_x86_64.whl (47.8 MB)\n",
            "\u001b[K     |████████████████████████████████| 47.8 MB 1.4 MB/s \n",
            "\u001b[?25hRequirement already satisfied: torchvision>=0.5 in /usr/local/lib/python3.7/dist-packages (from easyocr) (0.11.1+cu111)\n",
            "Requirement already satisfied: Pillow<8.3.0 in /usr/local/lib/python3.7/dist-packages (from easyocr) (7.1.2)\n",
            "Requirement already satisfied: numpy in /usr/local/lib/python3.7/dist-packages (from easyocr) (1.21.5)\n",
            "Requirement already satisfied: PyYAML in /usr/local/lib/python3.7/dist-packages (from easyocr) (3.13)\n",
            "Collecting python-bidi\n",
            "  Downloading python_bidi-0.4.2-py2.py3-none-any.whl (30 kB)\n",
            "Requirement already satisfied: torch in /usr/local/lib/python3.7/dist-packages (from easyocr) (1.10.0+cu111)\n",
            "Requirement already satisfied: typing-extensions in /usr/local/lib/python3.7/dist-packages (from torch->easyocr) (3.10.0.2)\n",
            "Requirement already satisfied: six in /usr/local/lib/python3.7/dist-packages (from python-bidi->easyocr) (1.15.0)\n",
            "Requirement already satisfied: PyWavelets>=1.1.1 in /usr/local/lib/python3.7/dist-packages (from scikit-image->easyocr) (1.2.0)\n",
            "Requirement already satisfied: imageio>=2.3.0 in /usr/local/lib/python3.7/dist-packages (from scikit-image->easyocr) (2.4.1)\n",
            "Requirement already satisfied: matplotlib!=3.0.0,>=2.0.0 in /usr/local/lib/python3.7/dist-packages (from scikit-image->easyocr) (3.2.2)\n",
            "Requirement already satisfied: networkx>=2.0 in /usr/local/lib/python3.7/dist-packages (from scikit-image->easyocr) (2.6.3)\n",
            "Requirement already satisfied: tifffile>=2019.7.26 in /usr/local/lib/python3.7/dist-packages (from scikit-image->easyocr) (2021.11.2)\n",
            "Requirement already satisfied: cycler>=0.10 in /usr/local/lib/python3.7/dist-packages (from matplotlib!=3.0.0,>=2.0.0->scikit-image->easyocr) (0.11.0)\n",
            "Requirement already satisfied: pyparsing!=2.0.4,!=2.1.2,!=2.1.6,>=2.0.1 in /usr/local/lib/python3.7/dist-packages (from matplotlib!=3.0.0,>=2.0.0->scikit-image->easyocr) (3.0.7)\n",
            "Requirement already satisfied: python-dateutil>=2.1 in /usr/local/lib/python3.7/dist-packages (from matplotlib!=3.0.0,>=2.0.0->scikit-image->easyocr) (2.8.2)\n",
            "Requirement already satisfied: kiwisolver>=1.0.1 in /usr/local/lib/python3.7/dist-packages (from matplotlib!=3.0.0,>=2.0.0->scikit-image->easyocr) (1.3.2)\n",
            "Installing collected packages: python-bidi, opencv-python-headless, easyocr\n",
            "Successfully installed easyocr-1.4.1 opencv-python-headless-4.5.5.64 python-bidi-0.4.2\n"
          ]
        }
      ],
      "source": [
        "!pip install torch torchvision torchaudio\n",
        "!pip install easyocr"
      ]
    },
    {
      "cell_type": "code",
      "source": [
        "pip install opencv-python-headless==4.5.2.52"
      ],
      "metadata": {
        "colab": {
          "base_uri": "https://localhost:8080/"
        },
        "id": "_Ym8DcbP2R1h",
        "outputId": "1d6f0511-72c1-44e2-b5b6-17a7e1a36695"
      },
      "execution_count": 3,
      "outputs": [
        {
          "output_type": "stream",
          "name": "stdout",
          "text": [
            "Collecting opencv-python-headless==4.5.2.52\n",
            "  Downloading opencv_python_headless-4.5.2.52-cp37-cp37m-manylinux2014_x86_64.whl (38.2 MB)\n",
            "\u001b[K     |████████████████████████████████| 38.2 MB 1.3 MB/s \n",
            "\u001b[?25hRequirement already satisfied: numpy>=1.14.5 in /usr/local/lib/python3.7/dist-packages (from opencv-python-headless==4.5.2.52) (1.21.5)\n",
            "Installing collected packages: opencv-python-headless\n",
            "  Attempting uninstall: opencv-python-headless\n",
            "    Found existing installation: opencv-python-headless 4.5.5.64\n",
            "    Uninstalling opencv-python-headless-4.5.5.64:\n",
            "      Successfully uninstalled opencv-python-headless-4.5.5.64\n",
            "Successfully installed opencv-python-headless-4.5.2.52\n"
          ]
        }
      ]
    },
    {
      "cell_type": "code",
      "source": [
        "import easyocr\n",
        "import cv2\n",
        "import matplotlib.pyplot as plt\n",
        "import numpy as np"
      ],
      "metadata": {
        "id": "kEw9FSio1oRr"
      },
      "execution_count": 4,
      "outputs": []
    },
    {
      "cell_type": "code",
      "source": [
        "img=cv2.imread('/content/cbsse.jpeg')\n",
        "img_path='/content/cbsse.jpeg'"
      ],
      "metadata": {
        "id": "8LVVBUZ82Awd"
      },
      "execution_count": 10,
      "outputs": []
    },
    {
      "cell_type": "code",
      "source": [
        "reader=easyocr.Reader(['en'],gpu=True)\n",
        "result=reader.readtext(img_path)\n",
        "result"
      ],
      "metadata": {
        "colab": {
          "base_uri": "https://localhost:8080/"
        },
        "id": "kfj8v8Qy2i8R",
        "outputId": "b9240257-4c29-4b6e-b651-5dbb48c1f55b"
      },
      "execution_count": 18,
      "outputs": [
        {
          "output_type": "execute_result",
          "data": {
            "text/plain": [
              "[([[223, 9], [357, 9], [357, 25], [223, 25]],\n",
              "  'Section - A Grammar',\n",
              "  0.8158187049290269),\n",
              " ([[101, 41], [279, 41], [279, 59], [101, 59]],\n",
              "  'the followings into questions:',\n",
              "  0.4598728569631499),\n",
              " ([[417, 41], [471, 41], [471, 57], [417, 57]], '1/XZ-1', 0.3673615695720092),\n",
              " ([[69, 73], [119, 73], [119, 91], [69, 91]], 'He runs', 0.977551439172054),\n",
              " ([[129, 75], [235, 75], [235, 91], [129, 91]],\n",
              "  'business in Delhi.',\n",
              "  0.7173898230758581),\n",
              " ([[71, 93], [183, 93], [183, 109], [71, 109]],\n",
              "  'It rained last night:',\n",
              "  0.575655148720889),\n",
              " ([[45, 127], [83, 127], [83, 141], [45, 141]], 'Fill in', 0.6401701017863113),\n",
              " ([[87, 127], [111, 127], [111, 141], [87, 141]], 'the', 0.9999911903392261),\n",
              " ([[115, 127], [159, 127], [159, 141], [115, 141]],\n",
              "  'blanks',\n",
              "  0.9981180873797884),\n",
              " ([[163, 126], [479, 126], [479, 144], [163, 144]],\n",
              "  'in  the following sentences with suitable compound',\n",
              "  0.7175122829989605),\n",
              " ([[483, 127], [521, 127], [521, 141], [483, 141]],\n",
              "  'words',\n",
              "  0.9994141873224788),\n",
              " ([[525, 127], [549, 127], [549, 141], [525, 141]], 'the', 0.9992677324456076),\n",
              " ([[43, 143], [73, 143], [73, 157], [43, 157]], 'first', 0.9998356374633406),\n",
              " ([[77, 145], [107, 145], [107, 159], [77, 159]], 'part', 0.6869142126423323),\n",
              " ([[131, 142], [349, 142], [349, 161], [131, 161]],\n",
              "  'the compound word has been given',\n",
              "  0.9375228537180572),\n",
              " ([[353, 143], [443, 143], [443, 157], [353, 157]],\n",
              "  'in the bracket',\n",
              "  0.7152044918165668),\n",
              " ([[461, 143], [509, 143], [509, 157], [461, 157]],\n",
              "  '1/xz-E',\n",
              "  0.11501058682727007),\n",
              " ([[71, 175], [305, 175], [305, 191], [71, 191]],\n",
              "  'She couldn t stir out of her bed without',\n",
              "  0.7485846871799486),\n",
              " ([[422, 173], [483, 173], [483, 193], [422, 193]],\n",
              "  '[walking]',\n",
              "  0.9975365720093692),\n",
              " ([[71, 193], [101, 193], [101, 207], [71, 207]], 'The-', 0.9990564584732056),\n",
              " ([[175, 193], [449, 193], [449, 211], [175, 211]],\n",
              "  'dress made the bride look so gorgeous [blood]',\n",
              "  0.7143956803187788),\n",
              " ([[43, 224], [305, 224], [305, 244], [43, 244]],\n",
              "  'Turn the following into negative questions',\n",
              "  0.9489617488701269),\n",
              " ([[459, 225], [513, 225], [513, 241], [459, 241]],\n",
              "  'V/2X2=]',\n",
              "  0.17263917841088777),\n",
              " ([[69, 259], [243, 259], [243, 275], [69, 275]],\n",
              "  'Did you meet him yesterday?',\n",
              "  0.9680168455734802),\n",
              " ([[71, 275], [297, 275], [297, 291], [71, 291]],\n",
              "  'Will it be wise t0 do the work at once?',\n",
              "  0.5846626658637518),\n",
              " ([[27, 309], [531, 309], [531, 328], [27, 328]],\n",
              "  '4) Use the negative adjectives instead of the underlined words Negative adjectives',\n",
              "  0.8252388240443101),\n",
              " ([[27, 327], [247, 327], [247, 345], [27, 345]],\n",
              "  'begin with prefixes like un,dis,in,im,',\n",
              "  0.5700086108031858),\n",
              " ([[269, 329], [291, 329], [291, 341], [269, 341]], 'etc', 0.9532280926745448),\n",
              " ([[71, 359], [161, 359], [161, 377], [71, 377]],\n",
              "  \"Don 't try t0 do\",\n",
              "  0.6365168953172207),\n",
              " ([[199, 359], [357, 359], [357, 375], [199, 375]],\n",
              "  'which are nQL right bylaw:',\n",
              "  0.2928461933833365),\n",
              " ([[459, 359], [513, 359], [513, 375], [459, 375]],\n",
              "  '1/2X2-[',\n",
              "  0.6750499383536727),\n",
              " ([[69, 377], [115, 377], [115, 391], [69, 391]],\n",
              "  'It s not',\n",
              "  0.6175518702578363),\n",
              " ([[123, 375], [305, 375], [305, 395], [123, 395]],\n",
              "  'good habit; potbeing_obedient',\n",
              "  0.8039930939216731),\n",
              " ([[23, 407], [241, 407], [241, 427], [23, 427]],\n",
              "  '5) Correct the following sentences',\n",
              "  0.5922355407811134),\n",
              " ([[463, 409], [513, 409], [513, 425], [463, 425]],\n",
              "  '1/x2-]',\n",
              "  0.6380807160321992),\n",
              " ([[69, 443], [307, 443], [307, 459], [69, 459]],\n",
              "  'Solomon was the most wisest of all men;',\n",
              "  0.5987772570784804),\n",
              " ([[69, 459], [297, 459], [297, 477], [69, 477]],\n",
              "  'He is inferior than Anil in intelligence.',\n",
              "  0.5904091150171873),\n",
              " ([[47, 493], [145, 493], [145, 509], [47, 509]],\n",
              "  'Give one word.',\n",
              "  0.943151323738652),\n",
              " ([[459, 493], [509, 493], [509, 509], [459, 509]],\n",
              "  '1/x2-[',\n",
              "  0.4321479955545721),\n",
              " ([[83, 527], [209, 527], [209, 543], [83, 543]],\n",
              "  'person who conducts',\n",
              "  0.9790436342906638),\n",
              " ([[219, 525], [533, 525], [533, 545], [219, 545]],\n",
              "  'show, introduces guest or the performers of the show:',\n",
              "  0.7478937315349943),\n",
              " ([[69, 543], [281, 543], [281, 561], [69, 561]],\n",
              "  'One who designs the movements of',\n",
              "  0.9286297238241099),\n",
              " ([[289, 545], [327, 545], [327, 559], [289, 559]],\n",
              "  'dance',\n",
              "  0.999992749562858),\n",
              " ([[49.10557280900009, 39.21114561800017],\n",
              "   [101.9640128939613, 45.62230521269975],\n",
              "   [99.89442719099992, 62.78885438199983],\n",
              "   [46.035987106038704, 56.37769478730025]],\n",
              "  'Change',\n",
              "  0.7366529988261903),\n",
              " ([[159.06850713433477, 356.23016355523606],\n",
              "   [200.9156525704423, 360.42530422886733],\n",
              "   [197.93149286566523, 378.76983644476394],\n",
              "   [157.0843474295577, 373.57469577113267]],\n",
              "  'things',\n",
              "  0.9899798839336156)]"
            ]
          },
          "metadata": {},
          "execution_count": 18
        }
      ]
    },
    {
      "cell_type": "code",
      "source": [
        "for r in result:\n",
        "  print(r[1])"
      ],
      "metadata": {
        "colab": {
          "base_uri": "https://localhost:8080/"
        },
        "id": "7s7UILH527n9",
        "outputId": "d004516c-3aa2-4445-c735-ec2bd57e8eed"
      },
      "execution_count": 20,
      "outputs": [
        {
          "output_type": "stream",
          "name": "stdout",
          "text": [
            "Section - A Grammar\n",
            "the followings into questions:\n",
            "1/XZ-1\n",
            "He runs\n",
            "business in Delhi.\n",
            "It rained last night:\n",
            "Fill in\n",
            "the\n",
            "blanks\n",
            "in  the following sentences with suitable compound\n",
            "words\n",
            "the\n",
            "first\n",
            "part\n",
            "the compound word has been given\n",
            "in the bracket\n",
            "1/xz-E\n",
            "She couldn t stir out of her bed without\n",
            "[walking]\n",
            "The-\n",
            "dress made the bride look so gorgeous [blood]\n",
            "Turn the following into negative questions\n",
            "V/2X2=]\n",
            "Did you meet him yesterday?\n",
            "Will it be wise t0 do the work at once?\n",
            "4) Use the negative adjectives instead of the underlined words Negative adjectives\n",
            "begin with prefixes like un,dis,in,im,\n",
            "etc\n",
            "Don 't try t0 do\n",
            "which are nQL right bylaw:\n",
            "1/2X2-[\n",
            "It s not\n",
            "good habit; potbeing_obedient\n",
            "5) Correct the following sentences\n",
            "1/x2-]\n",
            "Solomon was the most wisest of all men;\n",
            "He is inferior than Anil in intelligence.\n",
            "Give one word.\n",
            "1/x2-[\n",
            "person who conducts\n",
            "show, introduces guest or the performers of the show:\n",
            "One who designs the movements of\n",
            "dance\n",
            "Change\n",
            "things\n"
          ]
        }
      ]
    },
    {
      "cell_type": "code",
      "source": [
        "\n"
      ],
      "metadata": {
        "id": "hENFRcZH4CLt"
      },
      "execution_count": null,
      "outputs": []
    }
  ]
}