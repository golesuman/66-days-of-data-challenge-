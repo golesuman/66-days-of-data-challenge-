{
  "nbformat": 4,
  "nbformat_minor": 0,
  "metadata": {
    "colab": {
      "name": "imageclassification.ipynb",
      "provenance": [],
      "authorship_tag": "ABX9TyMl93HFYLdYVxKzi279akYx",
      "include_colab_link": true
    },
    "kernelspec": {
      "name": "python3",
      "display_name": "Python 3"
    },
    "language_info": {
      "name": "python"
    },
    "accelerator": "GPU"
  },
  "cells": [
    {
      "cell_type": "markdown",
      "metadata": {
        "id": "view-in-github",
        "colab_type": "text"
      },
      "source": [
        "<a href=\"https://colab.research.google.com/github/golesuman/66daysofdata/blob/main/Day34/imageclassification.ipynb\" target=\"_parent\"><img src=\"https://colab.research.google.com/assets/colab-badge.svg\" alt=\"Open In Colab\"/></a>"
      ]
    },
    {
      "cell_type": "code",
      "execution_count": 3,
      "metadata": {
        "colab": {
          "base_uri": "https://localhost:8080/"
        },
        "id": "_fIxVMKYErxS",
        "outputId": "55fce8b0-b3d3-4563-ffc2-3cdb28d07161"
      },
      "outputs": [
        {
          "output_type": "stream",
          "name": "stdout",
          "text": [
            "Model: \"sequential\"\n",
            "_________________________________________________________________\n",
            " Layer (type)                Output Shape              Param #   \n",
            "=================================================================\n",
            " conv2d (Conv2D)             (None, 26, 26, 64)        640       \n",
            "                                                                 \n",
            " max_pooling2d (MaxPooling2D  (None, 13, 13, 64)       0         \n",
            " )                                                               \n",
            "                                                                 \n",
            " conv2d_1 (Conv2D)           (None, 11, 11, 64)        36928     \n",
            "                                                                 \n",
            " flatten (Flatten)           (None, 7744)              0         \n",
            "                                                                 \n",
            " dropout (Dropout)           (None, 7744)              0         \n",
            "                                                                 \n",
            " dense (Dense)               (None, 10)                77450     \n",
            "                                                                 \n",
            " activation (Activation)     (None, 10)                0         \n",
            "                                                                 \n",
            "=================================================================\n",
            "Total params: 115,018\n",
            "Trainable params: 115,018\n",
            "Non-trainable params: 0\n",
            "_________________________________________________________________\n"
          ]
        }
      ],
      "source": [
        "import tensorflow as tf\n",
        "import numpy as np\n",
        "from tensorflow.keras.models import Sequential\n",
        "from tensorflow.keras.layers import Activation,Dense,Dropout\n",
        "from tensorflow.keras.layers import Conv2D,MaxPooling2D,Flatten\n",
        "from tensorflow.keras.datasets import mnist\n",
        "from tensorflow.keras.utils import to_categorical,plot_model\n",
        "#load mnist dataset\n",
        "\n",
        "(x_train,y_train),(x_test,y_test)=mnist.load_data()\n",
        "\n",
        "\n",
        "num_labels=len(np.unique(y_train))\n",
        "\n",
        "#convert to one_hot vector\n",
        "\n",
        "y_train=to_categorical(y_train)\n",
        "y_test=to_categorical(y_test)\n",
        "\n",
        "#input image dimensions\n",
        "\n",
        "image_size=x_train.shape[1]\n",
        "#resize and normalize\n",
        "\n",
        "x_train=np.reshape(x_train,[-1,image_size,image_size])\n",
        "\n",
        "\n",
        "x_test=np.reshape(x_test,[-1,image_size,image_size])\n",
        "x_train=x_train.astype('float32')/255\n",
        "x_test=x_test.astype('float32')/255\n",
        "\n",
        "#network parameters\n",
        "\n",
        "#image is processed as is (square grayscale)\n",
        "\n",
        "input_shape=(image_size,image_size,1)\n",
        "\n",
        "batch_size=128\n",
        "\n",
        "kernel_size=3\n",
        "\n",
        "pool_size=2\n",
        "\n",
        "filters=64\n",
        "\n",
        "dropout=0.2\n",
        "\n",
        "#model is stack of CNN_RELU_MaxPooling\n",
        "\n",
        "model=Sequential()\n",
        "model.add(Conv2D(filters=filters,\n",
        "                 kernel_size=kernel_size,\n",
        "                 \n",
        "                 activation='relu',\n",
        "                 input_shape=input_shape))\n",
        "model.add(MaxPooling2D(pool_size))\n",
        "model.add(Conv2D(filters=filters,kernel_size=kernel_size,\n",
        "                 activation='relu'))\n",
        "model.add(Flatten())\n",
        "#dropout added as regualizer\n",
        "model.add(Dropout(dropout))\n",
        "#output layer is 10-dim onehot vector\n",
        "\n",
        "model.add(Dense(num_labels))\n",
        "model.add(Activation('softmax'))\n",
        "model.summary()"
      ]
    },
    {
      "cell_type": "code",
      "source": [
        "plot_model(model,to_file='cnn-mnist.png',show_shapes=True)\n",
        "#loss function for one-hot vector\n",
        "#use adam optimizer\n",
        "#accuracy is good metric for classification tasks\n",
        "model.compile(loss='categorical_crossentropy',\n",
        "              optimizer='adam',\n",
        "              metrics=['accuracy'])\n",
        "#tran the network\n",
        "\n",
        "model.fit(x_train,y_train,epochs=10,batch_size=batch_size)\n",
        "\n",
        "_,acc=model.evaluate(x_test,y_test,batch_size=batch_size,verbose=0)\n",
        "print('\\n Test accuracy: %.1f %%' % (100*acc))"
      ],
      "metadata": {
        "colab": {
          "base_uri": "https://localhost:8080/"
        },
        "id": "sWYF1pBNHaFq",
        "outputId": "1826fd52-142a-40db-c915-2c47596da597"
      },
      "execution_count": 4,
      "outputs": [
        {
          "output_type": "stream",
          "name": "stdout",
          "text": [
            "Epoch 1/10\n",
            "469/469 [==============================] - 14s 10ms/step - loss: 0.2036 - accuracy: 0.9410\n",
            "Epoch 2/10\n",
            "469/469 [==============================] - 5s 10ms/step - loss: 0.0597 - accuracy: 0.9818\n",
            "Epoch 3/10\n",
            "469/469 [==============================] - 5s 10ms/step - loss: 0.0433 - accuracy: 0.9869\n",
            "Epoch 4/10\n",
            "469/469 [==============================] - 5s 10ms/step - loss: 0.0346 - accuracy: 0.9889\n",
            "Epoch 5/10\n",
            "469/469 [==============================] - 5s 10ms/step - loss: 0.0281 - accuracy: 0.9912\n",
            "Epoch 6/10\n",
            "469/469 [==============================] - 5s 10ms/step - loss: 0.0250 - accuracy: 0.9920\n",
            "Epoch 7/10\n",
            "469/469 [==============================] - 5s 10ms/step - loss: 0.0196 - accuracy: 0.9939\n",
            "Epoch 8/10\n",
            "469/469 [==============================] - 5s 10ms/step - loss: 0.0178 - accuracy: 0.9943\n",
            "Epoch 9/10\n",
            "469/469 [==============================] - 5s 10ms/step - loss: 0.0151 - accuracy: 0.9950\n",
            "Epoch 10/10\n",
            "469/469 [==============================] - 5s 10ms/step - loss: 0.0125 - accuracy: 0.9956\n",
            "\n",
            " Test accuracy: 99.0 %\n"
          ]
        }
      ]
    },
    {
      "cell_type": "code",
      "source": [
        ""
      ],
      "metadata": {
        "id": "ACvrdnB3IVTy"
      },
      "execution_count": null,
      "outputs": []
    }
  ]
}