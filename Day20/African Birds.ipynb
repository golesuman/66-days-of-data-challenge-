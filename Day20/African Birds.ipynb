{
 "cells": [
  {
   "cell_type": "code",
   "execution_count": 1,
   "metadata": {
    "scrolled": true
   },
   "outputs": [
    {
     "name": "stderr",
     "output_type": "stream",
     "text": [
      "2021-07-22 14:48:53.280852: W tensorflow/stream_executor/platform/default/dso_loader.cc:64] Could not load dynamic library 'libcudart.so.11.0'; dlerror: libcudart.so.11.0: cannot open shared object file: No such file or directory\n",
      "2021-07-22 14:48:53.280916: I tensorflow/stream_executor/cuda/cudart_stub.cc:29] Ignore above cudart dlerror if you do not have a GPU set up on your machine.\n"
     ]
    }
   ],
   "source": [
    "import pandas as pd\n",
    "import tensorflow as tf\n",
    "from tensorflow.keras import layers,models\n",
    "import numpy as np\n",
    "import matplotlib.pyplot as plt\n",
    "import os\n",
    "import cv2 as cv"
   ]
  },
  {
   "cell_type": "code",
   "execution_count": 2,
   "metadata": {
    "scrolled": true
   },
   "outputs": [
    {
     "data": {
      "text/plain": [
       "'/media/suman/649EF25A9EF223E8/Machine Learning/Deep learning Algorithms/Birds'"
      ]
     },
     "execution_count": 2,
     "metadata": {},
     "output_type": "execute_result"
    }
   ],
   "source": [
    "os.getcwd()"
   ]
  },
  {
   "cell_type": "code",
   "execution_count": 3,
   "metadata": {},
   "outputs": [],
   "source": [
    "import pickle\n",
    "X=pickle.load(open('X.pickle','rb'))\n",
    "Y=pickle.load(open('Y.pickle','rb'))\n",
    "X=X.reshape(-1,100,100,1)"
   ]
  },
  {
   "cell_type": "code",
   "execution_count": 4,
   "metadata": {},
   "outputs": [
    {
     "name": "stderr",
     "output_type": "stream",
     "text": [
      "2021-07-22 14:49:34.083651: I tensorflow/stream_executor/platform/default/dso_loader.cc:53] Successfully opened dynamic library libcuda.so.1\n",
      "2021-07-22 14:49:34.135447: E tensorflow/stream_executor/cuda/cuda_driver.cc:328] failed call to cuInit: CUDA_ERROR_NO_DEVICE: no CUDA-capable device is detected\n",
      "2021-07-22 14:49:34.135475: I tensorflow/stream_executor/cuda/cuda_diagnostics.cc:156] kernel driver does not appear to be running on this host (sumangole): /proc/driver/nvidia/version does not exist\n",
      "2021-07-22 14:49:34.135880: I tensorflow/core/platform/cpu_feature_guard.cc:142] This TensorFlow binary is optimized with oneAPI Deep Neural Network Library (oneDNN) to use the following CPU instructions in performance-critical operations:  AVX2 FMA\n",
      "To enable them in other operations, rebuild TensorFlow with the appropriate compiler flags.\n"
     ]
    }
   ],
   "source": [
    "model=models.Sequential([\n",
    "    layers.Conv2D(64,(3,3),input_shape=(100,100,1),activation='relu'),\n",
    "    layers.MaxPool2D(3,3),\n",
    "    \n",
    "    layers.Conv2D(64,(3,3),activation='relu'),\n",
    "    layers.MaxPool2D(3,3),\n",
    "    \n",
    "    layers.Conv2D(64,(3,3),activation='relu'),\n",
    "    layers.MaxPool2D(3,3),\n",
    "    \n",
    "    layers.Flatten(),\n",
    "    layers.Dense(1000,activation='relu'),\n",
    "    layers.Dense(275,activation='softmax')\n",
    "    \n",
    "])"
   ]
  },
  {
   "cell_type": "code",
   "execution_count": 5,
   "metadata": {
    "scrolled": true
   },
   "outputs": [],
   "source": [
    "model.compile(optimizer='adam',loss='sparse_categorical_crossentropy',metrics=['accuracy'])"
   ]
  },
  {
   "cell_type": "code",
   "execution_count": null,
   "metadata": {},
   "outputs": [
    {
     "name": "stderr",
     "output_type": "stream",
     "text": [
      "2021-07-22 14:49:34.934164: W tensorflow/core/framework/cpu_allocator_impl.cc:80] Allocation of 1574560000 exceeds 10% of free system memory.\n",
      "2021-07-22 14:49:35.626492: I tensorflow/compiler/mlir/mlir_graph_optimization_pass.cc:176] None of the MLIR Optimization Passes are enabled (registered 2)\n",
      "2021-07-22 14:49:35.650673: I tensorflow/core/platform/profile_utils/cpu_utils.cc:114] CPU Frequency: 1800000000 Hz\n"
     ]
    },
    {
     "name": "stdout",
     "output_type": "stream",
     "text": [
      "Epoch 1/10\n",
      "   1/1231 [..............................] - ETA: 10:42 - loss: 5.6121 - accuracy: 0.0000e+00"
     ]
    },
    {
     "name": "stderr",
     "output_type": "stream",
     "text": [
      "2021-07-22 14:49:36.036575: W tensorflow/core/framework/cpu_allocator_impl.cc:80] Allocation of 78675968 exceeds 10% of free system memory.\n",
      "2021-07-22 14:49:36.117643: W tensorflow/core/framework/cpu_allocator_impl.cc:80] Allocation of 15040512 exceeds 10% of free system memory.\n",
      "2021-07-22 14:49:36.118013: W tensorflow/core/framework/cpu_allocator_impl.cc:80] Allocation of 15040512 exceeds 10% of free system memory.\n",
      "2021-07-22 14:49:36.123534: W tensorflow/core/framework/cpu_allocator_impl.cc:80] Allocation of 26956800 exceeds 10% of free system memory.\n"
     ]
    },
    {
     "name": "stdout",
     "output_type": "stream",
     "text": [
      "1231/1231 [==============================] - 191s 155ms/step - loss: 4.8358 - accuracy: 0.0664\n",
      "Epoch 2/10\n",
      "1231/1231 [==============================] - 192s 156ms/step - loss: 3.6322 - accuracy: 0.2276\n",
      "Epoch 3/10\n",
      "1231/1231 [==============================] - 199s 162ms/step - loss: 2.9849 - accuracy: 0.3379\n",
      "Epoch 4/10\n",
      "1231/1231 [==============================] - 206s 167ms/step - loss: 2.5195 - accuracy: 0.4239\n",
      "Epoch 5/10\n",
      "1231/1231 [==============================] - 205s 167ms/step - loss: 2.1181 - accuracy: 0.4954\n",
      "Epoch 6/10\n",
      "1231/1231 [==============================] - 203s 165ms/step - loss: 1.7768 - accuracy: 0.5624\n",
      "Epoch 7/10\n",
      "1231/1231 [==============================] - 207s 168ms/step - loss: 1.4703 - accuracy: 0.6251\n",
      "Epoch 8/10\n",
      " 530/1231 [===========>..................] - ETA: 1:54 - loss: 1.0987 - accuracy: 0.7111"
     ]
    }
   ],
   "source": [
    "hist=model.fit(x=X,y=Y,epochs=10)"
   ]
  },
  {
   "cell_type": "code",
   "execution_count": null,
   "metadata": {},
   "outputs": [],
   "source": []
  }
 ],
 "metadata": {
  "kernelspec": {
   "display_name": "Python 3 (ipykernel)",
   "language": "python",
   "name": "python3"
  },
  "language_info": {
   "codemirror_mode": {
    "name": "ipython",
    "version": 3
   },
   "file_extension": ".py",
   "mimetype": "text/x-python",
   "name": "python",
   "nbconvert_exporter": "python",
   "pygments_lexer": "ipython3",
   "version": "3.8.5"
  }
 },
 "nbformat": 4,
 "nbformat_minor": 4
}
